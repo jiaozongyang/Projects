{
 "cells": [
  {
   "cell_type": "markdown",
   "metadata": {},
   "source": [
    "# Executive Summary"
   ]
  },
  {
   "cell_type": "markdown",
   "metadata": {},
   "source": [
    "The goal of this project is to build supervised models to identify fraudulent events in the credit card transactions of companies in Tenness during the year of 2010. This notebook is divided into following parts:  <br />\n",
    "<pre>\n",
    "    1. Executive Summary\n",
    "    2. Exploratory Data Analysis\n",
    "    3. Data Cleaning\n",
    "    4. Feature Engineering\n",
    "    5. Feature Selection\n",
    "    6. Models\n",
    "    7. Results\n",
    "</pre>"
   ]
  },
  {
   "cell_type": "markdown",
   "metadata": {},
   "source": [
    "# Exploratory Data Analysis"
   ]
  },
  {
   "cell_type": "code",
   "execution_count": 71,
   "metadata": {
    "ExecuteTime": {
     "end_time": "2019-08-28T22:19:46.637688Z",
     "start_time": "2019-08-28T22:19:46.632854Z"
    }
   },
   "outputs": [],
   "source": [
    "import numpy as np\n",
    "import pandas as pd\n",
    "import matplotlib.pyplot as plt\n",
    "import seaborn as sns\n",
    "%matplotlib inline"
   ]
  },
  {
   "cell_type": "code",
   "execution_count": 2,
   "metadata": {
    "ExecuteTime": {
     "end_time": "2019-08-28T21:58:32.875454Z",
     "start_time": "2019-08-28T21:58:20.652274Z"
    }
   },
   "outputs": [],
   "source": [
    "df = pd.read_excel('cardtransactions.xlsx')"
   ]
  },
  {
   "cell_type": "code",
   "execution_count": 3,
   "metadata": {
    "ExecuteTime": {
     "end_time": "2019-08-28T21:58:32.914580Z",
     "start_time": "2019-08-28T21:58:32.877328Z"
    }
   },
   "outputs": [
    {
     "data": {
      "text/html": [
       "<div>\n",
       "<style scoped>\n",
       "    .dataframe tbody tr th:only-of-type {\n",
       "        vertical-align: middle;\n",
       "    }\n",
       "\n",
       "    .dataframe tbody tr th {\n",
       "        vertical-align: top;\n",
       "    }\n",
       "\n",
       "    .dataframe thead th {\n",
       "        text-align: right;\n",
       "    }\n",
       "</style>\n",
       "<table border=\"1\" class=\"dataframe\">\n",
       "  <thead>\n",
       "    <tr style=\"text-align: right;\">\n",
       "      <th></th>\n",
       "      <th>Recnum</th>\n",
       "      <th>Cardnum</th>\n",
       "      <th>Date</th>\n",
       "      <th>Merchnum</th>\n",
       "      <th>Merch description</th>\n",
       "      <th>Merch state</th>\n",
       "      <th>Merch zip</th>\n",
       "      <th>Transtype</th>\n",
       "      <th>Amount</th>\n",
       "      <th>Fraud</th>\n",
       "    </tr>\n",
       "  </thead>\n",
       "  <tbody>\n",
       "    <tr>\n",
       "      <th>0</th>\n",
       "      <td>1</td>\n",
       "      <td>5142190439</td>\n",
       "      <td>2010-01-01</td>\n",
       "      <td>5509006296254</td>\n",
       "      <td>FEDEX SHP 12/23/09 AB#</td>\n",
       "      <td>TN</td>\n",
       "      <td>38118.0</td>\n",
       "      <td>P</td>\n",
       "      <td>3.62</td>\n",
       "      <td>0</td>\n",
       "    </tr>\n",
       "    <tr>\n",
       "      <th>1</th>\n",
       "      <td>2</td>\n",
       "      <td>5142183973</td>\n",
       "      <td>2010-01-01</td>\n",
       "      <td>61003026333</td>\n",
       "      <td>SERVICE MERCHANDISE #81</td>\n",
       "      <td>MA</td>\n",
       "      <td>1803.0</td>\n",
       "      <td>P</td>\n",
       "      <td>31.42</td>\n",
       "      <td>0</td>\n",
       "    </tr>\n",
       "    <tr>\n",
       "      <th>2</th>\n",
       "      <td>3</td>\n",
       "      <td>5142131721</td>\n",
       "      <td>2010-01-01</td>\n",
       "      <td>4503082993600</td>\n",
       "      <td>OFFICE DEPOT #191</td>\n",
       "      <td>MD</td>\n",
       "      <td>20706.0</td>\n",
       "      <td>P</td>\n",
       "      <td>178.49</td>\n",
       "      <td>0</td>\n",
       "    </tr>\n",
       "    <tr>\n",
       "      <th>3</th>\n",
       "      <td>4</td>\n",
       "      <td>5142148452</td>\n",
       "      <td>2010-01-01</td>\n",
       "      <td>5509006296254</td>\n",
       "      <td>FEDEX SHP 12/28/09 AB#</td>\n",
       "      <td>TN</td>\n",
       "      <td>38118.0</td>\n",
       "      <td>P</td>\n",
       "      <td>3.62</td>\n",
       "      <td>0</td>\n",
       "    </tr>\n",
       "    <tr>\n",
       "      <th>4</th>\n",
       "      <td>5</td>\n",
       "      <td>5142190439</td>\n",
       "      <td>2010-01-01</td>\n",
       "      <td>5509006296254</td>\n",
       "      <td>FEDEX SHP 12/23/09 AB#</td>\n",
       "      <td>TN</td>\n",
       "      <td>38118.0</td>\n",
       "      <td>P</td>\n",
       "      <td>3.62</td>\n",
       "      <td>0</td>\n",
       "    </tr>\n",
       "  </tbody>\n",
       "</table>\n",
       "</div>"
      ],
      "text/plain": [
       "   Recnum     Cardnum       Date       Merchnum        Merch description  \\\n",
       "0       1  5142190439 2010-01-01  5509006296254   FEDEX SHP 12/23/09 AB#   \n",
       "1       2  5142183973 2010-01-01    61003026333  SERVICE MERCHANDISE #81   \n",
       "2       3  5142131721 2010-01-01  4503082993600        OFFICE DEPOT #191   \n",
       "3       4  5142148452 2010-01-01  5509006296254   FEDEX SHP 12/28/09 AB#   \n",
       "4       5  5142190439 2010-01-01  5509006296254   FEDEX SHP 12/23/09 AB#   \n",
       "\n",
       "  Merch state  Merch zip Transtype  Amount  Fraud  \n",
       "0          TN    38118.0         P    3.62      0  \n",
       "1          MA     1803.0         P   31.42      0  \n",
       "2          MD    20706.0         P  178.49      0  \n",
       "3          TN    38118.0         P    3.62      0  \n",
       "4          TN    38118.0         P    3.62      0  "
      ]
     },
     "execution_count": 3,
     "metadata": {},
     "output_type": "execute_result"
    }
   ],
   "source": [
    "df.head()"
   ]
  },
  {
   "cell_type": "code",
   "execution_count": 4,
   "metadata": {
    "ExecuteTime": {
     "end_time": "2019-08-28T21:58:32.925499Z",
     "start_time": "2019-08-28T21:58:32.918308Z"
    }
   },
   "outputs": [
    {
     "name": "stdout",
     "output_type": "stream",
     "text": [
      "The dataset has 96753 rows and 10 columns.\n"
     ]
    }
   ],
   "source": [
    "print(\"The dataset has\", df.shape[0], \"rows and\", df.shape[1],\"columns.\" )"
   ]
  },
  {
   "cell_type": "code",
   "execution_count": 5,
   "metadata": {
    "ExecuteTime": {
     "end_time": "2019-08-28T21:58:32.963505Z",
     "start_time": "2019-08-28T21:58:32.928801Z"
    },
    "scrolled": true
   },
   "outputs": [
    {
     "name": "stdout",
     "output_type": "stream",
     "text": [
      "<class 'pandas.core.frame.DataFrame'>\n",
      "RangeIndex: 96753 entries, 0 to 96752\n",
      "Data columns (total 10 columns):\n",
      "Recnum               96753 non-null int64\n",
      "Cardnum              96753 non-null int64\n",
      "Date                 96753 non-null datetime64[ns]\n",
      "Merchnum             93378 non-null object\n",
      "Merch description    96753 non-null object\n",
      "Merch state          95558 non-null object\n",
      "Merch zip            92097 non-null float64\n",
      "Transtype            96753 non-null object\n",
      "Amount               96753 non-null float64\n",
      "Fraud                96753 non-null int64\n",
      "dtypes: datetime64[ns](1), float64(2), int64(3), object(4)\n",
      "memory usage: 7.4+ MB\n"
     ]
    }
   ],
   "source": [
    "df.info()"
   ]
  },
  {
   "cell_type": "markdown",
   "metadata": {
    "ExecuteTime": {
     "end_time": "2019-08-21T20:37:58.203510Z",
     "start_time": "2019-08-21T20:37:57.651832Z"
    }
   },
   "source": [
    "## Cardnum"
   ]
  },
  {
   "cell_type": "code",
   "execution_count": 6,
   "metadata": {
    "ExecuteTime": {
     "end_time": "2019-08-28T21:58:32.974079Z",
     "start_time": "2019-08-28T21:58:32.965451Z"
    }
   },
   "outputs": [
    {
     "data": {
      "text/plain": [
       "5142148452    1192\n",
       "5142184598     921\n",
       "5142189108     663\n",
       "5142297710     583\n",
       "5142223373     579\n",
       "Name: Cardnum, dtype: int64"
      ]
     },
     "execution_count": 6,
     "metadata": {},
     "output_type": "execute_result"
    }
   ],
   "source": [
    "# The number of transactions under each card number\n",
    "df['Cardnum'].value_counts().head()"
   ]
  },
  {
   "cell_type": "code",
   "execution_count": 7,
   "metadata": {
    "ExecuteTime": {
     "end_time": "2019-08-28T21:58:32.981707Z",
     "start_time": "2019-08-28T21:58:32.975720Z"
    }
   },
   "outputs": [
    {
     "name": "stdout",
     "output_type": "stream",
     "text": [
      "There are 1645 unique card number in the dataset\n"
     ]
    }
   ],
   "source": [
    "# The number of unique card number in the dataset\n",
    "print(\"There are\", len(df['Cardnum'].unique()), \"unique card number in the dataset\")"
   ]
  },
  {
   "cell_type": "markdown",
   "metadata": {},
   "source": [
    "## Date"
   ]
  },
  {
   "cell_type": "code",
   "execution_count": 8,
   "metadata": {
    "ExecuteTime": {
     "end_time": "2019-08-28T21:58:32.992758Z",
     "start_time": "2019-08-28T21:58:32.983704Z"
    }
   },
   "outputs": [
    {
     "data": {
      "text/plain": [
       "2010-02-28    684\n",
       "2010-08-10    610\n",
       "2010-03-15    594\n",
       "2010-09-13    564\n",
       "2010-08-09    536\n",
       "Name: Date, dtype: int64"
      ]
     },
     "execution_count": 8,
     "metadata": {},
     "output_type": "execute_result"
    }
   ],
   "source": [
    "df['Date'].value_counts().head()"
   ]
  },
  {
   "cell_type": "code",
   "execution_count": 9,
   "metadata": {
    "ExecuteTime": {
     "end_time": "2019-08-28T21:58:33.146277Z",
     "start_time": "2019-08-28T21:58:32.994641Z"
    }
   },
   "outputs": [
    {
     "name": "stderr",
     "output_type": "stream",
     "text": [
      "/anaconda3/lib/python3.6/site-packages/pandas/plotting/_converter.py:129: FutureWarning: Using an implicitly registered datetime converter for a matplotlib plotting method. The converter was registered by pandas on import. Future versions of pandas will require you to explicitly register matplotlib converters.\n",
      "\n",
      "To register the converters:\n",
      "\t>>> from pandas.plotting import register_matplotlib_converters\n",
      "\t>>> register_matplotlib_converters()\n",
      "  warnings.warn(msg, FutureWarning)\n"
     ]
    },
    {
     "data": {
      "image/png": "[encoded data removed]",
      "text/plain": [
       "<Figure size 432x288 with 1 Axes>"
      ]
     },
     "metadata": {
      "needs_background": "light"
     },
     "output_type": "display_data"
    }
   ],
   "source": [
    "# The number of transactions by date\n",
    "plt.plot(df['Date'].value_counts().sort_index());"
   ]
  },
  {
   "cell_type": "code",
   "execution_count": 10,
   "metadata": {
    "ExecuteTime": {
     "end_time": "2019-08-28T21:58:33.155388Z",
     "start_time": "2019-08-28T21:58:33.148000Z"
    }
   },
   "outputs": [
    {
     "name": "stdout",
     "output_type": "stream",
     "text": [
      "There are 365 days in the dataset\n"
     ]
    }
   ],
   "source": [
    "print(\"There are\", len(df['Date'].unique()), \"days in the dataset\")"
   ]
  },
  {
   "cell_type": "markdown",
   "metadata": {},
   "source": [
    "## Merchant Number"
   ]
  },
  {
   "cell_type": "code",
   "execution_count": 11,
   "metadata": {
    "ExecuteTime": {
     "end_time": "2019-08-28T21:58:33.187707Z",
     "start_time": "2019-08-28T21:58:33.159278Z"
    }
   },
   "outputs": [
    {
     "data": {
      "text/plain": [
       "930090121224     9310\n",
       "5509006296254    2131\n",
       "9900020006406    1714\n",
       "602608969534     1092\n",
       "4353000719908    1020\n",
       "Name: Merchnum, dtype: int64"
      ]
     },
     "execution_count": 11,
     "metadata": {},
     "output_type": "execute_result"
    }
   ],
   "source": [
    "df['Merchnum'].value_counts().head()"
   ]
  },
  {
   "cell_type": "code",
   "execution_count": 12,
   "metadata": {
    "ExecuteTime": {
     "end_time": "2019-08-28T21:58:33.214999Z",
     "start_time": "2019-08-28T21:58:33.189837Z"
    }
   },
   "outputs": [
    {
     "data": {
      "text/html": [
       "<div>\n",
       "<style scoped>\n",
       "    .dataframe tbody tr th:only-of-type {\n",
       "        vertical-align: middle;\n",
       "    }\n",
       "\n",
       "    .dataframe tbody tr th {\n",
       "        vertical-align: top;\n",
       "    }\n",
       "\n",
       "    .dataframe thead th {\n",
       "        text-align: right;\n",
       "    }\n",
       "</style>\n",
       "<table border=\"1\" class=\"dataframe\">\n",
       "  <thead>\n",
       "    <tr style=\"text-align: right;\">\n",
       "      <th></th>\n",
       "      <th>Recnum</th>\n",
       "      <th>Cardnum</th>\n",
       "      <th>Date</th>\n",
       "      <th>Merchnum</th>\n",
       "      <th>Merch description</th>\n",
       "      <th>Merch state</th>\n",
       "      <th>Merch zip</th>\n",
       "      <th>Transtype</th>\n",
       "      <th>Amount</th>\n",
       "      <th>Fraud</th>\n",
       "    </tr>\n",
       "  </thead>\n",
       "  <tbody>\n",
       "    <tr>\n",
       "      <th>97</th>\n",
       "      <td>98</td>\n",
       "      <td>5142167414</td>\n",
       "      <td>2010-01-03</td>\n",
       "      <td>NaN</td>\n",
       "      <td>CONVENIENCE CHECK FEE(%)</td>\n",
       "      <td>NaN</td>\n",
       "      <td>NaN</td>\n",
       "      <td>D</td>\n",
       "      <td>89.00</td>\n",
       "      <td>0</td>\n",
       "    </tr>\n",
       "    <tr>\n",
       "      <th>115</th>\n",
       "      <td>116</td>\n",
       "      <td>5142182128</td>\n",
       "      <td>2010-01-03</td>\n",
       "      <td>NaN</td>\n",
       "      <td>GRAINGER #973</td>\n",
       "      <td>IL</td>\n",
       "      <td>60089.0</td>\n",
       "      <td>P</td>\n",
       "      <td>327.34</td>\n",
       "      <td>0</td>\n",
       "    </tr>\n",
       "    <tr>\n",
       "      <th>135</th>\n",
       "      <td>136</td>\n",
       "      <td>5142126842</td>\n",
       "      <td>2010-01-03</td>\n",
       "      <td>NaN</td>\n",
       "      <td>AUTOMATED OFFICE PRODU</td>\n",
       "      <td>MD</td>\n",
       "      <td>20706.0</td>\n",
       "      <td>P</td>\n",
       "      <td>2110.00</td>\n",
       "      <td>0</td>\n",
       "    </tr>\n",
       "    <tr>\n",
       "      <th>163</th>\n",
       "      <td>164</td>\n",
       "      <td>5142127276</td>\n",
       "      <td>2010-01-03</td>\n",
       "      <td>NaN</td>\n",
       "      <td>CONVENIENCE CHECK FEE(%)</td>\n",
       "      <td>NaN</td>\n",
       "      <td>NaN</td>\n",
       "      <td>D</td>\n",
       "      <td>4444.00</td>\n",
       "      <td>0</td>\n",
       "    </tr>\n",
       "    <tr>\n",
       "      <th>168</th>\n",
       "      <td>169</td>\n",
       "      <td>5142132574</td>\n",
       "      <td>2010-01-03</td>\n",
       "      <td>NaN</td>\n",
       "      <td>ROLL CALL NEWSPAPER</td>\n",
       "      <td>DC</td>\n",
       "      <td>20001.0</td>\n",
       "      <td>P</td>\n",
       "      <td>104.69</td>\n",
       "      <td>0</td>\n",
       "    </tr>\n",
       "  </tbody>\n",
       "</table>\n",
       "</div>"
      ],
      "text/plain": [
       "     Recnum     Cardnum       Date Merchnum         Merch description  \\\n",
       "97       98  5142167414 2010-01-03      NaN  CONVENIENCE CHECK FEE(%)   \n",
       "115     116  5142182128 2010-01-03      NaN             GRAINGER #973   \n",
       "135     136  5142126842 2010-01-03      NaN    AUTOMATED OFFICE PRODU   \n",
       "163     164  5142127276 2010-01-03      NaN  CONVENIENCE CHECK FEE(%)   \n",
       "168     169  5142132574 2010-01-03      NaN       ROLL CALL NEWSPAPER   \n",
       "\n",
       "    Merch state  Merch zip Transtype   Amount  Fraud  \n",
       "97          NaN        NaN         D    89.00      0  \n",
       "115          IL    60089.0         P   327.34      0  \n",
       "135          MD    20706.0         P  2110.00      0  \n",
       "163         NaN        NaN         D  4444.00      0  \n",
       "168          DC    20001.0         P   104.69      0  "
      ]
     },
     "execution_count": 12,
     "metadata": {},
     "output_type": "execute_result"
    }
   ],
   "source": [
    "df[df['Merchnum'].isnull()].head()"
   ]
  },
  {
   "cell_type": "code",
   "execution_count": 13,
   "metadata": {
    "ExecuteTime": {
     "end_time": "2019-08-28T21:58:33.230513Z",
     "start_time": "2019-08-28T21:58:33.216790Z"
    }
   },
   "outputs": [
    {
     "name": "stdout",
     "output_type": "stream",
     "text": [
      "There are 13092 merchants in the dataset.\n"
     ]
    }
   ],
   "source": [
    "print(\"There are\", len(df['Merchnum'].unique()), \"merchants in the dataset.\")"
   ]
  },
  {
   "cell_type": "code",
   "execution_count": 14,
   "metadata": {
    "ExecuteTime": {
     "end_time": "2019-08-28T21:58:33.248371Z",
     "start_time": "2019-08-28T21:58:33.232507Z"
    }
   },
   "outputs": [
    {
     "name": "stdout",
     "output_type": "stream",
     "text": [
      "There are 3375 NAs in merchant number.\n"
     ]
    }
   ],
   "source": [
    "print(\"There are\",sum(df['Merchnum'].isnull()),\"NAs in merchant number.\")"
   ]
  },
  {
   "cell_type": "markdown",
   "metadata": {},
   "source": [
    "## Merch State"
   ]
  },
  {
   "cell_type": "code",
   "execution_count": 15,
   "metadata": {
    "ExecuteTime": {
     "end_time": "2019-08-28T21:58:33.263282Z",
     "start_time": "2019-08-28T21:58:33.250392Z"
    }
   },
   "outputs": [
    {
     "data": {
      "text/plain": [
       "TN    12035\n",
       "VA     7872\n",
       "CA     6817\n",
       "IL     6508\n",
       "MD     5398\n",
       "Name: Merch state, dtype: int64"
      ]
     },
     "execution_count": 15,
     "metadata": {},
     "output_type": "execute_result"
    }
   ],
   "source": [
    "df['Merch state'].value_counts().head()"
   ]
  },
  {
   "cell_type": "code",
   "execution_count": 16,
   "metadata": {
    "ExecuteTime": {
     "end_time": "2019-08-28T21:58:33.283873Z",
     "start_time": "2019-08-28T21:58:33.265389Z"
    }
   },
   "outputs": [
    {
     "data": {
      "text/html": [
       "<div>\n",
       "<style scoped>\n",
       "    .dataframe tbody tr th:only-of-type {\n",
       "        vertical-align: middle;\n",
       "    }\n",
       "\n",
       "    .dataframe tbody tr th {\n",
       "        vertical-align: top;\n",
       "    }\n",
       "\n",
       "    .dataframe thead th {\n",
       "        text-align: right;\n",
       "    }\n",
       "</style>\n",
       "<table border=\"1\" class=\"dataframe\">\n",
       "  <thead>\n",
       "    <tr style=\"text-align: right;\">\n",
       "      <th></th>\n",
       "      <th>Recnum</th>\n",
       "      <th>Cardnum</th>\n",
       "      <th>Date</th>\n",
       "      <th>Merchnum</th>\n",
       "      <th>Merch description</th>\n",
       "      <th>Merch state</th>\n",
       "      <th>Merch zip</th>\n",
       "      <th>Transtype</th>\n",
       "      <th>Amount</th>\n",
       "      <th>Fraud</th>\n",
       "    </tr>\n",
       "  </thead>\n",
       "  <tbody>\n",
       "    <tr>\n",
       "      <th>97</th>\n",
       "      <td>98</td>\n",
       "      <td>5142167414</td>\n",
       "      <td>2010-01-03</td>\n",
       "      <td>NaN</td>\n",
       "      <td>CONVENIENCE CHECK FEE(%)</td>\n",
       "      <td>NaN</td>\n",
       "      <td>NaN</td>\n",
       "      <td>D</td>\n",
       "      <td>89.00</td>\n",
       "      <td>0</td>\n",
       "    </tr>\n",
       "    <tr>\n",
       "      <th>163</th>\n",
       "      <td>164</td>\n",
       "      <td>5142127276</td>\n",
       "      <td>2010-01-03</td>\n",
       "      <td>NaN</td>\n",
       "      <td>CONVENIENCE CHECK FEE(%)</td>\n",
       "      <td>NaN</td>\n",
       "      <td>NaN</td>\n",
       "      <td>D</td>\n",
       "      <td>4444.00</td>\n",
       "      <td>0</td>\n",
       "    </tr>\n",
       "    <tr>\n",
       "      <th>262</th>\n",
       "      <td>263</td>\n",
       "      <td>5142257575</td>\n",
       "      <td>2010-01-04</td>\n",
       "      <td>NaN</td>\n",
       "      <td>RETAIL DEBIT ADJUSTMENT</td>\n",
       "      <td>NaN</td>\n",
       "      <td>NaN</td>\n",
       "      <td>P</td>\n",
       "      <td>320.00</td>\n",
       "      <td>0</td>\n",
       "    </tr>\n",
       "    <tr>\n",
       "      <th>272</th>\n",
       "      <td>273</td>\n",
       "      <td>5142124791</td>\n",
       "      <td>2010-01-04</td>\n",
       "      <td>NaN</td>\n",
       "      <td>RETAIL DEBIT ADJUSTMENT</td>\n",
       "      <td>NaN</td>\n",
       "      <td>NaN</td>\n",
       "      <td>P</td>\n",
       "      <td>970.00</td>\n",
       "      <td>0</td>\n",
       "    </tr>\n",
       "    <tr>\n",
       "      <th>400</th>\n",
       "      <td>401</td>\n",
       "      <td>5142276099</td>\n",
       "      <td>2010-01-04</td>\n",
       "      <td>NaN</td>\n",
       "      <td>RETAIL DEBIT ADJUSTMENT</td>\n",
       "      <td>NaN</td>\n",
       "      <td>NaN</td>\n",
       "      <td>P</td>\n",
       "      <td>82.59</td>\n",
       "      <td>0</td>\n",
       "    </tr>\n",
       "  </tbody>\n",
       "</table>\n",
       "</div>"
      ],
      "text/plain": [
       "     Recnum     Cardnum       Date Merchnum         Merch description  \\\n",
       "97       98  5142167414 2010-01-03      NaN  CONVENIENCE CHECK FEE(%)   \n",
       "163     164  5142127276 2010-01-03      NaN  CONVENIENCE CHECK FEE(%)   \n",
       "262     263  5142257575 2010-01-04      NaN   RETAIL DEBIT ADJUSTMENT   \n",
       "272     273  5142124791 2010-01-04      NaN   RETAIL DEBIT ADJUSTMENT   \n",
       "400     401  5142276099 2010-01-04      NaN   RETAIL DEBIT ADJUSTMENT   \n",
       "\n",
       "    Merch state  Merch zip Transtype   Amount  Fraud  \n",
       "97          NaN        NaN         D    89.00      0  \n",
       "163         NaN        NaN         D  4444.00      0  \n",
       "262         NaN        NaN         P   320.00      0  \n",
       "272         NaN        NaN         P   970.00      0  \n",
       "400         NaN        NaN         P    82.59      0  "
      ]
     },
     "execution_count": 16,
     "metadata": {},
     "output_type": "execute_result"
    }
   ],
   "source": [
    "df[df['Merch state'].isnull()].head()"
   ]
  },
  {
   "cell_type": "code",
   "execution_count": 17,
   "metadata": {
    "ExecuteTime": {
     "end_time": "2019-08-28T21:58:33.293408Z",
     "start_time": "2019-08-28T21:58:33.285798Z"
    }
   },
   "outputs": [
    {
     "name": "stdout",
     "output_type": "stream",
     "text": [
      "There are 228 states in the dataset.\n"
     ]
    }
   ],
   "source": [
    "print(\"There are\",len(df['Merch state'].unique()),\"states in the dataset.\")\n",
    "#Something is wrong with the merchant state column, which needs to be paid attention to at data cleaning"
   ]
  },
  {
   "cell_type": "markdown",
   "metadata": {},
   "source": [
    "## Merch Zip"
   ]
  },
  {
   "cell_type": "code",
   "execution_count": 18,
   "metadata": {
    "ExecuteTime": {
     "end_time": "2019-08-28T21:58:33.312206Z",
     "start_time": "2019-08-28T21:58:33.299614Z"
    }
   },
   "outputs": [
    {
     "data": {
      "text/plain": [
       "38118.0    11868\n",
       "63103.0     1650\n",
       "8701.0      1267\n",
       "22202.0     1250\n",
       "60061.0     1221\n",
       "Name: Merch zip, dtype: int64"
      ]
     },
     "execution_count": 18,
     "metadata": {},
     "output_type": "execute_result"
    }
   ],
   "source": [
    "df['Merch zip'].value_counts().head()"
   ]
  },
  {
   "cell_type": "code",
   "execution_count": 19,
   "metadata": {
    "ExecuteTime": {
     "end_time": "2019-08-28T21:58:33.324021Z",
     "start_time": "2019-08-28T21:58:33.318349Z"
    }
   },
   "outputs": [
    {
     "name": "stdout",
     "output_type": "stream",
     "text": [
      "There are 4568 zip codes in the dataset.\n"
     ]
    }
   ],
   "source": [
    "print(\"There are\", len(df['Merch zip'].unique()), \"zip codes in the dataset.\")"
   ]
  },
  {
   "cell_type": "code",
   "execution_count": 20,
   "metadata": {
    "ExecuteTime": {
     "end_time": "2019-08-28T21:58:33.340966Z",
     "start_time": "2019-08-28T21:58:33.325949Z"
    }
   },
   "outputs": [
    {
     "data": {
      "text/html": [
       "<div>\n",
       "<style scoped>\n",
       "    .dataframe tbody tr th:only-of-type {\n",
       "        vertical-align: middle;\n",
       "    }\n",
       "\n",
       "    .dataframe tbody tr th {\n",
       "        vertical-align: top;\n",
       "    }\n",
       "\n",
       "    .dataframe thead th {\n",
       "        text-align: right;\n",
       "    }\n",
       "</style>\n",
       "<table border=\"1\" class=\"dataframe\">\n",
       "  <thead>\n",
       "    <tr style=\"text-align: right;\">\n",
       "      <th></th>\n",
       "      <th>Recnum</th>\n",
       "      <th>Cardnum</th>\n",
       "      <th>Date</th>\n",
       "      <th>Merchnum</th>\n",
       "      <th>Merch description</th>\n",
       "      <th>Merch state</th>\n",
       "      <th>Merch zip</th>\n",
       "      <th>Transtype</th>\n",
       "      <th>Amount</th>\n",
       "      <th>Fraud</th>\n",
       "    </tr>\n",
       "  </thead>\n",
       "  <tbody>\n",
       "    <tr>\n",
       "      <th>51</th>\n",
       "      <td>52</td>\n",
       "      <td>5142204384</td>\n",
       "      <td>2010-01-02</td>\n",
       "      <td>5000006000095</td>\n",
       "      <td>IBM INTERNET  01000025</td>\n",
       "      <td>NY</td>\n",
       "      <td>NaN</td>\n",
       "      <td>P</td>\n",
       "      <td>20.15</td>\n",
       "      <td>0</td>\n",
       "    </tr>\n",
       "    <tr>\n",
       "      <th>54</th>\n",
       "      <td>55</td>\n",
       "      <td>5142146340</td>\n",
       "      <td>2010-01-02</td>\n",
       "      <td>5000006000095</td>\n",
       "      <td>IBM INTERNET  01000025</td>\n",
       "      <td>NY</td>\n",
       "      <td>NaN</td>\n",
       "      <td>P</td>\n",
       "      <td>23.90</td>\n",
       "      <td>0</td>\n",
       "    </tr>\n",
       "    <tr>\n",
       "      <th>55</th>\n",
       "      <td>56</td>\n",
       "      <td>5142260984</td>\n",
       "      <td>2010-01-02</td>\n",
       "      <td>5000006000095</td>\n",
       "      <td>IBM INTERNET  01000025</td>\n",
       "      <td>NY</td>\n",
       "      <td>NaN</td>\n",
       "      <td>P</td>\n",
       "      <td>19.95</td>\n",
       "      <td>0</td>\n",
       "    </tr>\n",
       "    <tr>\n",
       "      <th>58</th>\n",
       "      <td>59</td>\n",
       "      <td>5142204384</td>\n",
       "      <td>2010-01-02</td>\n",
       "      <td>5000006000095</td>\n",
       "      <td>IBM INTERNET  01000025</td>\n",
       "      <td>NY</td>\n",
       "      <td>NaN</td>\n",
       "      <td>P</td>\n",
       "      <td>20.15</td>\n",
       "      <td>0</td>\n",
       "    </tr>\n",
       "    <tr>\n",
       "      <th>59</th>\n",
       "      <td>60</td>\n",
       "      <td>5142204384</td>\n",
       "      <td>2010-01-02</td>\n",
       "      <td>5000006000095</td>\n",
       "      <td>IBM INTERNET  01000025</td>\n",
       "      <td>NY</td>\n",
       "      <td>NaN</td>\n",
       "      <td>P</td>\n",
       "      <td>20.15</td>\n",
       "      <td>0</td>\n",
       "    </tr>\n",
       "  </tbody>\n",
       "</table>\n",
       "</div>"
      ],
      "text/plain": [
       "    Recnum     Cardnum       Date       Merchnum       Merch description  \\\n",
       "51      52  5142204384 2010-01-02  5000006000095  IBM INTERNET  01000025   \n",
       "54      55  5142146340 2010-01-02  5000006000095  IBM INTERNET  01000025   \n",
       "55      56  5142260984 2010-01-02  5000006000095  IBM INTERNET  01000025   \n",
       "58      59  5142204384 2010-01-02  5000006000095  IBM INTERNET  01000025   \n",
       "59      60  5142204384 2010-01-02  5000006000095  IBM INTERNET  01000025   \n",
       "\n",
       "   Merch state  Merch zip Transtype  Amount  Fraud  \n",
       "51          NY        NaN         P   20.15      0  \n",
       "54          NY        NaN         P   23.90      0  \n",
       "55          NY        NaN         P   19.95      0  \n",
       "58          NY        NaN         P   20.15      0  \n",
       "59          NY        NaN         P   20.15      0  "
      ]
     },
     "execution_count": 20,
     "metadata": {},
     "output_type": "execute_result"
    }
   ],
   "source": [
    "df[df['Merch zip'].isnull()].head()"
   ]
  },
  {
   "cell_type": "markdown",
   "metadata": {},
   "source": [
    "## Amount"
   ]
  },
  {
   "cell_type": "code",
   "execution_count": 21,
   "metadata": {
    "ExecuteTime": {
     "end_time": "2019-08-28T21:58:33.354300Z",
     "start_time": "2019-08-28T21:58:33.343022Z"
    }
   },
   "outputs": [
    {
     "data": {
      "text/plain": [
       "count    9.675300e+04\n",
       "mean     4.278857e+02\n",
       "std      1.000614e+04\n",
       "min      1.000000e-02\n",
       "25%      3.348000e+01\n",
       "50%      1.379800e+02\n",
       "75%      4.282000e+02\n",
       "max      3.102046e+06\n",
       "Name: Amount, dtype: float64"
      ]
     },
     "execution_count": 21,
     "metadata": {},
     "output_type": "execute_result"
    }
   ],
   "source": [
    "df['Amount'].describe()"
   ]
  },
  {
   "cell_type": "code",
   "execution_count": 22,
   "metadata": {
    "ExecuteTime": {
     "end_time": "2019-08-28T21:58:34.025690Z",
     "start_time": "2019-08-28T21:58:33.356270Z"
    }
   },
   "outputs": [
    {
     "data": {
      "image/png": "[encoded data removed]",
      "text/plain": [
       "<Figure size 432x288 with 1 Axes>"
      ]
     },
     "metadata": {
      "needs_background": "light"
     },
     "output_type": "display_data"
    }
   ],
   "source": [
    "# print the distribution of amount excluding outlier on a log scale \n",
    "plt.hist(df.loc[df['Amount'] != max(df['Amount']),'Amount'])\n",
    "plt.yscale('log')"
   ]
  },
  {
   "cell_type": "markdown",
   "metadata": {},
   "source": [
    "## Fraud"
   ]
  },
  {
   "cell_type": "code",
   "execution_count": 23,
   "metadata": {
    "ExecuteTime": {
     "end_time": "2019-08-28T21:58:34.037323Z",
     "start_time": "2019-08-28T21:58:34.028021Z"
    }
   },
   "outputs": [
    {
     "data": {
      "text/plain": [
       "0    95694\n",
       "1     1059\n",
       "Name: Fraud, dtype: int64"
      ]
     },
     "execution_count": 23,
     "metadata": {},
     "output_type": "execute_result"
    }
   ],
   "source": [
    "# imbalanced dataset with few frauds\n",
    "df['Fraud'].value_counts()"
   ]
  },
  {
   "cell_type": "markdown",
   "metadata": {},
   "source": [
    "# Data Cleaning"
   ]
  },
  {
   "cell_type": "markdown",
   "metadata": {},
   "source": [
    "Some data cleaning to do: <br />\n",
    "<pre>\n",
    "    1. Include only Transaction type of P\n",
    "    2. Exclude the record with max amount\n",
    "    3. Set unusual merchant state as 'other'\n",
    "    4. Fill missing values\n",
    "</pre>"
   ]
  },
  {
   "cell_type": "code",
   "execution_count": 24,
   "metadata": {
    "ExecuteTime": {
     "end_time": "2019-08-28T21:58:34.068290Z",
     "start_time": "2019-08-28T21:58:34.038881Z"
    }
   },
   "outputs": [],
   "source": [
    "df = df[(df['Transtype'] == 'P') & (df['Amount'] != max(df['Amount']))]"
   ]
  },
  {
   "cell_type": "code",
   "execution_count": 25,
   "metadata": {
    "ExecuteTime": {
     "end_time": "2019-08-28T21:58:34.074238Z",
     "start_time": "2019-08-28T21:58:34.070387Z"
    }
   },
   "outputs": [],
   "source": [
    "states = [\"AL\", \"AK\", \"AZ\", \"AR\", \"CA\", \"CO\", \"CT\", \"DC\", \"DE\", \"FL\", \"GA\", \n",
    "          \"HI\", \"ID\", \"IL\", \"IN\", \"IA\", \"KS\", \"KY\", \"LA\", \"ME\", \"MD\", \n",
    "          \"MA\", \"MI\", \"MN\", \"MS\", \"MO\", \"MT\", \"NE\", \"NV\", \"NH\", \"NJ\", \n",
    "          \"NM\", \"NY\", \"NC\", \"ND\", \"OH\", \"OK\", \"OR\", \"PA\", \"RI\", \"SC\", \n",
    "          \"SD\", \"TN\", \"TX\", \"UT\", \"VT\", \"VA\", \"WA\", \"WV\", \"WI\", \"WY\"]"
   ]
  },
  {
   "cell_type": "code",
   "execution_count": 26,
   "metadata": {
    "ExecuteTime": {
     "end_time": "2019-08-28T21:58:34.128655Z",
     "start_time": "2019-08-28T21:58:34.076261Z"
    }
   },
   "outputs": [],
   "source": [
    "df.loc[(~df['Merch state'].isin(states) & (~df['Merch state'].isnull())),'Merch state' ] = 'other'"
   ]
  },
  {
   "cell_type": "code",
   "execution_count": 27,
   "metadata": {
    "ExecuteTime": {
     "end_time": "2019-08-28T21:58:34.140491Z",
     "start_time": "2019-08-28T21:58:34.131471Z"
    }
   },
   "outputs": [
    {
     "data": {
      "text/plain": [
       "53"
      ]
     },
     "execution_count": 27,
     "metadata": {},
     "output_type": "execute_result"
    }
   ],
   "source": [
    "len(df['Merch state'].unique()) # 51 states plus nan and other"
   ]
  },
  {
   "cell_type": "code",
   "execution_count": 28,
   "metadata": {
    "ExecuteTime": {
     "end_time": "2019-08-28T21:58:35.726202Z",
     "start_time": "2019-08-28T21:58:34.143497Z"
    }
   },
   "outputs": [],
   "source": [
    "# fill merch state\n",
    "state_ref = df.groupby('Merch zip')['Merch state'].apply(lambda x: x.mode()).reset_index()\n",
    "state_ref = state_ref[state_ref['level_1']==0].iloc[:,[0,2]]\n",
    "state_ref.columns = ['Merch zip','state ref']"
   ]
  },
  {
   "cell_type": "code",
   "execution_count": 29,
   "metadata": {
    "ExecuteTime": {
     "end_time": "2019-08-28T21:58:35.786111Z",
     "start_time": "2019-08-28T21:58:35.727947Z"
    }
   },
   "outputs": [],
   "source": [
    "df = df.merge(state_ref, on='Merch zip',how='left')\n",
    "df['Merch state'] = df['Merch state'].fillna(df['state ref']).fillna('TN')"
   ]
  },
  {
   "cell_type": "code",
   "execution_count": 30,
   "metadata": {
    "ExecuteTime": {
     "end_time": "2019-08-28T21:58:35.801296Z",
     "start_time": "2019-08-28T21:58:35.788169Z"
    }
   },
   "outputs": [
    {
     "data": {
      "text/plain": [
       "0"
      ]
     },
     "execution_count": 30,
     "metadata": {},
     "output_type": "execute_result"
    }
   ],
   "source": [
    "sum(df['Merch state'].isnull())"
   ]
  },
  {
   "cell_type": "code",
   "execution_count": 31,
   "metadata": {
    "ExecuteTime": {
     "end_time": "2019-08-28T21:58:40.733149Z",
     "start_time": "2019-08-28T21:58:35.803439Z"
    }
   },
   "outputs": [],
   "source": [
    "# fill merch zip\n",
    "zip_ref = df.groupby([\"Merch state\",\"Cardnum\"])['Merch zip'].apply(lambda x: x.mode()).reset_index()\n",
    "zip_ref = zip_ref[zip_ref.level_2==0].iloc[:,[0,1,3]]\n",
    "zip_ref.columns = [\"Merch state\",\"Cardnum\",\"zip ref\"]"
   ]
  },
  {
   "cell_type": "code",
   "execution_count": 32,
   "metadata": {
    "ExecuteTime": {
     "end_time": "2019-08-28T21:58:40.778999Z",
     "start_time": "2019-08-28T21:58:40.734937Z"
    }
   },
   "outputs": [],
   "source": [
    "df = df.merge(zip_ref, on=[\"Merch state\",\"Cardnum\"],how='left')"
   ]
  },
  {
   "cell_type": "code",
   "execution_count": 33,
   "metadata": {
    "ExecuteTime": {
     "end_time": "2019-08-28T21:58:40.834870Z",
     "start_time": "2019-08-28T21:58:40.780650Z"
    }
   },
   "outputs": [],
   "source": [
    "zip_ref2 = df.groupby([\"Merch state\"])['Merch zip'].apply(lambda x: x.mode()).reset_index()\n",
    "zip_ref2 = zip_ref2[zip_ref2.level_1==0].iloc[:,[0,2]]\n",
    "zip_ref2.columns = [\"Merch state\",\"zip ref2\"]"
   ]
  },
  {
   "cell_type": "code",
   "execution_count": 34,
   "metadata": {
    "ExecuteTime": {
     "end_time": "2019-08-28T21:58:40.874334Z",
     "start_time": "2019-08-28T21:58:40.836782Z"
    }
   },
   "outputs": [],
   "source": [
    "df = df = df.merge(zip_ref2, on=[\"Merch state\"],how='left')"
   ]
  },
  {
   "cell_type": "code",
   "execution_count": 35,
   "metadata": {
    "ExecuteTime": {
     "end_time": "2019-08-28T21:58:40.890088Z",
     "start_time": "2019-08-28T21:58:40.876326Z"
    }
   },
   "outputs": [],
   "source": [
    "df['Merch zip'] = df['Merch zip'].fillna(df['zip ref']).fillna(df['zip ref2']).fillna(df['Merch zip'].mode().values[0])"
   ]
  },
  {
   "cell_type": "code",
   "execution_count": 36,
   "metadata": {
    "ExecuteTime": {
     "end_time": "2019-08-28T21:58:40.903001Z",
     "start_time": "2019-08-28T21:58:40.891756Z"
    }
   },
   "outputs": [
    {
     "data": {
      "text/plain": [
       "0"
      ]
     },
     "execution_count": 36,
     "metadata": {},
     "output_type": "execute_result"
    }
   ],
   "source": [
    "sum(df['Merch zip'].isnull())"
   ]
  },
  {
   "cell_type": "code",
   "execution_count": 37,
   "metadata": {
    "ExecuteTime": {
     "end_time": "2019-08-28T21:58:46.808237Z",
     "start_time": "2019-08-28T21:58:40.906396Z"
    }
   },
   "outputs": [],
   "source": [
    "merch_ref = df.groupby(['Merch state','Cardnum'])['Merchnum'].apply(lambda x: x.mode()).reset_index()\n",
    "merch_ref = merch_ref[merch_ref.level_2 == 0].iloc[:,[0,1,3]]\n",
    "merch_ref.columns = [\"Merch state\",\"Cardnum\",\"merch ref\"]\n",
    "\n",
    "df = df.merge(merch_ref, on=['Merch state','Cardnum'],how='left')\n",
    "\n",
    "merch_ref2 = df.groupby(['Merch state'])['Merchnum'].apply(lambda x: x.mode()).reset_index()\n",
    "merch_ref2 = merch_ref2[merch_ref2.level_1 == 0].iloc[:,[0,2]]\n",
    "merch_ref2.columns = [\"Merch state\",\"merch ref2\"]\n",
    "\n",
    "df = df.merge(merch_ref2, on=['Merch state'],how='left')"
   ]
  },
  {
   "cell_type": "code",
   "execution_count": 38,
   "metadata": {
    "ExecuteTime": {
     "end_time": "2019-08-28T21:58:46.855888Z",
     "start_time": "2019-08-28T21:58:46.809910Z"
    }
   },
   "outputs": [],
   "source": [
    "df['Merchnum'] = df['Merchnum'].fillna(df['merch ref']).fillna(df['merch ref2']).fillna(df['Merchnum'].mode().values[0])"
   ]
  },
  {
   "cell_type": "code",
   "execution_count": 39,
   "metadata": {
    "ExecuteTime": {
     "end_time": "2019-08-28T21:58:46.878751Z",
     "start_time": "2019-08-28T21:58:46.858213Z"
    }
   },
   "outputs": [
    {
     "data": {
      "text/plain": [
       "0"
      ]
     },
     "execution_count": 39,
     "metadata": {},
     "output_type": "execute_result"
    }
   ],
   "source": [
    "sum(df['Merchnum'].isnull())"
   ]
  },
  {
   "cell_type": "code",
   "execution_count": 40,
   "metadata": {
    "ExecuteTime": {
     "end_time": "2019-08-28T21:58:46.972136Z",
     "start_time": "2019-08-28T21:58:46.881034Z"
    }
   },
   "outputs": [
    {
     "name": "stdout",
     "output_type": "stream",
     "text": [
      "<class 'pandas.core.frame.DataFrame'>\n",
      "Int64Index: 96397 entries, 0 to 96396\n",
      "Data columns (total 15 columns):\n",
      "Recnum               96397 non-null int64\n",
      "Cardnum              96397 non-null int64\n",
      "Date                 96397 non-null datetime64[ns]\n",
      "Merchnum             96397 non-null object\n",
      "Merch description    96397 non-null object\n",
      "Merch state          96397 non-null object\n",
      "Merch zip            96397 non-null float64\n",
      "Transtype            96397 non-null object\n",
      "Amount               96397 non-null float64\n",
      "Fraud                96397 non-null int64\n",
      "state ref            92030 non-null object\n",
      "zip ref              95195 non-null float64\n",
      "zip ref2             96205 non-null float64\n",
      "merch ref            95336 non-null object\n",
      "merch ref2           96397 non-null object\n",
      "dtypes: datetime64[ns](1), float64(4), int64(3), object(7)\n",
      "memory usage: 11.8+ MB\n"
     ]
    }
   ],
   "source": [
    "df.info()"
   ]
  },
  {
   "cell_type": "code",
   "execution_count": 41,
   "metadata": {
    "ExecuteTime": {
     "end_time": "2019-08-28T21:58:46.985702Z",
     "start_time": "2019-08-28T21:58:46.974185Z"
    }
   },
   "outputs": [],
   "source": [
    "df = df.drop(columns=['state ref','zip ref','zip ref2','merch ref','merch ref2','Merch description','Transtype'])"
   ]
  },
  {
   "cell_type": "code",
   "execution_count": 63,
   "metadata": {
    "ExecuteTime": {
     "end_time": "2019-08-28T21:29:52.457336Z",
     "start_time": "2019-08-28T21:29:52.442609Z"
    }
   },
   "outputs": [
    {
     "data": {
      "text/html": [
       "<div>\n",
       "<style scoped>\n",
       "    .dataframe tbody tr th:only-of-type {\n",
       "        vertical-align: middle;\n",
       "    }\n",
       "\n",
       "    .dataframe tbody tr th {\n",
       "        vertical-align: top;\n",
       "    }\n",
       "\n",
       "    .dataframe thead th {\n",
       "        text-align: right;\n",
       "    }\n",
       "</style>\n",
       "<table border=\"1\" class=\"dataframe\">\n",
       "  <thead>\n",
       "    <tr style=\"text-align: right;\">\n",
       "      <th></th>\n",
       "      <th>Recnum</th>\n",
       "      <th>Cardnum</th>\n",
       "      <th>Date</th>\n",
       "      <th>Merchnum</th>\n",
       "      <th>Merch state</th>\n",
       "      <th>Merch zip</th>\n",
       "      <th>Amount</th>\n",
       "      <th>Fraud</th>\n",
       "    </tr>\n",
       "  </thead>\n",
       "  <tbody>\n",
       "    <tr>\n",
       "      <th>0</th>\n",
       "      <td>1</td>\n",
       "      <td>5142190439</td>\n",
       "      <td>2010-01-01</td>\n",
       "      <td>5509006296254</td>\n",
       "      <td>TN</td>\n",
       "      <td>38118.0</td>\n",
       "      <td>3.62</td>\n",
       "      <td>0</td>\n",
       "    </tr>\n",
       "    <tr>\n",
       "      <th>1</th>\n",
       "      <td>2</td>\n",
       "      <td>5142183973</td>\n",
       "      <td>2010-01-01</td>\n",
       "      <td>61003026333</td>\n",
       "      <td>MA</td>\n",
       "      <td>1803.0</td>\n",
       "      <td>31.42</td>\n",
       "      <td>0</td>\n",
       "    </tr>\n",
       "    <tr>\n",
       "      <th>2</th>\n",
       "      <td>3</td>\n",
       "      <td>5142131721</td>\n",
       "      <td>2010-01-01</td>\n",
       "      <td>4503082993600</td>\n",
       "      <td>MD</td>\n",
       "      <td>20706.0</td>\n",
       "      <td>178.49</td>\n",
       "      <td>0</td>\n",
       "    </tr>\n",
       "    <tr>\n",
       "      <th>3</th>\n",
       "      <td>4</td>\n",
       "      <td>5142148452</td>\n",
       "      <td>2010-01-01</td>\n",
       "      <td>5509006296254</td>\n",
       "      <td>TN</td>\n",
       "      <td>38118.0</td>\n",
       "      <td>3.62</td>\n",
       "      <td>0</td>\n",
       "    </tr>\n",
       "    <tr>\n",
       "      <th>4</th>\n",
       "      <td>5</td>\n",
       "      <td>5142190439</td>\n",
       "      <td>2010-01-01</td>\n",
       "      <td>5509006296254</td>\n",
       "      <td>TN</td>\n",
       "      <td>38118.0</td>\n",
       "      <td>3.62</td>\n",
       "      <td>0</td>\n",
       "    </tr>\n",
       "  </tbody>\n",
       "</table>\n",
       "</div>"
      ],
      "text/plain": [
       "   Recnum     Cardnum       Date       Merchnum Merch state  Merch zip  \\\n",
       "0       1  5142190439 2010-01-01  5509006296254          TN    38118.0   \n",
       "1       2  5142183973 2010-01-01    61003026333          MA     1803.0   \n",
       "2       3  5142131721 2010-01-01  4503082993600          MD    20706.0   \n",
       "3       4  5142148452 2010-01-01  5509006296254          TN    38118.0   \n",
       "4       5  5142190439 2010-01-01  5509006296254          TN    38118.0   \n",
       "\n",
       "   Amount  Fraud  \n",
       "0    3.62      0  \n",
       "1   31.42      0  \n",
       "2  178.49      0  \n",
       "3    3.62      0  \n",
       "4    3.62      0  "
      ]
     },
     "execution_count": 63,
     "metadata": {},
     "output_type": "execute_result"
    }
   ],
   "source": [
    "df.head()"
   ]
  },
  {
   "cell_type": "markdown",
   "metadata": {},
   "source": [
    "# Feature Engineering"
   ]
  },
  {
   "cell_type": "markdown",
   "metadata": {},
   "source": [
    "There are four types of variables to create: amount variable, frequency variable, recency variable and velocity change variable. Groups include card number, merchant number, card number and merchant zip code. <br />\n",
    "<pre>\n",
    "Amount Variable: for each group, the average, maximum, total amount over the past 1, 7 and 14 days\n",
    "Frequency Variable: for each group, the number of transactions over the past 1, 7 and 14 days\n",
    "Recency Variable: for each group, the difference between current date and most recent transaction date\n",
    "\n",
    "<pre/>"
   ]
  },
  {
   "cell_type": "code",
   "execution_count": 66,
   "metadata": {
    "ExecuteTime": {
     "end_time": "2019-08-25T20:56:00.720080Z",
     "start_time": "2019-08-25T20:56:00.714936Z"
    }
   },
   "outputs": [],
   "source": [
    "df.set_index('Date',inplace=True)"
   ]
  },
  {
   "cell_type": "code",
   "execution_count": 67,
   "metadata": {
    "ExecuteTime": {
     "end_time": "2019-08-25T20:58:21.169479Z",
     "start_time": "2019-08-25T20:58:21.156320Z"
    }
   },
   "outputs": [
    {
     "data": {
      "text/html": [
       "<div>\n",
       "<style scoped>\n",
       "    .dataframe tbody tr th:only-of-type {\n",
       "        vertical-align: middle;\n",
       "    }\n",
       "\n",
       "    .dataframe tbody tr th {\n",
       "        vertical-align: top;\n",
       "    }\n",
       "\n",
       "    .dataframe thead th {\n",
       "        text-align: right;\n",
       "    }\n",
       "</style>\n",
       "<table border=\"1\" class=\"dataframe\">\n",
       "  <thead>\n",
       "    <tr style=\"text-align: right;\">\n",
       "      <th></th>\n",
       "      <th>Recnum</th>\n",
       "      <th>Cardnum</th>\n",
       "      <th>Merchnum</th>\n",
       "      <th>Merch state</th>\n",
       "      <th>Merch zip</th>\n",
       "      <th>Amount</th>\n",
       "      <th>Fraud</th>\n",
       "    </tr>\n",
       "    <tr>\n",
       "      <th>Date</th>\n",
       "      <th></th>\n",
       "      <th></th>\n",
       "      <th></th>\n",
       "      <th></th>\n",
       "      <th></th>\n",
       "      <th></th>\n",
       "      <th></th>\n",
       "    </tr>\n",
       "  </thead>\n",
       "  <tbody>\n",
       "    <tr>\n",
       "      <th>2010-01-01</th>\n",
       "      <td>1</td>\n",
       "      <td>5142190439</td>\n",
       "      <td>5509006296254</td>\n",
       "      <td>TN</td>\n",
       "      <td>38118.0</td>\n",
       "      <td>3.62</td>\n",
       "      <td>0</td>\n",
       "    </tr>\n",
       "    <tr>\n",
       "      <th>2010-01-01</th>\n",
       "      <td>2</td>\n",
       "      <td>5142183973</td>\n",
       "      <td>61003026333</td>\n",
       "      <td>MA</td>\n",
       "      <td>1803.0</td>\n",
       "      <td>31.42</td>\n",
       "      <td>0</td>\n",
       "    </tr>\n",
       "    <tr>\n",
       "      <th>2010-01-01</th>\n",
       "      <td>3</td>\n",
       "      <td>5142131721</td>\n",
       "      <td>4503082993600</td>\n",
       "      <td>MD</td>\n",
       "      <td>20706.0</td>\n",
       "      <td>178.49</td>\n",
       "      <td>0</td>\n",
       "    </tr>\n",
       "    <tr>\n",
       "      <th>2010-01-01</th>\n",
       "      <td>4</td>\n",
       "      <td>5142148452</td>\n",
       "      <td>5509006296254</td>\n",
       "      <td>TN</td>\n",
       "      <td>38118.0</td>\n",
       "      <td>3.62</td>\n",
       "      <td>0</td>\n",
       "    </tr>\n",
       "    <tr>\n",
       "      <th>2010-01-01</th>\n",
       "      <td>5</td>\n",
       "      <td>5142190439</td>\n",
       "      <td>5509006296254</td>\n",
       "      <td>TN</td>\n",
       "      <td>38118.0</td>\n",
       "      <td>3.62</td>\n",
       "      <td>0</td>\n",
       "    </tr>\n",
       "  </tbody>\n",
       "</table>\n",
       "</div>"
      ],
      "text/plain": [
       "            Recnum     Cardnum       Merchnum Merch state  Merch zip  Amount  \\\n",
       "Date                                                                           \n",
       "2010-01-01       1  5142190439  5509006296254          TN    38118.0    3.62   \n",
       "2010-01-01       2  5142183973    61003026333          MA     1803.0   31.42   \n",
       "2010-01-01       3  5142131721  4503082993600          MD    20706.0  178.49   \n",
       "2010-01-01       4  5142148452  5509006296254          TN    38118.0    3.62   \n",
       "2010-01-01       5  5142190439  5509006296254          TN    38118.0    3.62   \n",
       "\n",
       "            Fraud  \n",
       "Date               \n",
       "2010-01-01      0  \n",
       "2010-01-01      0  \n",
       "2010-01-01      0  \n",
       "2010-01-01      0  \n",
       "2010-01-01      0  "
      ]
     },
     "execution_count": 67,
     "metadata": {},
     "output_type": "execute_result"
    }
   ],
   "source": [
    "df.head()"
   ]
  },
  {
   "cell_type": "markdown",
   "metadata": {},
   "source": [
    "## Amount Variable"
   ]
  },
  {
   "cell_type": "markdown",
   "metadata": {},
   "source": [
    "### By Cardnum"
   ]
  },
  {
   "cell_type": "code",
   "execution_count": 68,
   "metadata": {
    "ExecuteTime": {
     "end_time": "2019-08-25T20:58:32.077877Z",
     "start_time": "2019-08-25T20:58:24.116172Z"
    }
   },
   "outputs": [],
   "source": [
    "avg_card_1 = df.groupby(['Cardnum'])['Amount'].rolling('1d').mean().reset_index()\n",
    "avg_card_1['order'] = avg_card_1.groupby(['Cardnum', 'Date']).cumcount() + 1\n",
    "avg_card_7 = df.groupby(['Cardnum'])['Amount'].rolling('7d').mean().reset_index()\n",
    "avg_card_7['order'] = avg_card_7.groupby(['Cardnum', 'Date']).cumcount() + 1\n",
    "avg_card_14 = df.groupby(['Cardnum'])['Amount'].rolling('14d').mean().reset_index()\n",
    "avg_card_14['order'] = avg_card_14.groupby(['Cardnum', 'Date']).cumcount() + 1\n",
    "\n",
    "max_card_1 = df.groupby(['Cardnum'])['Amount'].rolling('1d').max().reset_index()\n",
    "max_card_1['order'] = max_card_1.groupby(['Cardnum', 'Date']).cumcount() + 1\n",
    "max_card_7 = df.groupby(['Cardnum'])['Amount'].rolling('7d').max().reset_index()\n",
    "max_card_7['order'] = max_card_7.groupby(['Cardnum', 'Date']).cumcount() + 1\n",
    "max_card_14 = df.groupby(['Cardnum'])['Amount'].rolling('14d').max().reset_index()\n",
    "max_card_14['order'] = max_card_14.groupby(['Cardnum', 'Date']).cumcount() + 1\n",
    "\n",
    "sum_card_1 = df.groupby(['Cardnum'])['Amount'].rolling('1d').sum().reset_index()\n",
    "sum_card_1['order'] = sum_card_1.groupby(['Cardnum', 'Date']).cumcount() + 1\n",
    "sum_card_7 = df.groupby(['Cardnum'])['Amount'].rolling('7d').sum().reset_index()\n",
    "sum_card_7['order'] = sum_card_7.groupby(['Cardnum', 'Date']).cumcount() + 1\n",
    "sum_card_14 = df.groupby(['Cardnum'])['Amount'].rolling('14d').sum().reset_index()\n",
    "sum_card_14['order'] = sum_card_14.groupby(['Cardnum', 'Date']).cumcount() + 1"
   ]
  },
  {
   "cell_type": "code",
   "execution_count": 69,
   "metadata": {
    "ExecuteTime": {
     "end_time": "2019-08-25T20:58:33.402920Z",
     "start_time": "2019-08-25T20:58:33.318263Z"
    }
   },
   "outputs": [],
   "source": [
    "card_amount = df.copy()\n",
    "card_amount  = card_amount.reset_index()\n",
    "card_amount['order'] = card_amount.groupby(['Cardnum', 'Date']).cumcount() + 1\n",
    "card_amount = card_amount[['Date','Cardnum','Amount','order']]"
   ]
  },
  {
   "cell_type": "code",
   "execution_count": 70,
   "metadata": {
    "ExecuteTime": {
     "end_time": "2019-08-25T20:58:34.418315Z",
     "start_time": "2019-08-25T20:58:34.130798Z"
    }
   },
   "outputs": [],
   "source": [
    "merged_card_amount = card_amount \\\n",
    ".merge(avg_card_1, on = ['Date', 'Cardnum', 'order'], how = 'left', suffixes=['', '_avg_card_1']) \\\n",
    ".merge(avg_card_7, on = ['Date', 'Cardnum', 'order'], how = 'left', suffixes=['', '_avg_card_7']) \\\n",
    ".merge(avg_card_14, on = ['Date', 'Cardnum', 'order'], how = 'left', suffixes=['', '_avg_card_14']) \\\n",
    ".merge(max_card_1, on = ['Date', 'Cardnum', 'order'], how = 'left', suffixes=['', '_max_card_1'])\\\n",
    ".merge(max_card_7, on = ['Date', 'Cardnum', 'order'], how = 'left', suffixes=['', '_max_card_7']) \\\n",
    ".merge(max_card_14, on = ['Date', 'Cardnum', 'order'], how = 'left', suffixes=['', '_max_card_14']) \\\n",
    ".merge(sum_card_1, on = ['Date', 'Cardnum', 'order'], how = 'left', suffixes=['', '_sum_card_1'])\\\n",
    ".merge(sum_card_7, on = ['Date', 'Cardnum', 'order'], how = 'left', suffixes=['', '_sum_card_7']) \\\n",
    ".merge(sum_card_14, on = ['Date', 'Cardnum', 'order'], how = 'left', suffixes=['', '_sum_card_14']) "
   ]
  },
  {
   "cell_type": "code",
   "execution_count": 71,
   "metadata": {
    "ExecuteTime": {
     "end_time": "2019-08-25T20:58:36.176367Z",
     "start_time": "2019-08-25T20:58:36.158400Z"
    }
   },
   "outputs": [
    {
     "data": {
      "text/html": [
       "<div>\n",
       "<style scoped>\n",
       "    .dataframe tbody tr th:only-of-type {\n",
       "        vertical-align: middle;\n",
       "    }\n",
       "\n",
       "    .dataframe tbody tr th {\n",
       "        vertical-align: top;\n",
       "    }\n",
       "\n",
       "    .dataframe thead th {\n",
       "        text-align: right;\n",
       "    }\n",
       "</style>\n",
       "<table border=\"1\" class=\"dataframe\">\n",
       "  <thead>\n",
       "    <tr style=\"text-align: right;\">\n",
       "      <th></th>\n",
       "      <th>Date</th>\n",
       "      <th>Cardnum</th>\n",
       "      <th>Amount</th>\n",
       "      <th>order</th>\n",
       "      <th>Amount_avg_card_1</th>\n",
       "      <th>Amount_avg_card_7</th>\n",
       "      <th>Amount_avg_card_14</th>\n",
       "      <th>Amount_max_card_1</th>\n",
       "      <th>Amount_max_card_7</th>\n",
       "      <th>Amount_max_card_14</th>\n",
       "      <th>Amount_sum_card_1</th>\n",
       "      <th>Amount_sum_card_7</th>\n",
       "      <th>Amount_sum_card_14</th>\n",
       "    </tr>\n",
       "  </thead>\n",
       "  <tbody>\n",
       "    <tr>\n",
       "      <th>0</th>\n",
       "      <td>2010-01-01</td>\n",
       "      <td>5142190439</td>\n",
       "      <td>3.62</td>\n",
       "      <td>1</td>\n",
       "      <td>3.62</td>\n",
       "      <td>3.62</td>\n",
       "      <td>3.62</td>\n",
       "      <td>3.62</td>\n",
       "      <td>3.62</td>\n",
       "      <td>3.62</td>\n",
       "      <td>3.62</td>\n",
       "      <td>3.62</td>\n",
       "      <td>3.62</td>\n",
       "    </tr>\n",
       "    <tr>\n",
       "      <th>1</th>\n",
       "      <td>2010-01-01</td>\n",
       "      <td>5142183973</td>\n",
       "      <td>31.42</td>\n",
       "      <td>1</td>\n",
       "      <td>31.42</td>\n",
       "      <td>31.42</td>\n",
       "      <td>31.42</td>\n",
       "      <td>31.42</td>\n",
       "      <td>31.42</td>\n",
       "      <td>31.42</td>\n",
       "      <td>31.42</td>\n",
       "      <td>31.42</td>\n",
       "      <td>31.42</td>\n",
       "    </tr>\n",
       "    <tr>\n",
       "      <th>2</th>\n",
       "      <td>2010-01-01</td>\n",
       "      <td>5142131721</td>\n",
       "      <td>178.49</td>\n",
       "      <td>1</td>\n",
       "      <td>178.49</td>\n",
       "      <td>178.49</td>\n",
       "      <td>178.49</td>\n",
       "      <td>178.49</td>\n",
       "      <td>178.49</td>\n",
       "      <td>178.49</td>\n",
       "      <td>178.49</td>\n",
       "      <td>178.49</td>\n",
       "      <td>178.49</td>\n",
       "    </tr>\n",
       "    <tr>\n",
       "      <th>3</th>\n",
       "      <td>2010-01-01</td>\n",
       "      <td>5142148452</td>\n",
       "      <td>3.62</td>\n",
       "      <td>1</td>\n",
       "      <td>3.62</td>\n",
       "      <td>3.62</td>\n",
       "      <td>3.62</td>\n",
       "      <td>3.62</td>\n",
       "      <td>3.62</td>\n",
       "      <td>3.62</td>\n",
       "      <td>3.62</td>\n",
       "      <td>3.62</td>\n",
       "      <td>3.62</td>\n",
       "    </tr>\n",
       "    <tr>\n",
       "      <th>4</th>\n",
       "      <td>2010-01-01</td>\n",
       "      <td>5142190439</td>\n",
       "      <td>3.62</td>\n",
       "      <td>2</td>\n",
       "      <td>3.62</td>\n",
       "      <td>3.62</td>\n",
       "      <td>3.62</td>\n",
       "      <td>3.62</td>\n",
       "      <td>3.62</td>\n",
       "      <td>3.62</td>\n",
       "      <td>7.24</td>\n",
       "      <td>7.24</td>\n",
       "      <td>7.24</td>\n",
       "    </tr>\n",
       "  </tbody>\n",
       "</table>\n",
       "</div>"
      ],
      "text/plain": [
       "        Date     Cardnum  Amount  order  Amount_avg_card_1  Amount_avg_card_7  \\\n",
       "0 2010-01-01  5142190439    3.62      1               3.62               3.62   \n",
       "1 2010-01-01  5142183973   31.42      1              31.42              31.42   \n",
       "2 2010-01-01  5142131721  178.49      1             178.49             178.49   \n",
       "3 2010-01-01  5142148452    3.62      1               3.62               3.62   \n",
       "4 2010-01-01  5142190439    3.62      2               3.62               3.62   \n",
       "\n",
       "   Amount_avg_card_14  Amount_max_card_1  Amount_max_card_7  \\\n",
       "0                3.62               3.62               3.62   \n",
       "1               31.42              31.42              31.42   \n",
       "2              178.49             178.49             178.49   \n",
       "3                3.62               3.62               3.62   \n",
       "4                3.62               3.62               3.62   \n",
       "\n",
       "   Amount_max_card_14  Amount_sum_card_1  Amount_sum_card_7  \\\n",
       "0                3.62               3.62               3.62   \n",
       "1               31.42              31.42              31.42   \n",
       "2              178.49             178.49             178.49   \n",
       "3                3.62               3.62               3.62   \n",
       "4                3.62               7.24               7.24   \n",
       "\n",
       "   Amount_sum_card_14  \n",
       "0                3.62  \n",
       "1               31.42  \n",
       "2              178.49  \n",
       "3                3.62  \n",
       "4                7.24  "
      ]
     },
     "execution_count": 71,
     "metadata": {},
     "output_type": "execute_result"
    }
   ],
   "source": [
    "merged_card_amount.head()"
   ]
  },
  {
   "cell_type": "markdown",
   "metadata": {},
   "source": [
    "### Merchant Number"
   ]
  },
  {
   "cell_type": "code",
   "execution_count": 72,
   "metadata": {
    "ExecuteTime": {
     "end_time": "2019-08-25T20:59:51.452985Z",
     "start_time": "2019-08-25T20:58:46.184888Z"
    }
   },
   "outputs": [],
   "source": [
    "avg_merchant_1 = df.groupby(['Merchnum'])['Amount'].rolling('1d').mean().reset_index()\n",
    "avg_merchant_1['order'] = avg_merchant_1.groupby(['Merchnum', 'Date']).cumcount() + 1\n",
    "avg_merchant_7 = df.groupby(['Merchnum'])['Amount'].rolling('7d').mean().reset_index()\n",
    "avg_merchant_7['order'] = avg_merchant_7.groupby(['Merchnum', 'Date']).cumcount() + 1\n",
    "avg_merchant_14 = df.groupby(['Merchnum'])['Amount'].rolling('14d').mean().reset_index()\n",
    "avg_merchant_14['order'] = avg_merchant_14.groupby(['Merchnum', 'Date']).cumcount() + 1\n",
    "\n",
    "max_merchant_1 = df.groupby(['Merchnum'])['Amount'].rolling('1d').max().reset_index()\n",
    "max_merchant_1['order'] = max_merchant_1.groupby(['Merchnum', 'Date']).cumcount() + 1\n",
    "max_merchant_7 = df.groupby(['Merchnum'])['Amount'].rolling('7d').max().reset_index()\n",
    "max_merchant_7['order'] = max_merchant_7.groupby(['Merchnum', 'Date']).cumcount() + 1\n",
    "max_merchant_14 = df.groupby(['Merchnum'])['Amount'].rolling('14d').max().reset_index()\n",
    "max_merchant_14['order'] = max_merchant_14.groupby(['Merchnum', 'Date']).cumcount() + 1\n",
    "\n",
    "sum_merchant_1 = df.groupby(['Merchnum'])['Amount'].rolling('1d').sum().reset_index()\n",
    "sum_merchant_1['order'] = sum_merchant_1.groupby(['Merchnum', 'Date']).cumcount() + 1\n",
    "sum_merchant_7 = df.groupby(['Merchnum'])['Amount'].rolling('7d').sum().reset_index()\n",
    "sum_merchant_7['order'] = sum_merchant_7.groupby(['Merchnum', 'Date']).cumcount() + 1\n",
    "sum_merchant_14 = df.groupby(['Merchnum'])['Amount'].rolling('14d').sum().reset_index()\n",
    "sum_merchant_14['order'] = sum_merchant_14.groupby(['Merchnum', 'Date']).cumcount() + 1"
   ]
  },
  {
   "cell_type": "code",
   "execution_count": 73,
   "metadata": {
    "ExecuteTime": {
     "end_time": "2019-08-25T21:00:03.408250Z",
     "start_time": "2019-08-25T21:00:03.308391Z"
    }
   },
   "outputs": [],
   "source": [
    "merchant_amount = df.copy()\n",
    "merchant_amount  = merchant_amount.reset_index()\n",
    "merchant_amount['order'] = merchant_amount.groupby(['Merchnum', 'Date']).cumcount() + 1\n",
    "merchant_amount = merchant_amount[['Date','Merchnum','Amount','order']]"
   ]
  },
  {
   "cell_type": "code",
   "execution_count": 74,
   "metadata": {
    "ExecuteTime": {
     "end_time": "2019-08-25T21:00:04.544816Z",
     "start_time": "2019-08-25T21:00:04.178113Z"
    }
   },
   "outputs": [],
   "source": [
    "merged_amount_merchant = merchant_amount \\\n",
    ".merge(avg_merchant_1, on = ['Date', 'Merchnum', 'order'], how = 'left', suffixes=['', '_avg_merchant_1'])\\\n",
    ".merge(avg_merchant_7, on = ['Date', 'Merchnum', 'order'], how = 'left', suffixes=['', '_avg_merchant_7']) \\\n",
    ".merge(avg_merchant_14, on = ['Date', 'Merchnum', 'order'], how = 'left', suffixes=['', '_avg_merchant_14']) \\\n",
    ".merge(max_merchant_1, on = ['Date', 'Merchnum', 'order'], how = 'left', suffixes=['', '_max_merchant_1'])\\\n",
    ".merge(max_merchant_7, on = ['Date', 'Merchnum', 'order'], how = 'left', suffixes=['', '_max_merchant_7']) \\\n",
    ".merge(max_merchant_14, on = ['Date', 'Merchnum', 'order'], how = 'left', suffixes=['', '_max_merchant_14']) \\\n",
    ".merge(sum_merchant_1, on = ['Date', 'Merchnum', 'order'], how = 'left', suffixes=['', '_sum_merchant_1'])\\\n",
    ".merge(sum_merchant_7, on = ['Date', 'Merchnum', 'order'], how = 'left', suffixes=['', '_sum_merchant_7']) \\\n",
    ".merge(sum_merchant_14, on = ['Date', 'Merchnum', 'order'], how = 'left', suffixes=['', '_sum_merchant_14']) "
   ]
  },
  {
   "cell_type": "code",
   "execution_count": 75,
   "metadata": {
    "ExecuteTime": {
     "end_time": "2019-08-25T21:00:06.321902Z",
     "start_time": "2019-08-25T21:00:06.303616Z"
    }
   },
   "outputs": [
    {
     "data": {
      "text/html": [
       "<div>\n",
       "<style scoped>\n",
       "    .dataframe tbody tr th:only-of-type {\n",
       "        vertical-align: middle;\n",
       "    }\n",
       "\n",
       "    .dataframe tbody tr th {\n",
       "        vertical-align: top;\n",
       "    }\n",
       "\n",
       "    .dataframe thead th {\n",
       "        text-align: right;\n",
       "    }\n",
       "</style>\n",
       "<table border=\"1\" class=\"dataframe\">\n",
       "  <thead>\n",
       "    <tr style=\"text-align: right;\">\n",
       "      <th></th>\n",
       "      <th>Date</th>\n",
       "      <th>Merchnum</th>\n",
       "      <th>Amount</th>\n",
       "      <th>order</th>\n",
       "      <th>Amount_avg_merchant_1</th>\n",
       "      <th>Amount_avg_merchant_7</th>\n",
       "      <th>Amount_avg_merchant_14</th>\n",
       "      <th>Amount_max_merchant_1</th>\n",
       "      <th>Amount_max_merchant_7</th>\n",
       "      <th>Amount_max_merchant_14</th>\n",
       "      <th>Amount_sum_merchant_1</th>\n",
       "      <th>Amount_sum_merchant_7</th>\n",
       "      <th>Amount_sum_merchant_14</th>\n",
       "    </tr>\n",
       "  </thead>\n",
       "  <tbody>\n",
       "    <tr>\n",
       "      <th>0</th>\n",
       "      <td>2010-01-01</td>\n",
       "      <td>5509006296254</td>\n",
       "      <td>3.62</td>\n",
       "      <td>1</td>\n",
       "      <td>3.62</td>\n",
       "      <td>3.62</td>\n",
       "      <td>3.62</td>\n",
       "      <td>3.62</td>\n",
       "      <td>3.62</td>\n",
       "      <td>3.62</td>\n",
       "      <td>3.62</td>\n",
       "      <td>3.62</td>\n",
       "      <td>3.62</td>\n",
       "    </tr>\n",
       "    <tr>\n",
       "      <th>1</th>\n",
       "      <td>2010-01-01</td>\n",
       "      <td>61003026333</td>\n",
       "      <td>31.42</td>\n",
       "      <td>1</td>\n",
       "      <td>31.42</td>\n",
       "      <td>31.42</td>\n",
       "      <td>31.42</td>\n",
       "      <td>31.42</td>\n",
       "      <td>31.42</td>\n",
       "      <td>31.42</td>\n",
       "      <td>31.42</td>\n",
       "      <td>31.42</td>\n",
       "      <td>31.42</td>\n",
       "    </tr>\n",
       "    <tr>\n",
       "      <th>2</th>\n",
       "      <td>2010-01-01</td>\n",
       "      <td>4503082993600</td>\n",
       "      <td>178.49</td>\n",
       "      <td>1</td>\n",
       "      <td>178.49</td>\n",
       "      <td>178.49</td>\n",
       "      <td>178.49</td>\n",
       "      <td>178.49</td>\n",
       "      <td>178.49</td>\n",
       "      <td>178.49</td>\n",
       "      <td>178.49</td>\n",
       "      <td>178.49</td>\n",
       "      <td>178.49</td>\n",
       "    </tr>\n",
       "    <tr>\n",
       "      <th>3</th>\n",
       "      <td>2010-01-01</td>\n",
       "      <td>5509006296254</td>\n",
       "      <td>3.62</td>\n",
       "      <td>2</td>\n",
       "      <td>3.62</td>\n",
       "      <td>3.62</td>\n",
       "      <td>3.62</td>\n",
       "      <td>3.62</td>\n",
       "      <td>3.62</td>\n",
       "      <td>3.62</td>\n",
       "      <td>7.24</td>\n",
       "      <td>7.24</td>\n",
       "      <td>7.24</td>\n",
       "    </tr>\n",
       "    <tr>\n",
       "      <th>4</th>\n",
       "      <td>2010-01-01</td>\n",
       "      <td>5509006296254</td>\n",
       "      <td>3.62</td>\n",
       "      <td>3</td>\n",
       "      <td>3.62</td>\n",
       "      <td>3.62</td>\n",
       "      <td>3.62</td>\n",
       "      <td>3.62</td>\n",
       "      <td>3.62</td>\n",
       "      <td>3.62</td>\n",
       "      <td>10.86</td>\n",
       "      <td>10.86</td>\n",
       "      <td>10.86</td>\n",
       "    </tr>\n",
       "  </tbody>\n",
       "</table>\n",
       "</div>"
      ],
      "text/plain": [
       "        Date       Merchnum  Amount  order  Amount_avg_merchant_1  \\\n",
       "0 2010-01-01  5509006296254    3.62      1                   3.62   \n",
       "1 2010-01-01    61003026333   31.42      1                  31.42   \n",
       "2 2010-01-01  4503082993600  178.49      1                 178.49   \n",
       "3 2010-01-01  5509006296254    3.62      2                   3.62   \n",
       "4 2010-01-01  5509006296254    3.62      3                   3.62   \n",
       "\n",
       "   Amount_avg_merchant_7  Amount_avg_merchant_14  Amount_max_merchant_1  \\\n",
       "0                   3.62                    3.62                   3.62   \n",
       "1                  31.42                   31.42                  31.42   \n",
       "2                 178.49                  178.49                 178.49   \n",
       "3                   3.62                    3.62                   3.62   \n",
       "4                   3.62                    3.62                   3.62   \n",
       "\n",
       "   Amount_max_merchant_7  Amount_max_merchant_14  Amount_sum_merchant_1  \\\n",
       "0                   3.62                    3.62                   3.62   \n",
       "1                  31.42                   31.42                  31.42   \n",
       "2                 178.49                  178.49                 178.49   \n",
       "3                   3.62                    3.62                   7.24   \n",
       "4                   3.62                    3.62                  10.86   \n",
       "\n",
       "   Amount_sum_merchant_7  Amount_sum_merchant_14  \n",
       "0                   3.62                    3.62  \n",
       "1                  31.42                   31.42  \n",
       "2                 178.49                  178.49  \n",
       "3                   7.24                    7.24  \n",
       "4                  10.86                   10.86  "
      ]
     },
     "execution_count": 75,
     "metadata": {},
     "output_type": "execute_result"
    }
   ],
   "source": [
    "merged_amount_merchant.head()"
   ]
  },
  {
   "cell_type": "markdown",
   "metadata": {},
   "source": [
    "### Cardnum and Zip code"
   ]
  },
  {
   "cell_type": "code",
   "execution_count": 76,
   "metadata": {
    "ExecuteTime": {
     "end_time": "2019-08-25T21:02:55.603039Z",
     "start_time": "2019-08-25T21:00:11.517289Z"
    }
   },
   "outputs": [],
   "source": [
    "avg_card_zip_1 = df.groupby(['Cardnum', 'Merch zip'])['Amount'].rolling('1d').mean().reset_index()\n",
    "avg_card_zip_1['order'] = avg_card_zip_1.groupby(['Cardnum', 'Merch zip', 'Date']).cumcount() + 1\n",
    "avg_card_zip_7 = df.groupby(['Cardnum', 'Merch zip'])['Amount'].rolling('7d').mean().reset_index()\n",
    "avg_card_zip_7['order'] = avg_card_zip_7.groupby(['Cardnum', 'Merch zip', 'Date']).cumcount() + 1\n",
    "avg_card_zip_14 = df.groupby(['Cardnum', 'Merch zip'])['Amount'].rolling('14d').mean().reset_index()\n",
    "avg_card_zip_14['order'] = avg_card_zip_14.groupby(['Cardnum', 'Merch zip', 'Date']).cumcount() + 1\n",
    "\n",
    "max_card_zip_1 = df.groupby(['Cardnum', 'Merch zip'])['Amount'].rolling('1d').max().reset_index()\n",
    "max_card_zip_1['order'] = max_card_zip_1.groupby(['Cardnum', 'Merch zip', 'Date']).cumcount() + 1\n",
    "max_card_zip_7 = df.groupby(['Cardnum', 'Merch zip'])['Amount'].rolling('7d').max().reset_index()\n",
    "max_card_zip_7['order'] = max_card_zip_7.groupby(['Cardnum', 'Merch zip', 'Date']).cumcount() + 1\n",
    "max_card_zip_14 = df.groupby(['Cardnum', 'Merch zip'])['Amount'].rolling('14d').max().reset_index()\n",
    "max_card_zip_14['order'] = max_card_zip_14.groupby(['Cardnum', 'Merch zip', 'Date']).cumcount() + 1\n",
    "\n",
    "sum_card_zip_1 = df.groupby(['Cardnum', 'Merch zip'])['Amount'].rolling('1d').sum().reset_index()\n",
    "sum_card_zip_1['order'] = sum_card_zip_1.groupby(['Cardnum', 'Merch zip', 'Date']).cumcount() + 1\n",
    "sum_card_zip_7 = df.groupby(['Cardnum', 'Merch zip'])['Amount'].rolling('7d').sum().reset_index()\n",
    "sum_card_zip_7['order'] = sum_card_zip_7.groupby(['Cardnum', 'Merch zip', 'Date']).cumcount() + 1\n",
    "sum_card_zip_14 = df.groupby(['Cardnum', 'Merch zip'])['Amount'].rolling('14d').sum().reset_index()\n",
    "sum_card_zip_14['order'] = sum_card_zip_14.groupby(['Cardnum', 'Merch zip', 'Date']).cumcount() + 1\n"
   ]
  },
  {
   "cell_type": "code",
   "execution_count": 77,
   "metadata": {
    "ExecuteTime": {
     "end_time": "2019-08-25T21:02:56.664233Z",
     "start_time": "2019-08-25T21:02:56.607177Z"
    }
   },
   "outputs": [],
   "source": [
    "card_zip_amount = df.copy()\n",
    "card_zip_amount = card_zip_amount.reset_index()\n",
    "card_zip_amount['order'] = card_zip_amount.groupby(['Cardnum', 'Merch zip', 'Date']).cumcount() + 1\n",
    "card_zip_amount = card_zip_amount[['Date','Merch zip','Cardnum','Amount','order']]"
   ]
  },
  {
   "cell_type": "code",
   "execution_count": 78,
   "metadata": {
    "ExecuteTime": {
     "end_time": "2019-08-25T21:02:57.891827Z",
     "start_time": "2019-08-25T21:02:57.469504Z"
    }
   },
   "outputs": [],
   "source": [
    "merged_card_zip_amount = card_zip_amount \\\n",
    ".merge(avg_card_zip_1, on = ['Date', 'Merch zip', 'Cardnum', 'order'], how = 'left', suffixes=['', '_avg_card_zip_1'])\\\n",
    ".merge(avg_card_zip_7, on = ['Date', 'Merch zip', 'Cardnum', 'order'], how = 'left', suffixes=['', '_avg_card_zip_7']) \\\n",
    ".merge(avg_card_zip_14, on = ['Date', 'Merch zip', 'Cardnum', 'order'], how = 'left', suffixes=['', '_avg_card_zip_14']) \\\n",
    ".merge(max_card_zip_1, on = ['Date', 'Merch zip', 'Cardnum', 'order'], how = 'left', suffixes=['', '_max_card_zip_1'])\\\n",
    ".merge(max_card_zip_7, on = ['Date', 'Merch zip', 'Cardnum', 'order'], how = 'left', suffixes=['', '_max_card_zip_7']) \\\n",
    ".merge(max_card_zip_14, on = ['Date', 'Merch zip', 'Cardnum', 'order'], how = 'left', suffixes=['', '_max_card_zip_14']) \\\n",
    ".merge(sum_card_zip_1, on = ['Date', 'Merch zip', 'Cardnum', 'order'], how = 'left', suffixes=['', '_sum_card_zip_1'])\\\n",
    ".merge(sum_card_zip_7, on = ['Date', 'Merch zip', 'Cardnum', 'order'], how = 'left', suffixes=['', '_sum_card_zip_7']) \\\n",
    ".merge(sum_card_zip_14, on = ['Date', 'Merch zip', 'Cardnum', 'order'], how = 'left', suffixes=['', '_sum_card_zip_14']) "
   ]
  },
  {
   "cell_type": "code",
   "execution_count": 80,
   "metadata": {
    "ExecuteTime": {
     "end_time": "2019-08-25T21:03:05.161387Z",
     "start_time": "2019-08-25T21:03:05.143719Z"
    }
   },
   "outputs": [
    {
     "data": {
      "text/html": [
       "<div>\n",
       "<style scoped>\n",
       "    .dataframe tbody tr th:only-of-type {\n",
       "        vertical-align: middle;\n",
       "    }\n",
       "\n",
       "    .dataframe tbody tr th {\n",
       "        vertical-align: top;\n",
       "    }\n",
       "\n",
       "    .dataframe thead th {\n",
       "        text-align: right;\n",
       "    }\n",
       "</style>\n",
       "<table border=\"1\" class=\"dataframe\">\n",
       "  <thead>\n",
       "    <tr style=\"text-align: right;\">\n",
       "      <th></th>\n",
       "      <th>Date</th>\n",
       "      <th>Merch zip</th>\n",
       "      <th>Cardnum</th>\n",
       "      <th>Amount</th>\n",
       "      <th>order</th>\n",
       "      <th>Amount_avg_card_zip_1</th>\n",
       "      <th>Amount_avg_card_zip_7</th>\n",
       "      <th>Amount_avg_card_zip_14</th>\n",
       "      <th>Amount_max_card_zip_1</th>\n",
       "      <th>Amount_max_card_zip_7</th>\n",
       "      <th>Amount_max_card_zip_14</th>\n",
       "      <th>Amount_sum_card_zip_1</th>\n",
       "      <th>Amount_sum_card_zip_7</th>\n",
       "      <th>Amount_sum_card_zip_14</th>\n",
       "    </tr>\n",
       "  </thead>\n",
       "  <tbody>\n",
       "    <tr>\n",
       "      <th>0</th>\n",
       "      <td>2010-01-01</td>\n",
       "      <td>38118.0</td>\n",
       "      <td>5142190439</td>\n",
       "      <td>3.62</td>\n",
       "      <td>1</td>\n",
       "      <td>3.62</td>\n",
       "      <td>3.62</td>\n",
       "      <td>3.62</td>\n",
       "      <td>3.62</td>\n",
       "      <td>3.62</td>\n",
       "      <td>3.62</td>\n",
       "      <td>3.62</td>\n",
       "      <td>3.62</td>\n",
       "      <td>3.62</td>\n",
       "    </tr>\n",
       "    <tr>\n",
       "      <th>1</th>\n",
       "      <td>2010-01-01</td>\n",
       "      <td>1803.0</td>\n",
       "      <td>5142183973</td>\n",
       "      <td>31.42</td>\n",
       "      <td>1</td>\n",
       "      <td>31.42</td>\n",
       "      <td>31.42</td>\n",
       "      <td>31.42</td>\n",
       "      <td>31.42</td>\n",
       "      <td>31.42</td>\n",
       "      <td>31.42</td>\n",
       "      <td>31.42</td>\n",
       "      <td>31.42</td>\n",
       "      <td>31.42</td>\n",
       "    </tr>\n",
       "    <tr>\n",
       "      <th>2</th>\n",
       "      <td>2010-01-01</td>\n",
       "      <td>20706.0</td>\n",
       "      <td>5142131721</td>\n",
       "      <td>178.49</td>\n",
       "      <td>1</td>\n",
       "      <td>178.49</td>\n",
       "      <td>178.49</td>\n",
       "      <td>178.49</td>\n",
       "      <td>178.49</td>\n",
       "      <td>178.49</td>\n",
       "      <td>178.49</td>\n",
       "      <td>178.49</td>\n",
       "      <td>178.49</td>\n",
       "      <td>178.49</td>\n",
       "    </tr>\n",
       "    <tr>\n",
       "      <th>3</th>\n",
       "      <td>2010-01-01</td>\n",
       "      <td>38118.0</td>\n",
       "      <td>5142148452</td>\n",
       "      <td>3.62</td>\n",
       "      <td>1</td>\n",
       "      <td>3.62</td>\n",
       "      <td>3.62</td>\n",
       "      <td>3.62</td>\n",
       "      <td>3.62</td>\n",
       "      <td>3.62</td>\n",
       "      <td>3.62</td>\n",
       "      <td>3.62</td>\n",
       "      <td>3.62</td>\n",
       "      <td>3.62</td>\n",
       "    </tr>\n",
       "    <tr>\n",
       "      <th>4</th>\n",
       "      <td>2010-01-01</td>\n",
       "      <td>38118.0</td>\n",
       "      <td>5142190439</td>\n",
       "      <td>3.62</td>\n",
       "      <td>2</td>\n",
       "      <td>3.62</td>\n",
       "      <td>3.62</td>\n",
       "      <td>3.62</td>\n",
       "      <td>3.62</td>\n",
       "      <td>3.62</td>\n",
       "      <td>3.62</td>\n",
       "      <td>7.24</td>\n",
       "      <td>7.24</td>\n",
       "      <td>7.24</td>\n",
       "    </tr>\n",
       "  </tbody>\n",
       "</table>\n",
       "</div>"
      ],
      "text/plain": [
       "        Date  Merch zip     Cardnum  Amount  order  Amount_avg_card_zip_1  \\\n",
       "0 2010-01-01    38118.0  5142190439    3.62      1                   3.62   \n",
       "1 2010-01-01     1803.0  5142183973   31.42      1                  31.42   \n",
       "2 2010-01-01    20706.0  5142131721  178.49      1                 178.49   \n",
       "3 2010-01-01    38118.0  5142148452    3.62      1                   3.62   \n",
       "4 2010-01-01    38118.0  5142190439    3.62      2                   3.62   \n",
       "\n",
       "   Amount_avg_card_zip_7  Amount_avg_card_zip_14  Amount_max_card_zip_1  \\\n",
       "0                   3.62                    3.62                   3.62   \n",
       "1                  31.42                   31.42                  31.42   \n",
       "2                 178.49                  178.49                 178.49   \n",
       "3                   3.62                    3.62                   3.62   \n",
       "4                   3.62                    3.62                   3.62   \n",
       "\n",
       "   Amount_max_card_zip_7  Amount_max_card_zip_14  Amount_sum_card_zip_1  \\\n",
       "0                   3.62                    3.62                   3.62   \n",
       "1                  31.42                   31.42                  31.42   \n",
       "2                 178.49                  178.49                 178.49   \n",
       "3                   3.62                    3.62                   3.62   \n",
       "4                   3.62                    3.62                   7.24   \n",
       "\n",
       "   Amount_sum_card_zip_7  Amount_sum_card_zip_14  \n",
       "0                   3.62                    3.62  \n",
       "1                  31.42                   31.42  \n",
       "2                 178.49                  178.49  \n",
       "3                   3.62                    3.62  \n",
       "4                   7.24                    7.24  "
      ]
     },
     "execution_count": 80,
     "metadata": {},
     "output_type": "execute_result"
    }
   ],
   "source": [
    "merged_card_zip_amount.head()"
   ]
  },
  {
   "cell_type": "code",
   "execution_count": 105,
   "metadata": {
    "ExecuteTime": {
     "end_time": "2019-08-25T21:24:36.791351Z",
     "start_time": "2019-08-25T21:24:36.736759Z"
    }
   },
   "outputs": [],
   "source": [
    "Amount = pd.concat([df,merged_card_amount.iloc[:,4:],\n",
    "          merged_amount_merchant.iloc[:,4:],\n",
    "          merged_card_zip_amount.iloc[:,5:]],axis=1)"
   ]
  },
  {
   "cell_type": "markdown",
   "metadata": {},
   "source": [
    "## Frequency Variable"
   ]
  },
  {
   "cell_type": "code",
   "execution_count": 108,
   "metadata": {
    "ExecuteTime": {
     "end_time": "2019-08-25T21:26:33.068751Z",
     "start_time": "2019-08-25T21:26:33.055130Z"
    }
   },
   "outputs": [
    {
     "data": {
      "text/html": [
       "<div>\n",
       "<style scoped>\n",
       "    .dataframe tbody tr th:only-of-type {\n",
       "        vertical-align: middle;\n",
       "    }\n",
       "\n",
       "    .dataframe tbody tr th {\n",
       "        vertical-align: top;\n",
       "    }\n",
       "\n",
       "    .dataframe thead th {\n",
       "        text-align: right;\n",
       "    }\n",
       "</style>\n",
       "<table border=\"1\" class=\"dataframe\">\n",
       "  <thead>\n",
       "    <tr style=\"text-align: right;\">\n",
       "      <th></th>\n",
       "      <th>Recnum</th>\n",
       "      <th>Cardnum</th>\n",
       "      <th>Merchnum</th>\n",
       "      <th>Merch state</th>\n",
       "      <th>Merch zip</th>\n",
       "      <th>Amount</th>\n",
       "      <th>Fraud</th>\n",
       "      <th>order_cardnum</th>\n",
       "      <th>order_merchnum</th>\n",
       "      <th>order_card_zip</th>\n",
       "    </tr>\n",
       "    <tr>\n",
       "      <th>Date</th>\n",
       "      <th></th>\n",
       "      <th></th>\n",
       "      <th></th>\n",
       "      <th></th>\n",
       "      <th></th>\n",
       "      <th></th>\n",
       "      <th></th>\n",
       "      <th></th>\n",
       "      <th></th>\n",
       "      <th></th>\n",
       "    </tr>\n",
       "  </thead>\n",
       "  <tbody>\n",
       "    <tr>\n",
       "      <th>2010-01-01</th>\n",
       "      <td>1</td>\n",
       "      <td>5142190439</td>\n",
       "      <td>5509006296254</td>\n",
       "      <td>TN</td>\n",
       "      <td>38118.0</td>\n",
       "      <td>3.62</td>\n",
       "      <td>0</td>\n",
       "      <td>1</td>\n",
       "      <td>1</td>\n",
       "      <td>1</td>\n",
       "    </tr>\n",
       "    <tr>\n",
       "      <th>2010-01-01</th>\n",
       "      <td>2</td>\n",
       "      <td>5142183973</td>\n",
       "      <td>61003026333</td>\n",
       "      <td>MA</td>\n",
       "      <td>1803.0</td>\n",
       "      <td>31.42</td>\n",
       "      <td>0</td>\n",
       "      <td>1</td>\n",
       "      <td>1</td>\n",
       "      <td>1</td>\n",
       "    </tr>\n",
       "    <tr>\n",
       "      <th>2010-01-01</th>\n",
       "      <td>3</td>\n",
       "      <td>5142131721</td>\n",
       "      <td>4503082993600</td>\n",
       "      <td>MD</td>\n",
       "      <td>20706.0</td>\n",
       "      <td>178.49</td>\n",
       "      <td>0</td>\n",
       "      <td>1</td>\n",
       "      <td>1</td>\n",
       "      <td>1</td>\n",
       "    </tr>\n",
       "    <tr>\n",
       "      <th>2010-01-01</th>\n",
       "      <td>4</td>\n",
       "      <td>5142148452</td>\n",
       "      <td>5509006296254</td>\n",
       "      <td>TN</td>\n",
       "      <td>38118.0</td>\n",
       "      <td>3.62</td>\n",
       "      <td>0</td>\n",
       "      <td>1</td>\n",
       "      <td>2</td>\n",
       "      <td>1</td>\n",
       "    </tr>\n",
       "    <tr>\n",
       "      <th>2010-01-01</th>\n",
       "      <td>5</td>\n",
       "      <td>5142190439</td>\n",
       "      <td>5509006296254</td>\n",
       "      <td>TN</td>\n",
       "      <td>38118.0</td>\n",
       "      <td>3.62</td>\n",
       "      <td>0</td>\n",
       "      <td>2</td>\n",
       "      <td>3</td>\n",
       "      <td>2</td>\n",
       "    </tr>\n",
       "  </tbody>\n",
       "</table>\n",
       "</div>"
      ],
      "text/plain": [
       "            Recnum     Cardnum       Merchnum Merch state  Merch zip  Amount  \\\n",
       "Date                                                                           \n",
       "2010-01-01       1  5142190439  5509006296254          TN    38118.0    3.62   \n",
       "2010-01-01       2  5142183973    61003026333          MA     1803.0   31.42   \n",
       "2010-01-01       3  5142131721  4503082993600          MD    20706.0  178.49   \n",
       "2010-01-01       4  5142148452  5509006296254          TN    38118.0    3.62   \n",
       "2010-01-01       5  5142190439  5509006296254          TN    38118.0    3.62   \n",
       "\n",
       "            Fraud  order_cardnum  order_merchnum  order_card_zip  \n",
       "Date                                                              \n",
       "2010-01-01      0              1               1               1  \n",
       "2010-01-01      0              1               1               1  \n",
       "2010-01-01      0              1               1               1  \n",
       "2010-01-01      0              1               2               1  \n",
       "2010-01-01      0              2               3               2  "
      ]
     },
     "execution_count": 108,
     "metadata": {},
     "output_type": "execute_result"
    }
   ],
   "source": [
    "df.set_index('Date',inplace=True)"
   ]
  },
  {
   "cell_type": "code",
   "execution_count": null,
   "metadata": {},
   "outputs": [],
   "source": [
    "def frequency(df, groupby, timewindow, unique_id=None):\n",
    "    '''\n",
    "    :param df: DataFrame with Date as index, sorted by index\n",
    "    :param groupby: list\n",
    "    :param timewindow: int (day)\n",
    "    :param unique_id: stirng\n",
    "    :return: DataFrame\n",
    "    '''\n",
    "    df_temp = df.copy()\n",
    "    df_temp.sort_index(inplace=True)\n",
    "    df_temp['Count'] = 1\n",
    "    time_name = df_temp.index.name\n",
    "    df_temp['order'] = df_temp.groupby(groupby + [time_name]).cumcount() + 1\n",
    "    time_df = df_temp.groupby(groupby)['Count'].rolling(str(timewindow) + 'd').sum()\n",
    "    time_df = time_df.reset_index()\n",
    "    time_df.rename(columns={'Count': '_'.join(groupby) + '_' + str(timewindow) + '_Count'}, inplace=True)\n",
    "    time_df['order'] = time_df.groupby(groupby + [time_name]).cumcount() + 1\n",
    "    res_df = df_temp.merge(time_df, on=[time_name] + groupby + ['order'])\n",
    "    print('_'.join(groupby) + '_' + str(timewindow) + '_Count' + ' Completed')\n",
    "    if not unique_id:\n",
    "        return res_df\n",
    "    \n",
    "    return res_df[[unique_id, '_'.join(groupby) + '_' + str(timewindow) + '_Count']]"
   ]
  },
  {
   "cell_type": "code",
   "execution_count": 126,
   "metadata": {
    "ExecuteTime": {
     "end_time": "2019-08-25T21:51:11.165460Z",
     "start_time": "2019-08-25T21:51:08.199190Z"
    }
   },
   "outputs": [
    {
     "name": "stdout",
     "output_type": "stream",
     "text": [
      "Cardnum_1_Count Completed\n",
      "Cardnum_7_Count Completed\n",
      "Cardnum_14_Count Completed\n"
     ]
    }
   ],
   "source": [
    "freq_card_1 = frequency(df,['Cardnum'],1,'Recnum')\n",
    "freq_card_7 =  frequency(df,['Cardnum'],7,'Recnum')\n",
    "freq_card_14 =  frequency(df,['Cardnum'],14,'Recnum')"
   ]
  },
  {
   "cell_type": "code",
   "execution_count": 125,
   "metadata": {
    "ExecuteTime": {
     "end_time": "2019-08-25T21:51:01.996445Z",
     "start_time": "2019-08-25T21:50:40.013829Z"
    }
   },
   "outputs": [
    {
     "name": "stdout",
     "output_type": "stream",
     "text": [
      "Merchnum_1_Count Completed\n",
      "Merchnum_7_Count Completed\n",
      "Merchnum_14_Count Completed\n"
     ]
    }
   ],
   "source": [
    "freq_merchant_1 = frequency(df,['Merchnum'],1,'Recnum')\n",
    "freq_merchant_7 = frequency(df,['Merchnum'],7,'Recnum')\n",
    "freq_merchant_14 = frequency(df,['Merchnum'],14,'Recnum')"
   ]
  },
  {
   "cell_type": "code",
   "execution_count": 127,
   "metadata": {
    "ExecuteTime": {
     "end_time": "2019-08-25T21:53:05.422336Z",
     "start_time": "2019-08-25T21:52:08.880157Z"
    }
   },
   "outputs": [
    {
     "name": "stdout",
     "output_type": "stream",
     "text": [
      "Cardnum_Merch zip_1_Count Completed\n",
      "Cardnum_Merch zip_7_Count Completed\n",
      "Cardnum_Merch zip_14_Count Completed\n"
     ]
    }
   ],
   "source": [
    "freq_card_zip_1 = frequency(df,['Cardnum','Merch zip'],1,'Recnum')\n",
    "freq_card_zip_7 = frequency(df,['Cardnum','Merch zip'],7,'Recnum')\n",
    "freq_card_zip_14 = frequency(df,['Cardnum','Merch zip'],14,'Recnum')"
   ]
  },
  {
   "cell_type": "code",
   "execution_count": 140,
   "metadata": {
    "ExecuteTime": {
     "end_time": "2019-08-25T21:58:42.047533Z",
     "start_time": "2019-08-25T21:58:41.884990Z"
    }
   },
   "outputs": [],
   "source": [
    "Frequency = freq_card_1.merge(freq_card_7,on='Recnum').merge(freq_card_14,on='Recnum').\\\n",
    "            merge(freq_merchant_1,on='Recnum'). merge(freq_merchant_7,on='Recnum'). merge(freq_merchant_14,on='Recnum').\\\n",
    "            merge(freq_card_zip_1,on='Recnum').merge(freq_card_zip_7,on='Recnum').merge(freq_card_zip_14,on='Recnum')"
   ]
  },
  {
   "cell_type": "code",
   "execution_count": 141,
   "metadata": {
    "ExecuteTime": {
     "end_time": "2019-08-25T21:58:43.824538Z",
     "start_time": "2019-08-25T21:58:43.809238Z"
    }
   },
   "outputs": [
    {
     "data": {
      "text/html": [
       "<div>\n",
       "<style scoped>\n",
       "    .dataframe tbody tr th:only-of-type {\n",
       "        vertical-align: middle;\n",
       "    }\n",
       "\n",
       "    .dataframe tbody tr th {\n",
       "        vertical-align: top;\n",
       "    }\n",
       "\n",
       "    .dataframe thead th {\n",
       "        text-align: right;\n",
       "    }\n",
       "</style>\n",
       "<table border=\"1\" class=\"dataframe\">\n",
       "  <thead>\n",
       "    <tr style=\"text-align: right;\">\n",
       "      <th></th>\n",
       "      <th>Recnum</th>\n",
       "      <th>Cardnum_1_Count</th>\n",
       "      <th>Cardnum_7_Count</th>\n",
       "      <th>Cardnum_14_Count</th>\n",
       "      <th>Merchnum_1_Count</th>\n",
       "      <th>Merchnum_7_Count</th>\n",
       "      <th>Merchnum_14_Count</th>\n",
       "      <th>Cardnum_Merch zip_1_Count</th>\n",
       "      <th>Cardnum_Merch zip_7_Count</th>\n",
       "      <th>Cardnum_Merch zip_14_Count</th>\n",
       "    </tr>\n",
       "  </thead>\n",
       "  <tbody>\n",
       "    <tr>\n",
       "      <th>0</th>\n",
       "      <td>1</td>\n",
       "      <td>1.0</td>\n",
       "      <td>1.0</td>\n",
       "      <td>1.0</td>\n",
       "      <td>1.0</td>\n",
       "      <td>1.0</td>\n",
       "      <td>1.0</td>\n",
       "      <td>1.0</td>\n",
       "      <td>1.0</td>\n",
       "      <td>1.0</td>\n",
       "    </tr>\n",
       "    <tr>\n",
       "      <th>1</th>\n",
       "      <td>2</td>\n",
       "      <td>1.0</td>\n",
       "      <td>1.0</td>\n",
       "      <td>1.0</td>\n",
       "      <td>1.0</td>\n",
       "      <td>1.0</td>\n",
       "      <td>1.0</td>\n",
       "      <td>1.0</td>\n",
       "      <td>1.0</td>\n",
       "      <td>1.0</td>\n",
       "    </tr>\n",
       "    <tr>\n",
       "      <th>2</th>\n",
       "      <td>3</td>\n",
       "      <td>1.0</td>\n",
       "      <td>1.0</td>\n",
       "      <td>1.0</td>\n",
       "      <td>1.0</td>\n",
       "      <td>1.0</td>\n",
       "      <td>1.0</td>\n",
       "      <td>1.0</td>\n",
       "      <td>1.0</td>\n",
       "      <td>1.0</td>\n",
       "    </tr>\n",
       "    <tr>\n",
       "      <th>3</th>\n",
       "      <td>4</td>\n",
       "      <td>1.0</td>\n",
       "      <td>1.0</td>\n",
       "      <td>1.0</td>\n",
       "      <td>2.0</td>\n",
       "      <td>2.0</td>\n",
       "      <td>2.0</td>\n",
       "      <td>1.0</td>\n",
       "      <td>1.0</td>\n",
       "      <td>1.0</td>\n",
       "    </tr>\n",
       "    <tr>\n",
       "      <th>4</th>\n",
       "      <td>5</td>\n",
       "      <td>2.0</td>\n",
       "      <td>2.0</td>\n",
       "      <td>2.0</td>\n",
       "      <td>3.0</td>\n",
       "      <td>3.0</td>\n",
       "      <td>3.0</td>\n",
       "      <td>2.0</td>\n",
       "      <td>2.0</td>\n",
       "      <td>2.0</td>\n",
       "    </tr>\n",
       "  </tbody>\n",
       "</table>\n",
       "</div>"
      ],
      "text/plain": [
       "   Recnum  Cardnum_1_Count  Cardnum_7_Count  Cardnum_14_Count  \\\n",
       "0       1              1.0              1.0               1.0   \n",
       "1       2              1.0              1.0               1.0   \n",
       "2       3              1.0              1.0               1.0   \n",
       "3       4              1.0              1.0               1.0   \n",
       "4       5              2.0              2.0               2.0   \n",
       "\n",
       "   Merchnum_1_Count  Merchnum_7_Count  Merchnum_14_Count  \\\n",
       "0               1.0               1.0                1.0   \n",
       "1               1.0               1.0                1.0   \n",
       "2               1.0               1.0                1.0   \n",
       "3               2.0               2.0                2.0   \n",
       "4               3.0               3.0                3.0   \n",
       "\n",
       "   Cardnum_Merch zip_1_Count  Cardnum_Merch zip_7_Count  \\\n",
       "0                        1.0                        1.0   \n",
       "1                        1.0                        1.0   \n",
       "2                        1.0                        1.0   \n",
       "3                        1.0                        1.0   \n",
       "4                        2.0                        2.0   \n",
       "\n",
       "   Cardnum_Merch zip_14_Count  \n",
       "0                         1.0  \n",
       "1                         1.0  \n",
       "2                         1.0  \n",
       "3                         1.0  \n",
       "4                         2.0  "
      ]
     },
     "execution_count": 141,
     "metadata": {},
     "output_type": "execute_result"
    }
   ],
   "source": [
    "Frequency.head()"
   ]
  },
  {
   "cell_type": "markdown",
   "metadata": {},
   "source": [
    "## Recency Variable"
   ]
  },
  {
   "cell_type": "code",
   "execution_count": 151,
   "metadata": {
    "ExecuteTime": {
     "end_time": "2019-08-25T22:06:13.340935Z",
     "start_time": "2019-08-25T22:06:13.328848Z"
    }
   },
   "outputs": [
    {
     "data": {
      "text/html": [
       "<div>\n",
       "<style scoped>\n",
       "    .dataframe tbody tr th:only-of-type {\n",
       "        vertical-align: middle;\n",
       "    }\n",
       "\n",
       "    .dataframe tbody tr th {\n",
       "        vertical-align: top;\n",
       "    }\n",
       "\n",
       "    .dataframe thead th {\n",
       "        text-align: right;\n",
       "    }\n",
       "</style>\n",
       "<table border=\"1\" class=\"dataframe\">\n",
       "  <thead>\n",
       "    <tr style=\"text-align: right;\">\n",
       "      <th></th>\n",
       "      <th>Recnum</th>\n",
       "      <th>Cardnum</th>\n",
       "      <th>Merchnum</th>\n",
       "      <th>Merch state</th>\n",
       "      <th>Merch zip</th>\n",
       "      <th>Amount</th>\n",
       "      <th>Fraud</th>\n",
       "    </tr>\n",
       "    <tr>\n",
       "      <th>Date</th>\n",
       "      <th></th>\n",
       "      <th></th>\n",
       "      <th></th>\n",
       "      <th></th>\n",
       "      <th></th>\n",
       "      <th></th>\n",
       "      <th></th>\n",
       "    </tr>\n",
       "  </thead>\n",
       "  <tbody>\n",
       "    <tr>\n",
       "      <th>2010-01-01</th>\n",
       "      <td>1</td>\n",
       "      <td>5142190439</td>\n",
       "      <td>5509006296254</td>\n",
       "      <td>TN</td>\n",
       "      <td>38118.0</td>\n",
       "      <td>3.62</td>\n",
       "      <td>0</td>\n",
       "    </tr>\n",
       "    <tr>\n",
       "      <th>2010-01-01</th>\n",
       "      <td>2</td>\n",
       "      <td>5142183973</td>\n",
       "      <td>61003026333</td>\n",
       "      <td>MA</td>\n",
       "      <td>1803.0</td>\n",
       "      <td>31.42</td>\n",
       "      <td>0</td>\n",
       "    </tr>\n",
       "    <tr>\n",
       "      <th>2010-01-01</th>\n",
       "      <td>3</td>\n",
       "      <td>5142131721</td>\n",
       "      <td>4503082993600</td>\n",
       "      <td>MD</td>\n",
       "      <td>20706.0</td>\n",
       "      <td>178.49</td>\n",
       "      <td>0</td>\n",
       "    </tr>\n",
       "    <tr>\n",
       "      <th>2010-01-01</th>\n",
       "      <td>4</td>\n",
       "      <td>5142148452</td>\n",
       "      <td>5509006296254</td>\n",
       "      <td>TN</td>\n",
       "      <td>38118.0</td>\n",
       "      <td>3.62</td>\n",
       "      <td>0</td>\n",
       "    </tr>\n",
       "    <tr>\n",
       "      <th>2010-01-01</th>\n",
       "      <td>5</td>\n",
       "      <td>5142190439</td>\n",
       "      <td>5509006296254</td>\n",
       "      <td>TN</td>\n",
       "      <td>38118.0</td>\n",
       "      <td>3.62</td>\n",
       "      <td>0</td>\n",
       "    </tr>\n",
       "  </tbody>\n",
       "</table>\n",
       "</div>"
      ],
      "text/plain": [
       "            Recnum     Cardnum       Merchnum Merch state  Merch zip  Amount  \\\n",
       "Date                                                                           \n",
       "2010-01-01       1  5142190439  5509006296254          TN    38118.0    3.62   \n",
       "2010-01-01       2  5142183973    61003026333          MA     1803.0   31.42   \n",
       "2010-01-01       3  5142131721  4503082993600          MD    20706.0  178.49   \n",
       "2010-01-01       4  5142148452  5509006296254          TN    38118.0    3.62   \n",
       "2010-01-01       5  5142190439  5509006296254          TN    38118.0    3.62   \n",
       "\n",
       "            Fraud  \n",
       "Date               \n",
       "2010-01-01      0  \n",
       "2010-01-01      0  \n",
       "2010-01-01      0  \n",
       "2010-01-01      0  \n",
       "2010-01-01      0  "
      ]
     },
     "execution_count": 151,
     "metadata": {},
     "output_type": "execute_result"
    }
   ],
   "source": [
    "df.head()"
   ]
  },
  {
   "cell_type": "code",
   "execution_count": 147,
   "metadata": {
    "ExecuteTime": {
     "end_time": "2019-08-25T22:05:22.481967Z",
     "start_time": "2019-08-25T22:05:22.474828Z"
    }
   },
   "outputs": [],
   "source": [
    "def recency(df, groupby, unique=None):\n",
    "    '''\n",
    "    :param df: DataFrame with Date as index, sorted by index\n",
    "    :param groupby: list\n",
    "    :param unique_id: stirng\n",
    "    :return: DataFrame\n",
    "    '''\n",
    "    df_temp = df.copy()\n",
    "    df_temp.sort_index(inplace = True)\n",
    "    time_name = df_temp.index.name\n",
    "    df_temp.reset_index(inplace = True)\n",
    "   \n",
    "    df_temp = df_temp[[unique_id] + groupby + [time_name]]\n",
    "    df_temp['order'] = df_temp.groupby(groupby).cumcount() + 1\n",
    "    df_temp_right = df_temp.copy()\n",
    "    df_temp_right['order'] = df_temp_right['order'] + 1\n",
    "    df_comb = df_temp.merge(df_temp_right, on = groupby + ['order'])\n",
    "    df_comb['_'.join(groupby) + '_last_time'] = df_comb[time_name + '_x'] - df_comb[time_name + '_y']\n",
    "    df_comb.rename(columns = {unique_id + '_x': unique_id}, inplace = True)\n",
    "    print('_'.join(groupby) + '_last_time' + ' Completed')\n",
    "    return df_comb[[unique_id, '_'.join(groupby) + '_last_time']]"
   ]
  },
  {
   "cell_type": "code",
   "execution_count": 161,
   "metadata": {
    "ExecuteTime": {
     "end_time": "2019-08-25T22:12:32.876558Z",
     "start_time": "2019-08-25T22:12:32.438704Z"
    }
   },
   "outputs": [
    {
     "name": "stdout",
     "output_type": "stream",
     "text": [
      "Cardnum_last_time Completed\n",
      "Merchnum_last_time Completed\n",
      "Cardnum_Merch zip_last_time Completed\n"
     ]
    }
   ],
   "source": [
    "rec_cardnum = recency(df, ['Cardnum'], 'Recnum')\n",
    "rec_merchant = recency(df, ['Merchnum'], 'Recnum')\n",
    "rec_card_zip = recency(df, ['Cardnum','Merch zip'], 'Recnum')"
   ]
  },
  {
   "cell_type": "code",
   "execution_count": 171,
   "metadata": {
    "ExecuteTime": {
     "end_time": "2019-08-25T22:15:33.940059Z",
     "start_time": "2019-08-25T22:15:33.923326Z"
    }
   },
   "outputs": [
    {
     "data": {
      "text/html": [
       "<div>\n",
       "<style scoped>\n",
       "    .dataframe tbody tr th:only-of-type {\n",
       "        vertical-align: middle;\n",
       "    }\n",
       "\n",
       "    .dataframe tbody tr th {\n",
       "        vertical-align: top;\n",
       "    }\n",
       "\n",
       "    .dataframe thead th {\n",
       "        text-align: right;\n",
       "    }\n",
       "</style>\n",
       "<table border=\"1\" class=\"dataframe\">\n",
       "  <thead>\n",
       "    <tr style=\"text-align: right;\">\n",
       "      <th></th>\n",
       "      <th>Recnum</th>\n",
       "      <th>Cardnum_Merch zip_last_time</th>\n",
       "    </tr>\n",
       "  </thead>\n",
       "  <tbody>\n",
       "    <tr>\n",
       "      <th>0</th>\n",
       "      <td>5</td>\n",
       "      <td>0</td>\n",
       "    </tr>\n",
       "    <tr>\n",
       "      <th>1</th>\n",
       "      <td>10</td>\n",
       "      <td>0</td>\n",
       "    </tr>\n",
       "    <tr>\n",
       "      <th>2</th>\n",
       "      <td>12</td>\n",
       "      <td>0</td>\n",
       "    </tr>\n",
       "    <tr>\n",
       "      <th>3</th>\n",
       "      <td>16</td>\n",
       "      <td>0</td>\n",
       "    </tr>\n",
       "    <tr>\n",
       "      <th>4</th>\n",
       "      <td>17</td>\n",
       "      <td>0</td>\n",
       "    </tr>\n",
       "    <tr>\n",
       "      <th>5</th>\n",
       "      <td>21</td>\n",
       "      <td>0</td>\n",
       "    </tr>\n",
       "    <tr>\n",
       "      <th>6</th>\n",
       "      <td>22</td>\n",
       "      <td>0</td>\n",
       "    </tr>\n",
       "    <tr>\n",
       "      <th>7</th>\n",
       "      <td>23</td>\n",
       "      <td>0</td>\n",
       "    </tr>\n",
       "    <tr>\n",
       "      <th>8</th>\n",
       "      <td>28</td>\n",
       "      <td>0</td>\n",
       "    </tr>\n",
       "    <tr>\n",
       "      <th>9</th>\n",
       "      <td>30</td>\n",
       "      <td>0</td>\n",
       "    </tr>\n",
       "    <tr>\n",
       "      <th>10</th>\n",
       "      <td>34</td>\n",
       "      <td>0</td>\n",
       "    </tr>\n",
       "    <tr>\n",
       "      <th>11</th>\n",
       "      <td>37</td>\n",
       "      <td>0</td>\n",
       "    </tr>\n",
       "    <tr>\n",
       "      <th>12</th>\n",
       "      <td>40</td>\n",
       "      <td>0</td>\n",
       "    </tr>\n",
       "    <tr>\n",
       "      <th>13</th>\n",
       "      <td>42</td>\n",
       "      <td>0</td>\n",
       "    </tr>\n",
       "    <tr>\n",
       "      <th>14</th>\n",
       "      <td>44</td>\n",
       "      <td>0</td>\n",
       "    </tr>\n",
       "    <tr>\n",
       "      <th>15</th>\n",
       "      <td>48</td>\n",
       "      <td>0</td>\n",
       "    </tr>\n",
       "    <tr>\n",
       "      <th>16</th>\n",
       "      <td>59</td>\n",
       "      <td>0</td>\n",
       "    </tr>\n",
       "    <tr>\n",
       "      <th>17</th>\n",
       "      <td>60</td>\n",
       "      <td>0</td>\n",
       "    </tr>\n",
       "    <tr>\n",
       "      <th>18</th>\n",
       "      <td>61</td>\n",
       "      <td>0</td>\n",
       "    </tr>\n",
       "    <tr>\n",
       "      <th>19</th>\n",
       "      <td>62</td>\n",
       "      <td>0</td>\n",
       "    </tr>\n",
       "    <tr>\n",
       "      <th>20</th>\n",
       "      <td>65</td>\n",
       "      <td>0</td>\n",
       "    </tr>\n",
       "    <tr>\n",
       "      <th>21</th>\n",
       "      <td>66</td>\n",
       "      <td>0</td>\n",
       "    </tr>\n",
       "    <tr>\n",
       "      <th>22</th>\n",
       "      <td>67</td>\n",
       "      <td>0</td>\n",
       "    </tr>\n",
       "    <tr>\n",
       "      <th>23</th>\n",
       "      <td>69</td>\n",
       "      <td>0</td>\n",
       "    </tr>\n",
       "    <tr>\n",
       "      <th>24</th>\n",
       "      <td>70</td>\n",
       "      <td>0</td>\n",
       "    </tr>\n",
       "    <tr>\n",
       "      <th>25</th>\n",
       "      <td>72</td>\n",
       "      <td>0</td>\n",
       "    </tr>\n",
       "    <tr>\n",
       "      <th>26</th>\n",
       "      <td>73</td>\n",
       "      <td>0</td>\n",
       "    </tr>\n",
       "    <tr>\n",
       "      <th>27</th>\n",
       "      <td>76</td>\n",
       "      <td>0</td>\n",
       "    </tr>\n",
       "    <tr>\n",
       "      <th>28</th>\n",
       "      <td>78</td>\n",
       "      <td>0</td>\n",
       "    </tr>\n",
       "    <tr>\n",
       "      <th>29</th>\n",
       "      <td>100</td>\n",
       "      <td>0</td>\n",
       "    </tr>\n",
       "    <tr>\n",
       "      <th>...</th>\n",
       "      <td>...</td>\n",
       "      <td>...</td>\n",
       "    </tr>\n",
       "    <tr>\n",
       "      <th>63985</th>\n",
       "      <td>96718</td>\n",
       "      <td>286</td>\n",
       "    </tr>\n",
       "    <tr>\n",
       "      <th>63986</th>\n",
       "      <td>96719</td>\n",
       "      <td>29</td>\n",
       "    </tr>\n",
       "    <tr>\n",
       "      <th>63987</th>\n",
       "      <td>96721</td>\n",
       "      <td>16</td>\n",
       "    </tr>\n",
       "    <tr>\n",
       "      <th>63988</th>\n",
       "      <td>96723</td>\n",
       "      <td>2</td>\n",
       "    </tr>\n",
       "    <tr>\n",
       "      <th>63989</th>\n",
       "      <td>96724</td>\n",
       "      <td>8</td>\n",
       "    </tr>\n",
       "    <tr>\n",
       "      <th>63990</th>\n",
       "      <td>96725</td>\n",
       "      <td>15</td>\n",
       "    </tr>\n",
       "    <tr>\n",
       "      <th>63991</th>\n",
       "      <td>96726</td>\n",
       "      <td>0</td>\n",
       "    </tr>\n",
       "    <tr>\n",
       "      <th>63992</th>\n",
       "      <td>96727</td>\n",
       "      <td>24</td>\n",
       "    </tr>\n",
       "    <tr>\n",
       "      <th>63993</th>\n",
       "      <td>96728</td>\n",
       "      <td>4</td>\n",
       "    </tr>\n",
       "    <tr>\n",
       "      <th>63994</th>\n",
       "      <td>96729</td>\n",
       "      <td>0</td>\n",
       "    </tr>\n",
       "    <tr>\n",
       "      <th>63995</th>\n",
       "      <td>96730</td>\n",
       "      <td>331</td>\n",
       "    </tr>\n",
       "    <tr>\n",
       "      <th>63996</th>\n",
       "      <td>96731</td>\n",
       "      <td>43</td>\n",
       "    </tr>\n",
       "    <tr>\n",
       "      <th>63997</th>\n",
       "      <td>96733</td>\n",
       "      <td>0</td>\n",
       "    </tr>\n",
       "    <tr>\n",
       "      <th>63998</th>\n",
       "      <td>96735</td>\n",
       "      <td>139</td>\n",
       "    </tr>\n",
       "    <tr>\n",
       "      <th>63999</th>\n",
       "      <td>96736</td>\n",
       "      <td>0</td>\n",
       "    </tr>\n",
       "    <tr>\n",
       "      <th>64000</th>\n",
       "      <td>96737</td>\n",
       "      <td>1</td>\n",
       "    </tr>\n",
       "    <tr>\n",
       "      <th>64001</th>\n",
       "      <td>96738</td>\n",
       "      <td>327</td>\n",
       "    </tr>\n",
       "    <tr>\n",
       "      <th>64002</th>\n",
       "      <td>96739</td>\n",
       "      <td>8</td>\n",
       "    </tr>\n",
       "    <tr>\n",
       "      <th>64003</th>\n",
       "      <td>96740</td>\n",
       "      <td>55</td>\n",
       "    </tr>\n",
       "    <tr>\n",
       "      <th>64004</th>\n",
       "      <td>96742</td>\n",
       "      <td>46</td>\n",
       "    </tr>\n",
       "    <tr>\n",
       "      <th>64005</th>\n",
       "      <td>96743</td>\n",
       "      <td>9</td>\n",
       "    </tr>\n",
       "    <tr>\n",
       "      <th>64006</th>\n",
       "      <td>96744</td>\n",
       "      <td>149</td>\n",
       "    </tr>\n",
       "    <tr>\n",
       "      <th>64007</th>\n",
       "      <td>96745</td>\n",
       "      <td>0</td>\n",
       "    </tr>\n",
       "    <tr>\n",
       "      <th>64008</th>\n",
       "      <td>96746</td>\n",
       "      <td>2</td>\n",
       "    </tr>\n",
       "    <tr>\n",
       "      <th>64009</th>\n",
       "      <td>96747</td>\n",
       "      <td>324</td>\n",
       "    </tr>\n",
       "    <tr>\n",
       "      <th>64010</th>\n",
       "      <td>96748</td>\n",
       "      <td>0</td>\n",
       "    </tr>\n",
       "    <tr>\n",
       "      <th>64011</th>\n",
       "      <td>96749</td>\n",
       "      <td>37</td>\n",
       "    </tr>\n",
       "    <tr>\n",
       "      <th>64012</th>\n",
       "      <td>96750</td>\n",
       "      <td>11</td>\n",
       "    </tr>\n",
       "    <tr>\n",
       "      <th>64013</th>\n",
       "      <td>96752</td>\n",
       "      <td>26</td>\n",
       "    </tr>\n",
       "    <tr>\n",
       "      <th>64014</th>\n",
       "      <td>96753</td>\n",
       "      <td>2</td>\n",
       "    </tr>\n",
       "  </tbody>\n",
       "</table>\n",
       "<p>64015 rows × 2 columns</p>\n",
       "</div>"
      ],
      "text/plain": [
       "       Recnum  Cardnum_Merch zip_last_time\n",
       "0           5                            0\n",
       "1          10                            0\n",
       "2          12                            0\n",
       "3          16                            0\n",
       "4          17                            0\n",
       "5          21                            0\n",
       "6          22                            0\n",
       "7          23                            0\n",
       "8          28                            0\n",
       "9          30                            0\n",
       "10         34                            0\n",
       "11         37                            0\n",
       "12         40                            0\n",
       "13         42                            0\n",
       "14         44                            0\n",
       "15         48                            0\n",
       "16         59                            0\n",
       "17         60                            0\n",
       "18         61                            0\n",
       "19         62                            0\n",
       "20         65                            0\n",
       "21         66                            0\n",
       "22         67                            0\n",
       "23         69                            0\n",
       "24         70                            0\n",
       "25         72                            0\n",
       "26         73                            0\n",
       "27         76                            0\n",
       "28         78                            0\n",
       "29        100                            0\n",
       "...       ...                          ...\n",
       "63985   96718                          286\n",
       "63986   96719                           29\n",
       "63987   96721                           16\n",
       "63988   96723                            2\n",
       "63989   96724                            8\n",
       "63990   96725                           15\n",
       "63991   96726                            0\n",
       "63992   96727                           24\n",
       "63993   96728                            4\n",
       "63994   96729                            0\n",
       "63995   96730                          331\n",
       "63996   96731                           43\n",
       "63997   96733                            0\n",
       "63998   96735                          139\n",
       "63999   96736                            0\n",
       "64000   96737                            1\n",
       "64001   96738                          327\n",
       "64002   96739                            8\n",
       "64003   96740                           55\n",
       "64004   96742                           46\n",
       "64005   96743                            9\n",
       "64006   96744                          149\n",
       "64007   96745                            0\n",
       "64008   96746                            2\n",
       "64009   96747                          324\n",
       "64010   96748                            0\n",
       "64011   96749                           37\n",
       "64012   96750                           11\n",
       "64013   96752                           26\n",
       "64014   96753                            2\n",
       "\n",
       "[64015 rows x 2 columns]"
      ]
     },
     "execution_count": 171,
     "metadata": {},
     "output_type": "execute_result"
    }
   ],
   "source": [
    "rec_card_zip"
   ]
  },
  {
   "cell_type": "code",
   "execution_count": 170,
   "metadata": {
    "ExecuteTime": {
     "end_time": "2019-08-25T22:15:23.206039Z",
     "start_time": "2019-08-25T22:15:23.197771Z"
    }
   },
   "outputs": [
    {
     "data": {
      "text/plain": [
       "((94754, 2), (83307, 2), (64015, 2))"
      ]
     },
     "execution_count": 170,
     "metadata": {},
     "output_type": "execute_result"
    }
   ],
   "source": [
    "rec_cardnum.shape, rec_merchant.shape, rec_card_zip.shape"
   ]
  },
  {
   "cell_type": "code",
   "execution_count": 164,
   "metadata": {
    "ExecuteTime": {
     "end_time": "2019-08-25T22:13:40.049406Z",
     "start_time": "2019-08-25T22:13:38.022362Z"
    }
   },
   "outputs": [],
   "source": [
    "rec_cardnum['Cardnum_last_time'] = rec_cardnum['Cardnum_last_time'].apply(lambda a : a.days)\n",
    "rec_merchant['Merchnum_last_time'] = rec_merchant['Merchnum_last_time'].apply(lambda a : a.days)\n",
    "rec_card_zip['Cardnum_Merch zip_last_time'] = rec_card_zip['Cardnum_Merch zip_last_time'].apply(lambda a : a.days)"
   ]
  },
  {
   "cell_type": "code",
   "execution_count": 172,
   "metadata": {
    "ExecuteTime": {
     "end_time": "2019-08-26T00:43:51.136048Z",
     "start_time": "2019-08-26T00:43:51.034491Z"
    }
   },
   "outputs": [],
   "source": [
    "Recency = rec_cardnum.merge(rec_merchant,on='Recnum',how='left').merge(rec_card_zip,on='Recnum',how='left')"
   ]
  },
  {
   "cell_type": "code",
   "execution_count": 174,
   "metadata": {
    "ExecuteTime": {
     "end_time": "2019-08-26T00:45:07.175698Z",
     "start_time": "2019-08-26T00:45:07.163451Z"
    }
   },
   "outputs": [],
   "source": [
    "Recency.sort_values('Recnum',inplace=True)"
   ]
  },
  {
   "cell_type": "code",
   "execution_count": 175,
   "metadata": {
    "ExecuteTime": {
     "end_time": "2019-08-26T00:45:13.168900Z",
     "start_time": "2019-08-26T00:45:13.156997Z"
    }
   },
   "outputs": [
    {
     "data": {
      "text/html": [
       "<div>\n",
       "<style scoped>\n",
       "    .dataframe tbody tr th:only-of-type {\n",
       "        vertical-align: middle;\n",
       "    }\n",
       "\n",
       "    .dataframe tbody tr th {\n",
       "        vertical-align: top;\n",
       "    }\n",
       "\n",
       "    .dataframe thead th {\n",
       "        text-align: right;\n",
       "    }\n",
       "</style>\n",
       "<table border=\"1\" class=\"dataframe\">\n",
       "  <thead>\n",
       "    <tr style=\"text-align: right;\">\n",
       "      <th></th>\n",
       "      <th>Recnum</th>\n",
       "      <th>Cardnum_last_time</th>\n",
       "      <th>Merchnum_last_time</th>\n",
       "      <th>Cardnum_Merch zip_last_time</th>\n",
       "    </tr>\n",
       "  </thead>\n",
       "  <tbody>\n",
       "    <tr>\n",
       "      <th>0</th>\n",
       "      <td>5</td>\n",
       "      <td>0</td>\n",
       "      <td>0.0</td>\n",
       "      <td>0.0</td>\n",
       "    </tr>\n",
       "    <tr>\n",
       "      <th>1</th>\n",
       "      <td>10</td>\n",
       "      <td>0</td>\n",
       "      <td>0.0</td>\n",
       "      <td>0.0</td>\n",
       "    </tr>\n",
       "    <tr>\n",
       "      <th>2</th>\n",
       "      <td>12</td>\n",
       "      <td>0</td>\n",
       "      <td>0.0</td>\n",
       "      <td>0.0</td>\n",
       "    </tr>\n",
       "    <tr>\n",
       "      <th>3</th>\n",
       "      <td>16</td>\n",
       "      <td>0</td>\n",
       "      <td>0.0</td>\n",
       "      <td>0.0</td>\n",
       "    </tr>\n",
       "    <tr>\n",
       "      <th>4</th>\n",
       "      <td>17</td>\n",
       "      <td>0</td>\n",
       "      <td>0.0</td>\n",
       "      <td>0.0</td>\n",
       "    </tr>\n",
       "  </tbody>\n",
       "</table>\n",
       "</div>"
      ],
      "text/plain": [
       "   Recnum  Cardnum_last_time  Merchnum_last_time  Cardnum_Merch zip_last_time\n",
       "0       5                  0                 0.0                          0.0\n",
       "1      10                  0                 0.0                          0.0\n",
       "2      12                  0                 0.0                          0.0\n",
       "3      16                  0                 0.0                          0.0\n",
       "4      17                  0                 0.0                          0.0"
      ]
     },
     "execution_count": 175,
     "metadata": {},
     "output_type": "execute_result"
    }
   ],
   "source": [
    "Recency.head()"
   ]
  },
  {
   "cell_type": "code",
   "execution_count": 192,
   "metadata": {
    "ExecuteTime": {
     "end_time": "2019-08-26T00:53:12.183931Z",
     "start_time": "2019-08-26T00:53:12.050304Z"
    }
   },
   "outputs": [],
   "source": [
    "Variables = Amount.merge(Frequency, on='Recnum',how='left').merge(Recency, on='Recnum',how='left')"
   ]
  },
  {
   "cell_type": "code",
   "execution_count": 193,
   "metadata": {
    "ExecuteTime": {
     "end_time": "2019-08-26T00:53:15.352360Z",
     "start_time": "2019-08-26T00:53:15.326510Z"
    }
   },
   "outputs": [
    {
     "data": {
      "text/html": [
       "<div>\n",
       "<style scoped>\n",
       "    .dataframe tbody tr th:only-of-type {\n",
       "        vertical-align: middle;\n",
       "    }\n",
       "\n",
       "    .dataframe tbody tr th {\n",
       "        vertical-align: top;\n",
       "    }\n",
       "\n",
       "    .dataframe thead th {\n",
       "        text-align: right;\n",
       "    }\n",
       "</style>\n",
       "<table border=\"1\" class=\"dataframe\">\n",
       "  <thead>\n",
       "    <tr style=\"text-align: right;\">\n",
       "      <th></th>\n",
       "      <th>Date</th>\n",
       "      <th>Recnum</th>\n",
       "      <th>Cardnum</th>\n",
       "      <th>Merchnum</th>\n",
       "      <th>Merch state</th>\n",
       "      <th>Merch zip</th>\n",
       "      <th>Amount</th>\n",
       "      <th>Fraud</th>\n",
       "      <th>order_cardnum</th>\n",
       "      <th>order_merchnum</th>\n",
       "      <th>...</th>\n",
       "      <th>Cardnum_14_Count</th>\n",
       "      <th>Merchnum_1_Count</th>\n",
       "      <th>Merchnum_7_Count</th>\n",
       "      <th>Merchnum_14_Count</th>\n",
       "      <th>Cardnum_Merch zip_1_Count</th>\n",
       "      <th>Cardnum_Merch zip_7_Count</th>\n",
       "      <th>Cardnum_Merch zip_14_Count</th>\n",
       "      <th>Cardnum_last_time</th>\n",
       "      <th>Merchnum_last_time</th>\n",
       "      <th>Cardnum_Merch zip_last_time</th>\n",
       "    </tr>\n",
       "  </thead>\n",
       "  <tbody>\n",
       "    <tr>\n",
       "      <th>0</th>\n",
       "      <td>2010-01-01</td>\n",
       "      <td>1</td>\n",
       "      <td>5142190439</td>\n",
       "      <td>5509006296254</td>\n",
       "      <td>TN</td>\n",
       "      <td>38118.0</td>\n",
       "      <td>3.62</td>\n",
       "      <td>0</td>\n",
       "      <td>1</td>\n",
       "      <td>1</td>\n",
       "      <td>...</td>\n",
       "      <td>1.0</td>\n",
       "      <td>1.0</td>\n",
       "      <td>1.0</td>\n",
       "      <td>1.0</td>\n",
       "      <td>1.0</td>\n",
       "      <td>1.0</td>\n",
       "      <td>1.0</td>\n",
       "      <td>NaN</td>\n",
       "      <td>NaN</td>\n",
       "      <td>NaN</td>\n",
       "    </tr>\n",
       "    <tr>\n",
       "      <th>1</th>\n",
       "      <td>2010-01-01</td>\n",
       "      <td>2</td>\n",
       "      <td>5142183973</td>\n",
       "      <td>61003026333</td>\n",
       "      <td>MA</td>\n",
       "      <td>1803.0</td>\n",
       "      <td>31.42</td>\n",
       "      <td>0</td>\n",
       "      <td>1</td>\n",
       "      <td>1</td>\n",
       "      <td>...</td>\n",
       "      <td>1.0</td>\n",
       "      <td>1.0</td>\n",
       "      <td>1.0</td>\n",
       "      <td>1.0</td>\n",
       "      <td>1.0</td>\n",
       "      <td>1.0</td>\n",
       "      <td>1.0</td>\n",
       "      <td>NaN</td>\n",
       "      <td>NaN</td>\n",
       "      <td>NaN</td>\n",
       "    </tr>\n",
       "    <tr>\n",
       "      <th>2</th>\n",
       "      <td>2010-01-01</td>\n",
       "      <td>3</td>\n",
       "      <td>5142131721</td>\n",
       "      <td>4503082993600</td>\n",
       "      <td>MD</td>\n",
       "      <td>20706.0</td>\n",
       "      <td>178.49</td>\n",
       "      <td>0</td>\n",
       "      <td>1</td>\n",
       "      <td>1</td>\n",
       "      <td>...</td>\n",
       "      <td>1.0</td>\n",
       "      <td>1.0</td>\n",
       "      <td>1.0</td>\n",
       "      <td>1.0</td>\n",
       "      <td>1.0</td>\n",
       "      <td>1.0</td>\n",
       "      <td>1.0</td>\n",
       "      <td>NaN</td>\n",
       "      <td>NaN</td>\n",
       "      <td>NaN</td>\n",
       "    </tr>\n",
       "    <tr>\n",
       "      <th>3</th>\n",
       "      <td>2010-01-01</td>\n",
       "      <td>4</td>\n",
       "      <td>5142148452</td>\n",
       "      <td>5509006296254</td>\n",
       "      <td>TN</td>\n",
       "      <td>38118.0</td>\n",
       "      <td>3.62</td>\n",
       "      <td>0</td>\n",
       "      <td>1</td>\n",
       "      <td>2</td>\n",
       "      <td>...</td>\n",
       "      <td>1.0</td>\n",
       "      <td>2.0</td>\n",
       "      <td>2.0</td>\n",
       "      <td>2.0</td>\n",
       "      <td>1.0</td>\n",
       "      <td>1.0</td>\n",
       "      <td>1.0</td>\n",
       "      <td>NaN</td>\n",
       "      <td>NaN</td>\n",
       "      <td>NaN</td>\n",
       "    </tr>\n",
       "    <tr>\n",
       "      <th>4</th>\n",
       "      <td>2010-01-01</td>\n",
       "      <td>5</td>\n",
       "      <td>5142190439</td>\n",
       "      <td>5509006296254</td>\n",
       "      <td>TN</td>\n",
       "      <td>38118.0</td>\n",
       "      <td>3.62</td>\n",
       "      <td>0</td>\n",
       "      <td>2</td>\n",
       "      <td>3</td>\n",
       "      <td>...</td>\n",
       "      <td>2.0</td>\n",
       "      <td>3.0</td>\n",
       "      <td>3.0</td>\n",
       "      <td>3.0</td>\n",
       "      <td>2.0</td>\n",
       "      <td>2.0</td>\n",
       "      <td>2.0</td>\n",
       "      <td>0.0</td>\n",
       "      <td>0.0</td>\n",
       "      <td>0.0</td>\n",
       "    </tr>\n",
       "  </tbody>\n",
       "</table>\n",
       "<p>5 rows × 50 columns</p>\n",
       "</div>"
      ],
      "text/plain": [
       "        Date  Recnum     Cardnum       Merchnum Merch state  Merch zip  \\\n",
       "0 2010-01-01       1  5142190439  5509006296254          TN    38118.0   \n",
       "1 2010-01-01       2  5142183973    61003026333          MA     1803.0   \n",
       "2 2010-01-01       3  5142131721  4503082993600          MD    20706.0   \n",
       "3 2010-01-01       4  5142148452  5509006296254          TN    38118.0   \n",
       "4 2010-01-01       5  5142190439  5509006296254          TN    38118.0   \n",
       "\n",
       "   Amount  Fraud  order_cardnum  order_merchnum  ...  Cardnum_14_Count  \\\n",
       "0    3.62      0              1               1  ...               1.0   \n",
       "1   31.42      0              1               1  ...               1.0   \n",
       "2  178.49      0              1               1  ...               1.0   \n",
       "3    3.62      0              1               2  ...               1.0   \n",
       "4    3.62      0              2               3  ...               2.0   \n",
       "\n",
       "   Merchnum_1_Count  Merchnum_7_Count  Merchnum_14_Count  \\\n",
       "0               1.0               1.0                1.0   \n",
       "1               1.0               1.0                1.0   \n",
       "2               1.0               1.0                1.0   \n",
       "3               2.0               2.0                2.0   \n",
       "4               3.0               3.0                3.0   \n",
       "\n",
       "   Cardnum_Merch zip_1_Count  Cardnum_Merch zip_7_Count  \\\n",
       "0                        1.0                        1.0   \n",
       "1                        1.0                        1.0   \n",
       "2                        1.0                        1.0   \n",
       "3                        1.0                        1.0   \n",
       "4                        2.0                        2.0   \n",
       "\n",
       "   Cardnum_Merch zip_14_Count  Cardnum_last_time  Merchnum_last_time  \\\n",
       "0                         1.0                NaN                 NaN   \n",
       "1                         1.0                NaN                 NaN   \n",
       "2                         1.0                NaN                 NaN   \n",
       "3                         1.0                NaN                 NaN   \n",
       "4                         2.0                0.0                 0.0   \n",
       "\n",
       "   Cardnum_Merch zip_last_time  \n",
       "0                          NaN  \n",
       "1                          NaN  \n",
       "2                          NaN  \n",
       "3                          NaN  \n",
       "4                          0.0  \n",
       "\n",
       "[5 rows x 50 columns]"
      ]
     },
     "execution_count": 193,
     "metadata": {},
     "output_type": "execute_result"
    }
   ],
   "source": [
    "Variables.head()"
   ]
  },
  {
   "cell_type": "code",
   "execution_count": 195,
   "metadata": {
    "ExecuteTime": {
     "end_time": "2019-08-26T00:54:11.855579Z",
     "start_time": "2019-08-26T00:54:11.753701Z"
    }
   },
   "outputs": [],
   "source": [
    "Variables.drop(columns=['Date','Cardnum','Merchnum','Merch state','Merch zip','Amount'],inplace=True)\n",
    "Variables.fillna(-1,inplace=True)"
   ]
  },
  {
   "cell_type": "code",
   "execution_count": 208,
   "metadata": {
    "ExecuteTime": {
     "end_time": "2019-08-26T01:06:37.365273Z",
     "start_time": "2019-08-26T01:06:37.359309Z"
    }
   },
   "outputs": [
    {
     "data": {
      "text/plain": [
       "(96397, 41)"
      ]
     },
     "execution_count": 208,
     "metadata": {},
     "output_type": "execute_result"
    }
   ],
   "source": [
    "Variables.shape"
   ]
  },
  {
   "cell_type": "markdown",
   "metadata": {},
   "source": [
    "# Feature Selection"
   ]
  },
  {
   "cell_type": "code",
   "execution_count": 209,
   "metadata": {
    "ExecuteTime": {
     "end_time": "2019-08-26T01:06:39.494271Z",
     "start_time": "2019-08-26T01:06:39.490201Z"
    }
   },
   "outputs": [],
   "source": [
    "# First ten months is training and testing set, last two months is out-of-time set\n",
    "train_test = Variables.iloc[:83970,]\n",
    "oot = Variables.iloc[83970:,]"
   ]
  },
  {
   "cell_type": "code",
   "execution_count": 210,
   "metadata": {
    "ExecuteTime": {
     "end_time": "2019-08-26T01:06:41.162327Z",
     "start_time": "2019-08-26T01:06:41.152874Z"
    }
   },
   "outputs": [
    {
     "data": {
      "text/plain": [
       "((83970, 41), (12427, 41))"
      ]
     },
     "execution_count": 210,
     "metadata": {},
     "output_type": "execute_result"
    }
   ],
   "source": [
    "train_test.shape, oot.shape"
   ]
  },
  {
   "cell_type": "code",
   "execution_count": 211,
   "metadata": {
    "ExecuteTime": {
     "end_time": "2019-08-26T01:06:43.078657Z",
     "start_time": "2019-08-26T01:06:43.044651Z"
    }
   },
   "outputs": [
    {
     "data": {
      "text/html": [
       "<div>\n",
       "<style scoped>\n",
       "    .dataframe tbody tr th:only-of-type {\n",
       "        vertical-align: middle;\n",
       "    }\n",
       "\n",
       "    .dataframe tbody tr th {\n",
       "        vertical-align: top;\n",
       "    }\n",
       "\n",
       "    .dataframe thead th {\n",
       "        text-align: right;\n",
       "    }\n",
       "</style>\n",
       "<table border=\"1\" class=\"dataframe\">\n",
       "  <thead>\n",
       "    <tr style=\"text-align: right;\">\n",
       "      <th></th>\n",
       "      <th>Recnum</th>\n",
       "      <th>Fraud</th>\n",
       "      <th>Amount_avg_card_1</th>\n",
       "      <th>Amount_avg_card_7</th>\n",
       "      <th>Amount_avg_card_14</th>\n",
       "      <th>Amount_max_card_1</th>\n",
       "      <th>Amount_max_card_7</th>\n",
       "      <th>Amount_max_card_14</th>\n",
       "      <th>Amount_sum_card_1</th>\n",
       "      <th>Amount_sum_card_7</th>\n",
       "      <th>...</th>\n",
       "      <th>Cardnum_14_Count</th>\n",
       "      <th>Merchnum_1_Count</th>\n",
       "      <th>Merchnum_7_Count</th>\n",
       "      <th>Merchnum_14_Count</th>\n",
       "      <th>Cardnum_Merch zip_1_Count</th>\n",
       "      <th>Cardnum_Merch zip_7_Count</th>\n",
       "      <th>Cardnum_Merch zip_14_Count</th>\n",
       "      <th>Cardnum_last_time</th>\n",
       "      <th>Merchnum_last_time</th>\n",
       "      <th>Cardnum_Merch zip_last_time</th>\n",
       "    </tr>\n",
       "  </thead>\n",
       "  <tbody>\n",
       "    <tr>\n",
       "      <th>0</th>\n",
       "      <td>1</td>\n",
       "      <td>0</td>\n",
       "      <td>3.62</td>\n",
       "      <td>3.62</td>\n",
       "      <td>3.62</td>\n",
       "      <td>3.62</td>\n",
       "      <td>3.62</td>\n",
       "      <td>3.62</td>\n",
       "      <td>3.62</td>\n",
       "      <td>3.62</td>\n",
       "      <td>...</td>\n",
       "      <td>1.0</td>\n",
       "      <td>1.0</td>\n",
       "      <td>1.0</td>\n",
       "      <td>1.0</td>\n",
       "      <td>1.0</td>\n",
       "      <td>1.0</td>\n",
       "      <td>1.0</td>\n",
       "      <td>-1.0</td>\n",
       "      <td>-1.0</td>\n",
       "      <td>-1.0</td>\n",
       "    </tr>\n",
       "    <tr>\n",
       "      <th>1</th>\n",
       "      <td>2</td>\n",
       "      <td>0</td>\n",
       "      <td>31.42</td>\n",
       "      <td>31.42</td>\n",
       "      <td>31.42</td>\n",
       "      <td>31.42</td>\n",
       "      <td>31.42</td>\n",
       "      <td>31.42</td>\n",
       "      <td>31.42</td>\n",
       "      <td>31.42</td>\n",
       "      <td>...</td>\n",
       "      <td>1.0</td>\n",
       "      <td>1.0</td>\n",
       "      <td>1.0</td>\n",
       "      <td>1.0</td>\n",
       "      <td>1.0</td>\n",
       "      <td>1.0</td>\n",
       "      <td>1.0</td>\n",
       "      <td>-1.0</td>\n",
       "      <td>-1.0</td>\n",
       "      <td>-1.0</td>\n",
       "    </tr>\n",
       "    <tr>\n",
       "      <th>2</th>\n",
       "      <td>3</td>\n",
       "      <td>0</td>\n",
       "      <td>178.49</td>\n",
       "      <td>178.49</td>\n",
       "      <td>178.49</td>\n",
       "      <td>178.49</td>\n",
       "      <td>178.49</td>\n",
       "      <td>178.49</td>\n",
       "      <td>178.49</td>\n",
       "      <td>178.49</td>\n",
       "      <td>...</td>\n",
       "      <td>1.0</td>\n",
       "      <td>1.0</td>\n",
       "      <td>1.0</td>\n",
       "      <td>1.0</td>\n",
       "      <td>1.0</td>\n",
       "      <td>1.0</td>\n",
       "      <td>1.0</td>\n",
       "      <td>-1.0</td>\n",
       "      <td>-1.0</td>\n",
       "      <td>-1.0</td>\n",
       "    </tr>\n",
       "    <tr>\n",
       "      <th>3</th>\n",
       "      <td>4</td>\n",
       "      <td>0</td>\n",
       "      <td>3.62</td>\n",
       "      <td>3.62</td>\n",
       "      <td>3.62</td>\n",
       "      <td>3.62</td>\n",
       "      <td>3.62</td>\n",
       "      <td>3.62</td>\n",
       "      <td>3.62</td>\n",
       "      <td>3.62</td>\n",
       "      <td>...</td>\n",
       "      <td>1.0</td>\n",
       "      <td>2.0</td>\n",
       "      <td>2.0</td>\n",
       "      <td>2.0</td>\n",
       "      <td>1.0</td>\n",
       "      <td>1.0</td>\n",
       "      <td>1.0</td>\n",
       "      <td>-1.0</td>\n",
       "      <td>-1.0</td>\n",
       "      <td>-1.0</td>\n",
       "    </tr>\n",
       "    <tr>\n",
       "      <th>4</th>\n",
       "      <td>5</td>\n",
       "      <td>0</td>\n",
       "      <td>3.62</td>\n",
       "      <td>3.62</td>\n",
       "      <td>3.62</td>\n",
       "      <td>3.62</td>\n",
       "      <td>3.62</td>\n",
       "      <td>3.62</td>\n",
       "      <td>7.24</td>\n",
       "      <td>7.24</td>\n",
       "      <td>...</td>\n",
       "      <td>2.0</td>\n",
       "      <td>3.0</td>\n",
       "      <td>3.0</td>\n",
       "      <td>3.0</td>\n",
       "      <td>2.0</td>\n",
       "      <td>2.0</td>\n",
       "      <td>2.0</td>\n",
       "      <td>0.0</td>\n",
       "      <td>0.0</td>\n",
       "      <td>0.0</td>\n",
       "    </tr>\n",
       "  </tbody>\n",
       "</table>\n",
       "<p>5 rows × 41 columns</p>\n",
       "</div>"
      ],
      "text/plain": [
       "   Recnum  Fraud  Amount_avg_card_1  Amount_avg_card_7  Amount_avg_card_14  \\\n",
       "0       1      0               3.62               3.62                3.62   \n",
       "1       2      0              31.42              31.42               31.42   \n",
       "2       3      0             178.49             178.49              178.49   \n",
       "3       4      0               3.62               3.62                3.62   \n",
       "4       5      0               3.62               3.62                3.62   \n",
       "\n",
       "   Amount_max_card_1  Amount_max_card_7  Amount_max_card_14  \\\n",
       "0               3.62               3.62                3.62   \n",
       "1              31.42              31.42               31.42   \n",
       "2             178.49             178.49              178.49   \n",
       "3               3.62               3.62                3.62   \n",
       "4               3.62               3.62                3.62   \n",
       "\n",
       "   Amount_sum_card_1  Amount_sum_card_7  ...  Cardnum_14_Count  \\\n",
       "0               3.62               3.62  ...               1.0   \n",
       "1              31.42              31.42  ...               1.0   \n",
       "2             178.49             178.49  ...               1.0   \n",
       "3               3.62               3.62  ...               1.0   \n",
       "4               7.24               7.24  ...               2.0   \n",
       "\n",
       "   Merchnum_1_Count  Merchnum_7_Count  Merchnum_14_Count  \\\n",
       "0               1.0               1.0                1.0   \n",
       "1               1.0               1.0                1.0   \n",
       "2               1.0               1.0                1.0   \n",
       "3               2.0               2.0                2.0   \n",
       "4               3.0               3.0                3.0   \n",
       "\n",
       "   Cardnum_Merch zip_1_Count  Cardnum_Merch zip_7_Count  \\\n",
       "0                        1.0                        1.0   \n",
       "1                        1.0                        1.0   \n",
       "2                        1.0                        1.0   \n",
       "3                        1.0                        1.0   \n",
       "4                        2.0                        2.0   \n",
       "\n",
       "   Cardnum_Merch zip_14_Count  Cardnum_last_time  Merchnum_last_time  \\\n",
       "0                         1.0               -1.0                -1.0   \n",
       "1                         1.0               -1.0                -1.0   \n",
       "2                         1.0               -1.0                -1.0   \n",
       "3                         1.0               -1.0                -1.0   \n",
       "4                         2.0                0.0                 0.0   \n",
       "\n",
       "   Cardnum_Merch zip_last_time  \n",
       "0                         -1.0  \n",
       "1                         -1.0  \n",
       "2                         -1.0  \n",
       "3                         -1.0  \n",
       "4                          0.0  \n",
       "\n",
       "[5 rows x 41 columns]"
      ]
     },
     "execution_count": 211,
     "metadata": {},
     "output_type": "execute_result"
    }
   ],
   "source": [
    "train_test.head()"
   ]
  },
  {
   "cell_type": "markdown",
   "metadata": {},
   "source": [
    "## KS score and Fraud Detection Rate Selection"
   ]
  },
  {
   "cell_type": "code",
   "execution_count": 216,
   "metadata": {
    "ExecuteTime": {
     "end_time": "2019-08-26T01:10:51.429982Z",
     "start_time": "2019-08-26T01:10:51.418978Z"
    }
   },
   "outputs": [],
   "source": [
    "def KS_FDR_Selection(df):\n",
    "    df['Random'] = np.random.ranf(len(df))\n",
    "    nvars = df.shape[1]\n",
    "    goods = df[df['Fraud']==0]\n",
    "    bads = df[df['Fraud']==1]\n",
    "    \n",
    "    n_goods = goods.shape[0]\n",
    "    n_bads = bads.shape[0]\n",
    "\n",
    "    KS = pd.DataFrame(np.zeros((nvars,3)))\n",
    "    i=0\n",
    "    for column in df:\n",
    "        KS.loc[i,0] = column\n",
    "        i+=1\n",
    "    \n",
    "    KS.columns = ['field','ks','FDR']\n",
    "\n",
    "    import scipy.stats as sps\n",
    "    i = 0\n",
    "    for column in df:\n",
    "        KS['ks'][i] = sps.ks_2samp(goods[column],bads[column])[0]\n",
    "        i+=1\n",
    "    \n",
    "    KS.sort_values('ks',ascending=False,inplace=True)\n",
    "\n",
    "\n",
    "    topRows = int(round(len(df)*0.03))\n",
    "    j=0\n",
    "    for column in df:\n",
    "        desc = df.sort_values(column,ascending=False).head(topRows)\n",
    "        asce = df.sort_values(column,ascending=True).head(topRows)\n",
    "        FDR_desc = sum(desc.loc[:,'Fraud'])/n_bads\n",
    "        FDR_asce = sum(asce.loc[:,'Fraud'])/n_bads\n",
    "        FDRate = np.maximum(FDR_desc,FDR_asce)\n",
    "        KS.loc[j,'FDR'] = FDRate\n",
    "        j+=1\n",
    "    \n",
    "    KS.sort_values('ks',ascending=False,inplace=True)\n",
    "\n",
    "\n",
    "    KS['ks_rank'] = KS['ks'].rank(ascending=True)\n",
    "    KS['FDR_rank'] = KS['FDR'].rank(ascending=True)\n",
    "    KS['average_rank'] = (KS['ks_rank'] + KS['FDR_rank'])/2\n",
    "    KS.sort_values('average_rank',ascending=False,inplace=True)\n",
    "    \n",
    "    return KS"
   ]
  },
  {
   "cell_type": "code",
   "execution_count": 218,
   "metadata": {
    "ExecuteTime": {
     "end_time": "2019-08-26T01:11:43.070679Z",
     "start_time": "2019-08-26T01:11:38.320379Z"
    }
   },
   "outputs": [
    {
     "name": "stderr",
     "output_type": "stream",
     "text": [
      "/anaconda3/lib/python3.6/site-packages/ipykernel_launcher.py:2: SettingWithCopyWarning: \n",
      "A value is trying to be set on a copy of a slice from a DataFrame.\n",
      "Try using .loc[row_indexer,col_indexer] = value instead\n",
      "\n",
      "See the caveats in the documentation: http://pandas.pydata.org/pandas-docs/stable/indexing.html#indexing-view-versus-copy\n",
      "  \n",
      "/anaconda3/lib/python3.6/site-packages/ipykernel_launcher.py:21: SettingWithCopyWarning: \n",
      "A value is trying to be set on a copy of a slice from a DataFrame\n",
      "\n",
      "See the caveats in the documentation: http://pandas.pydata.org/pandas-docs/stable/indexing.html#indexing-view-versus-copy\n"
     ]
    }
   ],
   "source": [
    "KS = KS_FDR_Selection(train_test)"
   ]
  },
  {
   "cell_type": "code",
   "execution_count": 219,
   "metadata": {
    "ExecuteTime": {
     "end_time": "2019-08-26T01:11:45.132948Z",
     "start_time": "2019-08-26T01:11:45.120950Z"
    }
   },
   "outputs": [
    {
     "data": {
      "text/html": [
       "<div>\n",
       "<style scoped>\n",
       "    .dataframe tbody tr th:only-of-type {\n",
       "        vertical-align: middle;\n",
       "    }\n",
       "\n",
       "    .dataframe tbody tr th {\n",
       "        vertical-align: top;\n",
       "    }\n",
       "\n",
       "    .dataframe thead th {\n",
       "        text-align: right;\n",
       "    }\n",
       "</style>\n",
       "<table border=\"1\" class=\"dataframe\">\n",
       "  <thead>\n",
       "    <tr style=\"text-align: right;\">\n",
       "      <th></th>\n",
       "      <th>field</th>\n",
       "      <th>ks</th>\n",
       "      <th>FDR</th>\n",
       "      <th>ks_rank</th>\n",
       "      <th>FDR_rank</th>\n",
       "      <th>average_rank</th>\n",
       "    </tr>\n",
       "  </thead>\n",
       "  <tbody>\n",
       "    <tr>\n",
       "      <th>1</th>\n",
       "      <td>Fraud</td>\n",
       "      <td>1.000000</td>\n",
       "      <td>1.000000</td>\n",
       "      <td>42.0</td>\n",
       "      <td>42.0</td>\n",
       "      <td>42.0</td>\n",
       "    </tr>\n",
       "    <tr>\n",
       "      <th>27</th>\n",
       "      <td>Amount_sum_card_zip_7</td>\n",
       "      <td>0.678647</td>\n",
       "      <td>0.635227</td>\n",
       "      <td>41.0</td>\n",
       "      <td>41.0</td>\n",
       "      <td>41.0</td>\n",
       "    </tr>\n",
       "    <tr>\n",
       "      <th>28</th>\n",
       "      <td>Amount_sum_card_zip_14</td>\n",
       "      <td>0.668920</td>\n",
       "      <td>0.628409</td>\n",
       "      <td>40.0</td>\n",
       "      <td>40.0</td>\n",
       "      <td>40.0</td>\n",
       "    </tr>\n",
       "    <tr>\n",
       "      <th>26</th>\n",
       "      <td>Amount_sum_card_zip_1</td>\n",
       "      <td>0.603443</td>\n",
       "      <td>0.550000</td>\n",
       "      <td>37.0</td>\n",
       "      <td>39.0</td>\n",
       "      <td>38.0</td>\n",
       "    </tr>\n",
       "    <tr>\n",
       "      <th>9</th>\n",
       "      <td>Amount_sum_card_7</td>\n",
       "      <td>0.598221</td>\n",
       "      <td>0.519318</td>\n",
       "      <td>35.0</td>\n",
       "      <td>37.0</td>\n",
       "      <td>36.0</td>\n",
       "    </tr>\n",
       "  </tbody>\n",
       "</table>\n",
       "</div>"
      ],
      "text/plain": [
       "                     field        ks       FDR  ks_rank  FDR_rank  \\\n",
       "1                    Fraud  1.000000  1.000000     42.0      42.0   \n",
       "27   Amount_sum_card_zip_7  0.678647  0.635227     41.0      41.0   \n",
       "28  Amount_sum_card_zip_14  0.668920  0.628409     40.0      40.0   \n",
       "26   Amount_sum_card_zip_1  0.603443  0.550000     37.0      39.0   \n",
       "9        Amount_sum_card_7  0.598221  0.519318     35.0      37.0   \n",
       "\n",
       "    average_rank  \n",
       "1           42.0  \n",
       "27          41.0  \n",
       "28          40.0  \n",
       "26          38.0  \n",
       "9           36.0  "
      ]
     },
     "execution_count": 219,
     "metadata": {},
     "output_type": "execute_result"
    }
   ],
   "source": [
    "KS.head()"
   ]
  },
  {
   "cell_type": "code",
   "execution_count": 225,
   "metadata": {
    "ExecuteTime": {
     "end_time": "2019-08-26T01:16:19.531986Z",
     "start_time": "2019-08-26T01:16:19.518440Z"
    }
   },
   "outputs": [],
   "source": [
    "num_to_keep = round(train_test.shape[1]/2)\n",
    "cols_keep = list(KS['field'][1:num_to_keep])\n",
    "cols_keep.insert(0,'Fraud')\n",
    "cols_keep.insert(0,'Recnum')\n",
    "train_test_new = train_test.filter(cols_keep, axis=1)"
   ]
  },
  {
   "cell_type": "code",
   "execution_count": 226,
   "metadata": {
    "ExecuteTime": {
     "end_time": "2019-08-26T01:16:22.923130Z",
     "start_time": "2019-08-26T01:16:22.917791Z"
    }
   },
   "outputs": [
    {
     "data": {
      "text/plain": [
       "(83970, 22)"
      ]
     },
     "execution_count": 226,
     "metadata": {},
     "output_type": "execute_result"
    }
   ],
   "source": [
    "train_test_new.shape"
   ]
  },
  {
   "cell_type": "markdown",
   "metadata": {},
   "source": [
    "## Stepwise Regression Selection"
   ]
  },
  {
   "cell_type": "code",
   "execution_count": 233,
   "metadata": {
    "ExecuteTime": {
     "end_time": "2019-08-26T01:25:35.668677Z",
     "start_time": "2019-08-26T01:25:35.204626Z"
    }
   },
   "outputs": [],
   "source": [
    "from sklearn.linear_model import LogisticRegression\n",
    "from sklearn.feature_selection import RFECV\n",
    "from sklearn.feature_selection import RFE"
   ]
  },
  {
   "cell_type": "code",
   "execution_count": 236,
   "metadata": {
    "ExecuteTime": {
     "end_time": "2019-08-26T01:29:42.869381Z",
     "start_time": "2019-08-26T01:29:42.851814Z"
    }
   },
   "outputs": [],
   "source": [
    "Y = train_test_new['Fraud']\n",
    "data = train_test_new.drop(columns=['Recnum','Fraud'])"
   ]
  },
  {
   "cell_type": "code",
   "execution_count": 237,
   "metadata": {
    "ExecuteTime": {
     "end_time": "2019-08-26T01:29:45.009092Z",
     "start_time": "2019-08-26T01:29:44.999879Z"
    }
   },
   "outputs": [
    {
     "data": {
      "text/plain": [
       "((83970, 20), (83970,))"
      ]
     },
     "execution_count": 237,
     "metadata": {},
     "output_type": "execute_result"
    }
   ],
   "source": [
    "data.shape, Y.shape"
   ]
  },
  {
   "cell_type": "code",
   "execution_count": 238,
   "metadata": {
    "ExecuteTime": {
     "end_time": "2019-08-26T01:31:32.048107Z",
     "start_time": "2019-08-26T01:29:52.057518Z"
    }
   },
   "outputs": [
    {
     "name": "stdout",
     "output_type": "stream",
     "text": [
      "Fitting estimator with 20 features.\n"
     ]
    },
    {
     "name": "stderr",
     "output_type": "stream",
     "text": [
      "/anaconda3/lib/python3.6/site-packages/sklearn/linear_model/logistic.py:433: FutureWarning: Default solver will be changed to 'lbfgs' in 0.22. Specify a solver to silence this warning.\n",
      "  FutureWarning)\n",
      "/anaconda3/lib/python3.6/site-packages/sklearn/svm/base.py:931: ConvergenceWarning: Liblinear failed to converge, increase the number of iterations.\n",
      "  \"the number of iterations.\", ConvergenceWarning)\n",
      "/anaconda3/lib/python3.6/site-packages/sklearn/linear_model/logistic.py:433: FutureWarning: Default solver will be changed to 'lbfgs' in 0.22. Specify a solver to silence this warning.\n",
      "  FutureWarning)\n"
     ]
    },
    {
     "name": "stdout",
     "output_type": "stream",
     "text": [
      "Fitting estimator with 19 features.\n"
     ]
    },
    {
     "name": "stderr",
     "output_type": "stream",
     "text": [
      "/anaconda3/lib/python3.6/site-packages/sklearn/svm/base.py:931: ConvergenceWarning: Liblinear failed to converge, increase the number of iterations.\n",
      "  \"the number of iterations.\", ConvergenceWarning)\n",
      "/anaconda3/lib/python3.6/site-packages/sklearn/linear_model/logistic.py:433: FutureWarning: Default solver will be changed to 'lbfgs' in 0.22. Specify a solver to silence this warning.\n",
      "  FutureWarning)\n"
     ]
    },
    {
     "name": "stdout",
     "output_type": "stream",
     "text": [
      "Fitting estimator with 18 features.\n"
     ]
    },
    {
     "name": "stderr",
     "output_type": "stream",
     "text": [
      "/anaconda3/lib/python3.6/site-packages/sklearn/svm/base.py:931: ConvergenceWarning: Liblinear failed to converge, increase the number of iterations.\n",
      "  \"the number of iterations.\", ConvergenceWarning)\n",
      "/anaconda3/lib/python3.6/site-packages/sklearn/linear_model/logistic.py:433: FutureWarning: Default solver will be changed to 'lbfgs' in 0.22. Specify a solver to silence this warning.\n",
      "  FutureWarning)\n"
     ]
    },
    {
     "name": "stdout",
     "output_type": "stream",
     "text": [
      "Fitting estimator with 17 features.\n"
     ]
    },
    {
     "name": "stderr",
     "output_type": "stream",
     "text": [
      "/anaconda3/lib/python3.6/site-packages/sklearn/svm/base.py:931: ConvergenceWarning: Liblinear failed to converge, increase the number of iterations.\n",
      "  \"the number of iterations.\", ConvergenceWarning)\n",
      "/anaconda3/lib/python3.6/site-packages/sklearn/linear_model/logistic.py:433: FutureWarning: Default solver will be changed to 'lbfgs' in 0.22. Specify a solver to silence this warning.\n",
      "  FutureWarning)\n"
     ]
    },
    {
     "name": "stdout",
     "output_type": "stream",
     "text": [
      "Fitting estimator with 16 features.\n"
     ]
    },
    {
     "name": "stderr",
     "output_type": "stream",
     "text": [
      "/anaconda3/lib/python3.6/site-packages/sklearn/svm/base.py:931: ConvergenceWarning: Liblinear failed to converge, increase the number of iterations.\n",
      "  \"the number of iterations.\", ConvergenceWarning)\n",
      "/anaconda3/lib/python3.6/site-packages/sklearn/linear_model/logistic.py:433: FutureWarning: Default solver will be changed to 'lbfgs' in 0.22. Specify a solver to silence this warning.\n",
      "  FutureWarning)\n"
     ]
    },
    {
     "name": "stdout",
     "output_type": "stream",
     "text": [
      "Fitting estimator with 15 features.\n"
     ]
    },
    {
     "name": "stderr",
     "output_type": "stream",
     "text": [
      "/anaconda3/lib/python3.6/site-packages/sklearn/svm/base.py:931: ConvergenceWarning: Liblinear failed to converge, increase the number of iterations.\n",
      "  \"the number of iterations.\", ConvergenceWarning)\n",
      "/anaconda3/lib/python3.6/site-packages/sklearn/linear_model/logistic.py:433: FutureWarning: Default solver will be changed to 'lbfgs' in 0.22. Specify a solver to silence this warning.\n",
      "  FutureWarning)\n"
     ]
    },
    {
     "name": "stdout",
     "output_type": "stream",
     "text": [
      "Fitting estimator with 14 features.\n"
     ]
    },
    {
     "name": "stderr",
     "output_type": "stream",
     "text": [
      "/anaconda3/lib/python3.6/site-packages/sklearn/svm/base.py:931: ConvergenceWarning: Liblinear failed to converge, increase the number of iterations.\n",
      "  \"the number of iterations.\", ConvergenceWarning)\n",
      "/anaconda3/lib/python3.6/site-packages/sklearn/linear_model/logistic.py:433: FutureWarning: Default solver will be changed to 'lbfgs' in 0.22. Specify a solver to silence this warning.\n",
      "  FutureWarning)\n"
     ]
    },
    {
     "name": "stdout",
     "output_type": "stream",
     "text": [
      "Fitting estimator with 13 features.\n"
     ]
    },
    {
     "name": "stderr",
     "output_type": "stream",
     "text": [
      "/anaconda3/lib/python3.6/site-packages/sklearn/svm/base.py:931: ConvergenceWarning: Liblinear failed to converge, increase the number of iterations.\n",
      "  \"the number of iterations.\", ConvergenceWarning)\n",
      "/anaconda3/lib/python3.6/site-packages/sklearn/linear_model/logistic.py:433: FutureWarning: Default solver will be changed to 'lbfgs' in 0.22. Specify a solver to silence this warning.\n",
      "  FutureWarning)\n"
     ]
    },
    {
     "name": "stdout",
     "output_type": "stream",
     "text": [
      "Fitting estimator with 12 features.\n"
     ]
    },
    {
     "name": "stderr",
     "output_type": "stream",
     "text": [
      "/anaconda3/lib/python3.6/site-packages/sklearn/svm/base.py:931: ConvergenceWarning: Liblinear failed to converge, increase the number of iterations.\n",
      "  \"the number of iterations.\", ConvergenceWarning)\n",
      "/anaconda3/lib/python3.6/site-packages/sklearn/linear_model/logistic.py:433: FutureWarning: Default solver will be changed to 'lbfgs' in 0.22. Specify a solver to silence this warning.\n",
      "  FutureWarning)\n"
     ]
    },
    {
     "name": "stdout",
     "output_type": "stream",
     "text": [
      "Fitting estimator with 11 features.\n"
     ]
    },
    {
     "name": "stderr",
     "output_type": "stream",
     "text": [
      "/anaconda3/lib/python3.6/site-packages/sklearn/svm/base.py:931: ConvergenceWarning: Liblinear failed to converge, increase the number of iterations.\n",
      "  \"the number of iterations.\", ConvergenceWarning)\n",
      "/anaconda3/lib/python3.6/site-packages/sklearn/linear_model/logistic.py:433: FutureWarning: Default solver will be changed to 'lbfgs' in 0.22. Specify a solver to silence this warning.\n",
      "  FutureWarning)\n"
     ]
    },
    {
     "name": "stdout",
     "output_type": "stream",
     "text": [
      "Fitting estimator with 10 features.\n",
      "Fitting estimator with 9 features.\n"
     ]
    },
    {
     "name": "stderr",
     "output_type": "stream",
     "text": [
      "/anaconda3/lib/python3.6/site-packages/sklearn/linear_model/logistic.py:433: FutureWarning: Default solver will be changed to 'lbfgs' in 0.22. Specify a solver to silence this warning.\n",
      "  FutureWarning)\n",
      "/anaconda3/lib/python3.6/site-packages/sklearn/svm/base.py:931: ConvergenceWarning: Liblinear failed to converge, increase the number of iterations.\n",
      "  \"the number of iterations.\", ConvergenceWarning)\n",
      "/anaconda3/lib/python3.6/site-packages/sklearn/linear_model/logistic.py:433: FutureWarning: Default solver will be changed to 'lbfgs' in 0.22. Specify a solver to silence this warning.\n",
      "  FutureWarning)\n"
     ]
    },
    {
     "name": "stdout",
     "output_type": "stream",
     "text": [
      "Fitting estimator with 8 features.\n",
      "Fitting estimator with 7 features.\n"
     ]
    },
    {
     "name": "stderr",
     "output_type": "stream",
     "text": [
      "/anaconda3/lib/python3.6/site-packages/sklearn/linear_model/logistic.py:433: FutureWarning: Default solver will be changed to 'lbfgs' in 0.22. Specify a solver to silence this warning.\n",
      "  FutureWarning)\n"
     ]
    },
    {
     "name": "stdout",
     "output_type": "stream",
     "text": [
      "Fitting estimator with 6 features.\n"
     ]
    },
    {
     "name": "stderr",
     "output_type": "stream",
     "text": [
      "/anaconda3/lib/python3.6/site-packages/sklearn/linear_model/logistic.py:433: FutureWarning: Default solver will be changed to 'lbfgs' in 0.22. Specify a solver to silence this warning.\n",
      "  FutureWarning)\n"
     ]
    },
    {
     "name": "stdout",
     "output_type": "stream",
     "text": [
      "Fitting estimator with 5 features.\n"
     ]
    },
    {
     "name": "stderr",
     "output_type": "stream",
     "text": [
      "/anaconda3/lib/python3.6/site-packages/sklearn/linear_model/logistic.py:433: FutureWarning: Default solver will be changed to 'lbfgs' in 0.22. Specify a solver to silence this warning.\n",
      "  FutureWarning)\n",
      "/anaconda3/lib/python3.6/site-packages/sklearn/linear_model/logistic.py:433: FutureWarning: Default solver will be changed to 'lbfgs' in 0.22. Specify a solver to silence this warning.\n",
      "  FutureWarning)\n",
      "/anaconda3/lib/python3.6/site-packages/sklearn/linear_model/logistic.py:433: FutureWarning: Default solver will be changed to 'lbfgs' in 0.22. Specify a solver to silence this warning.\n",
      "  FutureWarning)\n"
     ]
    },
    {
     "data": {
      "text/plain": [
       "RFECV(cv=3,\n",
       "   estimator=LogisticRegression(C=1.0, class_weight=None, dual=False, fit_intercept=True,\n",
       "          intercept_scaling=1, max_iter=100, multi_class='warn',\n",
       "          n_jobs=None, penalty='l2', random_state=None, solver='warn',\n",
       "          tol=0.0001, verbose=0, warm_start=False),\n",
       "   min_features_to_select=1, n_jobs=-1, scoring='roc_auc', step=1,\n",
       "   verbose=3)"
      ]
     },
     "execution_count": 238,
     "metadata": {},
     "output_type": "execute_result"
    }
   ],
   "source": [
    "model = LogisticRegression()\n",
    "rfecv = RFECV(estimator=model, step=1, cv=3, verbose=3, n_jobs=-1, scoring='roc_auc')\n",
    "rfecv.fit(data, Y)"
   ]
  },
  {
   "cell_type": "code",
   "execution_count": 239,
   "metadata": {
    "ExecuteTime": {
     "end_time": "2019-08-26T01:31:42.189015Z",
     "start_time": "2019-08-26T01:31:42.018452Z"
    }
   },
   "outputs": [
    {
     "data": {
      "image/png": "[encoded data removed]",
      "text/plain": [
       "<Figure size 432x288 with 1 Axes>"
      ]
     },
     "metadata": {
      "needs_background": "light"
     },
     "output_type": "display_data"
    }
   ],
   "source": [
    "import matplotlib.pyplot as plt\n",
    "%matplotlib inline\n",
    "plt.plot(range(1, len(rfecv.grid_scores_) + 1), rfecv.grid_scores_);"
   ]
  },
  {
   "cell_type": "code",
   "execution_count": 240,
   "metadata": {
    "ExecuteTime": {
     "end_time": "2019-08-26T01:31:48.828881Z",
     "start_time": "2019-08-26T01:31:48.809842Z"
    }
   },
   "outputs": [
    {
     "data": {
      "text/html": [
       "<div>\n",
       "<style scoped>\n",
       "    .dataframe tbody tr th:only-of-type {\n",
       "        vertical-align: middle;\n",
       "    }\n",
       "\n",
       "    .dataframe tbody tr th {\n",
       "        vertical-align: top;\n",
       "    }\n",
       "\n",
       "    .dataframe thead th {\n",
       "        text-align: right;\n",
       "    }\n",
       "</style>\n",
       "<table border=\"1\" class=\"dataframe\">\n",
       "  <thead>\n",
       "    <tr style=\"text-align: right;\">\n",
       "      <th></th>\n",
       "      <th>ranking</th>\n",
       "      <th>variables</th>\n",
       "    </tr>\n",
       "  </thead>\n",
       "  <tbody>\n",
       "    <tr>\n",
       "      <th>0</th>\n",
       "      <td>1</td>\n",
       "      <td>Amount_avg_card_1</td>\n",
       "    </tr>\n",
       "    <tr>\n",
       "      <th>1</th>\n",
       "      <td>1</td>\n",
       "      <td>Amount_avg_card_7</td>\n",
       "    </tr>\n",
       "    <tr>\n",
       "      <th>2</th>\n",
       "      <td>1</td>\n",
       "      <td>Amount_avg_card_zip_7</td>\n",
       "    </tr>\n",
       "    <tr>\n",
       "      <th>3</th>\n",
       "      <td>1</td>\n",
       "      <td>Amount_max_card_zip_7</td>\n",
       "    </tr>\n",
       "    <tr>\n",
       "      <th>4</th>\n",
       "      <td>2</td>\n",
       "      <td>Amount_max_card_1</td>\n",
       "    </tr>\n",
       "    <tr>\n",
       "      <th>5</th>\n",
       "      <td>3</td>\n",
       "      <td>Amount_max_card_zip_1</td>\n",
       "    </tr>\n",
       "    <tr>\n",
       "      <th>6</th>\n",
       "      <td>4</td>\n",
       "      <td>Amount_max_card_7</td>\n",
       "    </tr>\n",
       "    <tr>\n",
       "      <th>7</th>\n",
       "      <td>5</td>\n",
       "      <td>Amount_max_merchant_1</td>\n",
       "    </tr>\n",
       "    <tr>\n",
       "      <th>8</th>\n",
       "      <td>6</td>\n",
       "      <td>Amount_max_card_14</td>\n",
       "    </tr>\n",
       "    <tr>\n",
       "      <th>9</th>\n",
       "      <td>7</td>\n",
       "      <td>Amount_max_card_zip_14</td>\n",
       "    </tr>\n",
       "    <tr>\n",
       "      <th>10</th>\n",
       "      <td>8</td>\n",
       "      <td>Amount_sum_card_1</td>\n",
       "    </tr>\n",
       "    <tr>\n",
       "      <th>11</th>\n",
       "      <td>9</td>\n",
       "      <td>Amount_avg_card_zip_1</td>\n",
       "    </tr>\n",
       "    <tr>\n",
       "      <th>12</th>\n",
       "      <td>10</td>\n",
       "      <td>Amount_sum_card_zip_1</td>\n",
       "    </tr>\n",
       "    <tr>\n",
       "      <th>13</th>\n",
       "      <td>11</td>\n",
       "      <td>Amount_sum_card_zip_14</td>\n",
       "    </tr>\n",
       "    <tr>\n",
       "      <th>14</th>\n",
       "      <td>12</td>\n",
       "      <td>Amount_sum_merchant_1</td>\n",
       "    </tr>\n",
       "    <tr>\n",
       "      <th>15</th>\n",
       "      <td>13</td>\n",
       "      <td>Amount_avg_merchant_1</td>\n",
       "    </tr>\n",
       "    <tr>\n",
       "      <th>16</th>\n",
       "      <td>14</td>\n",
       "      <td>Amount_avg_card_zip_14</td>\n",
       "    </tr>\n",
       "    <tr>\n",
       "      <th>17</th>\n",
       "      <td>15</td>\n",
       "      <td>Amount_sum_card_7</td>\n",
       "    </tr>\n",
       "    <tr>\n",
       "      <th>18</th>\n",
       "      <td>16</td>\n",
       "      <td>Amount_sum_card_14</td>\n",
       "    </tr>\n",
       "    <tr>\n",
       "      <th>19</th>\n",
       "      <td>17</td>\n",
       "      <td>Amount_sum_card_zip_7</td>\n",
       "    </tr>\n",
       "  </tbody>\n",
       "</table>\n",
       "</div>"
      ],
      "text/plain": [
       "    ranking               variables\n",
       "0         1       Amount_avg_card_1\n",
       "1         1       Amount_avg_card_7\n",
       "2         1   Amount_avg_card_zip_7\n",
       "3         1   Amount_max_card_zip_7\n",
       "4         2       Amount_max_card_1\n",
       "5         3   Amount_max_card_zip_1\n",
       "6         4       Amount_max_card_7\n",
       "7         5   Amount_max_merchant_1\n",
       "8         6      Amount_max_card_14\n",
       "9         7  Amount_max_card_zip_14\n",
       "10        8       Amount_sum_card_1\n",
       "11        9   Amount_avg_card_zip_1\n",
       "12       10   Amount_sum_card_zip_1\n",
       "13       11  Amount_sum_card_zip_14\n",
       "14       12   Amount_sum_merchant_1\n",
       "15       13   Amount_avg_merchant_1\n",
       "16       14  Amount_avg_card_zip_14\n",
       "17       15       Amount_sum_card_7\n",
       "18       16      Amount_sum_card_14\n",
       "19       17   Amount_sum_card_zip_7"
      ]
     },
     "execution_count": 240,
     "metadata": {},
     "output_type": "execute_result"
    }
   ],
   "source": [
    "var_selected = pd.DataFrame(sorted(zip(map(lambda x: round(x), rfecv.ranking_), data.columns)), columns=['ranking', 'variables'])\n",
    "pd.options.display.max_rows = 150\n",
    "var_selected"
   ]
  },
  {
   "cell_type": "code",
   "execution_count": 245,
   "metadata": {
    "ExecuteTime": {
     "end_time": "2019-08-26T01:33:45.043988Z",
     "start_time": "2019-08-26T01:33:45.036550Z"
    }
   },
   "outputs": [],
   "source": [
    "var_use = list(var_selected.iloc[:15,1])"
   ]
  },
  {
   "cell_type": "code",
   "execution_count": 247,
   "metadata": {
    "ExecuteTime": {
     "end_time": "2019-08-26T01:34:15.395702Z",
     "start_time": "2019-08-26T01:34:15.374066Z"
    }
   },
   "outputs": [],
   "source": [
    "df_res = Variables.filter(var_use,axis=1)"
   ]
  },
  {
   "cell_type": "code",
   "execution_count": 254,
   "metadata": {
    "ExecuteTime": {
     "end_time": "2019-08-26T01:36:12.930414Z",
     "start_time": "2019-08-26T01:36:11.200392Z"
    }
   },
   "outputs": [],
   "source": [
    "#df_res.to_csv('expert_variables.csv')"
   ]
  },
  {
   "cell_type": "markdown",
   "metadata": {},
   "source": [
    "# Models"
   ]
  },
  {
   "cell_type": "code",
   "execution_count": 42,
   "metadata": {
    "ExecuteTime": {
     "end_time": "2019-08-28T22:00:47.255912Z",
     "start_time": "2019-08-28T22:00:46.334312Z"
    }
   },
   "outputs": [],
   "source": [
    "from sklearn.model_selection import train_test_split, cross_val_score\n",
    "from sklearn.linear_model import LogisticRegression\n",
    "from sklearn.ensemble import RandomForestClassifier\n",
    "from sklearn.ensemble import GradientBoostingClassifier\n",
    "from sklearn.naive_bayes import GaussianNB"
   ]
  },
  {
   "cell_type": "code",
   "execution_count": 43,
   "metadata": {
    "ExecuteTime": {
     "end_time": "2019-08-28T22:00:47.718238Z",
     "start_time": "2019-08-28T22:00:47.490136Z"
    }
   },
   "outputs": [],
   "source": [
    "data = pd.read_csv('expert_variables.csv',index_col=0)"
   ]
  },
  {
   "cell_type": "code",
   "execution_count": 44,
   "metadata": {
    "ExecuteTime": {
     "end_time": "2019-08-28T22:00:48.231267Z",
     "start_time": "2019-08-28T22:00:48.224255Z"
    }
   },
   "outputs": [],
   "source": [
    "data['Fraud'] = df['Fraud']"
   ]
  },
  {
   "cell_type": "code",
   "execution_count": 45,
   "metadata": {
    "ExecuteTime": {
     "end_time": "2019-08-28T22:00:48.834313Z",
     "start_time": "2019-08-28T22:00:48.815166Z"
    }
   },
   "outputs": [
    {
     "data": {
      "text/html": [
       "<div>\n",
       "<style scoped>\n",
       "    .dataframe tbody tr th:only-of-type {\n",
       "        vertical-align: middle;\n",
       "    }\n",
       "\n",
       "    .dataframe tbody tr th {\n",
       "        vertical-align: top;\n",
       "    }\n",
       "\n",
       "    .dataframe thead th {\n",
       "        text-align: right;\n",
       "    }\n",
       "</style>\n",
       "<table border=\"1\" class=\"dataframe\">\n",
       "  <thead>\n",
       "    <tr style=\"text-align: right;\">\n",
       "      <th></th>\n",
       "      <th>Amount_avg_card_1</th>\n",
       "      <th>Amount_avg_card_7</th>\n",
       "      <th>Amount_avg_card_zip_7</th>\n",
       "      <th>Amount_max_card_zip_7</th>\n",
       "      <th>Amount_max_card_1</th>\n",
       "      <th>Amount_max_card_zip_1</th>\n",
       "      <th>Amount_max_card_7</th>\n",
       "      <th>Amount_max_merchant_1</th>\n",
       "      <th>Amount_max_card_14</th>\n",
       "      <th>Amount_max_card_zip_14</th>\n",
       "      <th>Amount_sum_card_1</th>\n",
       "      <th>Amount_avg_card_zip_1</th>\n",
       "      <th>Amount_sum_card_zip_1</th>\n",
       "      <th>Amount_sum_card_zip_14</th>\n",
       "      <th>Amount_sum_merchant_1</th>\n",
       "      <th>Fraud</th>\n",
       "    </tr>\n",
       "  </thead>\n",
       "  <tbody>\n",
       "    <tr>\n",
       "      <th>0</th>\n",
       "      <td>3.62</td>\n",
       "      <td>3.62</td>\n",
       "      <td>3.62</td>\n",
       "      <td>3.62</td>\n",
       "      <td>3.62</td>\n",
       "      <td>3.62</td>\n",
       "      <td>3.62</td>\n",
       "      <td>3.62</td>\n",
       "      <td>3.62</td>\n",
       "      <td>3.62</td>\n",
       "      <td>3.62</td>\n",
       "      <td>3.62</td>\n",
       "      <td>3.62</td>\n",
       "      <td>3.62</td>\n",
       "      <td>3.62</td>\n",
       "      <td>0</td>\n",
       "    </tr>\n",
       "    <tr>\n",
       "      <th>1</th>\n",
       "      <td>31.42</td>\n",
       "      <td>31.42</td>\n",
       "      <td>31.42</td>\n",
       "      <td>31.42</td>\n",
       "      <td>31.42</td>\n",
       "      <td>31.42</td>\n",
       "      <td>31.42</td>\n",
       "      <td>31.42</td>\n",
       "      <td>31.42</td>\n",
       "      <td>31.42</td>\n",
       "      <td>31.42</td>\n",
       "      <td>31.42</td>\n",
       "      <td>31.42</td>\n",
       "      <td>31.42</td>\n",
       "      <td>31.42</td>\n",
       "      <td>0</td>\n",
       "    </tr>\n",
       "    <tr>\n",
       "      <th>2</th>\n",
       "      <td>178.49</td>\n",
       "      <td>178.49</td>\n",
       "      <td>178.49</td>\n",
       "      <td>178.49</td>\n",
       "      <td>178.49</td>\n",
       "      <td>178.49</td>\n",
       "      <td>178.49</td>\n",
       "      <td>178.49</td>\n",
       "      <td>178.49</td>\n",
       "      <td>178.49</td>\n",
       "      <td>178.49</td>\n",
       "      <td>178.49</td>\n",
       "      <td>178.49</td>\n",
       "      <td>178.49</td>\n",
       "      <td>178.49</td>\n",
       "      <td>0</td>\n",
       "    </tr>\n",
       "    <tr>\n",
       "      <th>3</th>\n",
       "      <td>3.62</td>\n",
       "      <td>3.62</td>\n",
       "      <td>3.62</td>\n",
       "      <td>3.62</td>\n",
       "      <td>3.62</td>\n",
       "      <td>3.62</td>\n",
       "      <td>3.62</td>\n",
       "      <td>3.62</td>\n",
       "      <td>3.62</td>\n",
       "      <td>3.62</td>\n",
       "      <td>3.62</td>\n",
       "      <td>3.62</td>\n",
       "      <td>3.62</td>\n",
       "      <td>3.62</td>\n",
       "      <td>7.24</td>\n",
       "      <td>0</td>\n",
       "    </tr>\n",
       "    <tr>\n",
       "      <th>4</th>\n",
       "      <td>3.62</td>\n",
       "      <td>3.62</td>\n",
       "      <td>3.62</td>\n",
       "      <td>3.62</td>\n",
       "      <td>3.62</td>\n",
       "      <td>3.62</td>\n",
       "      <td>3.62</td>\n",
       "      <td>3.62</td>\n",
       "      <td>3.62</td>\n",
       "      <td>3.62</td>\n",
       "      <td>7.24</td>\n",
       "      <td>3.62</td>\n",
       "      <td>7.24</td>\n",
       "      <td>7.24</td>\n",
       "      <td>10.86</td>\n",
       "      <td>0</td>\n",
       "    </tr>\n",
       "  </tbody>\n",
       "</table>\n",
       "</div>"
      ],
      "text/plain": [
       "   Amount_avg_card_1  Amount_avg_card_7  Amount_avg_card_zip_7  \\\n",
       "0               3.62               3.62                   3.62   \n",
       "1              31.42              31.42                  31.42   \n",
       "2             178.49             178.49                 178.49   \n",
       "3               3.62               3.62                   3.62   \n",
       "4               3.62               3.62                   3.62   \n",
       "\n",
       "   Amount_max_card_zip_7  Amount_max_card_1  Amount_max_card_zip_1  \\\n",
       "0                   3.62               3.62                   3.62   \n",
       "1                  31.42              31.42                  31.42   \n",
       "2                 178.49             178.49                 178.49   \n",
       "3                   3.62               3.62                   3.62   \n",
       "4                   3.62               3.62                   3.62   \n",
       "\n",
       "   Amount_max_card_7  Amount_max_merchant_1  Amount_max_card_14  \\\n",
       "0               3.62                   3.62                3.62   \n",
       "1              31.42                  31.42               31.42   \n",
       "2             178.49                 178.49              178.49   \n",
       "3               3.62                   3.62                3.62   \n",
       "4               3.62                   3.62                3.62   \n",
       "\n",
       "   Amount_max_card_zip_14  Amount_sum_card_1  Amount_avg_card_zip_1  \\\n",
       "0                    3.62               3.62                   3.62   \n",
       "1                   31.42              31.42                  31.42   \n",
       "2                  178.49             178.49                 178.49   \n",
       "3                    3.62               3.62                   3.62   \n",
       "4                    3.62               7.24                   3.62   \n",
       "\n",
       "   Amount_sum_card_zip_1  Amount_sum_card_zip_14  Amount_sum_merchant_1  Fraud  \n",
       "0                   3.62                    3.62                   3.62      0  \n",
       "1                  31.42                   31.42                  31.42      0  \n",
       "2                 178.49                  178.49                 178.49      0  \n",
       "3                   3.62                    3.62                   7.24      0  \n",
       "4                   7.24                    7.24                  10.86      0  "
      ]
     },
     "execution_count": 45,
     "metadata": {},
     "output_type": "execute_result"
    }
   ],
   "source": [
    "data.head()"
   ]
  },
  {
   "cell_type": "code",
   "execution_count": 46,
   "metadata": {
    "ExecuteTime": {
     "end_time": "2019-08-28T22:00:51.896318Z",
     "start_time": "2019-08-28T22:00:51.892163Z"
    }
   },
   "outputs": [],
   "source": [
    "train_test = data.iloc[:83970,]\n",
    "oot = data.iloc[83970:,]"
   ]
  },
  {
   "cell_type": "code",
   "execution_count": 76,
   "metadata": {
    "ExecuteTime": {
     "end_time": "2019-08-28T21:32:00.014644Z",
     "start_time": "2019-08-28T21:32:00.000239Z"
    }
   },
   "outputs": [
    {
     "data": {
      "text/plain": [
       "((83970, 16), (12427, 16))"
      ]
     },
     "execution_count": 76,
     "metadata": {},
     "output_type": "execute_result"
    }
   ],
   "source": [
    "train_test.shape, oot.shape"
   ]
  },
  {
   "cell_type": "code",
   "execution_count": 47,
   "metadata": {
    "ExecuteTime": {
     "end_time": "2019-08-28T22:00:56.413115Z",
     "start_time": "2019-08-28T22:00:56.403496Z"
    }
   },
   "outputs": [],
   "source": [
    "Y = train_test['Fraud']\n",
    "X = train_test.drop(columns='Fraud')"
   ]
  },
  {
   "cell_type": "code",
   "execution_count": 48,
   "metadata": {
    "ExecuteTime": {
     "end_time": "2019-08-28T22:00:57.081836Z",
     "start_time": "2019-08-28T22:00:57.062717Z"
    }
   },
   "outputs": [],
   "source": [
    "X_train, X_test, y_train, y_test = train_test_split(X,Y,test_size=0.2,random_state=0)"
   ]
  },
  {
   "cell_type": "code",
   "execution_count": 49,
   "metadata": {
    "ExecuteTime": {
     "end_time": "2019-08-28T22:00:59.520545Z",
     "start_time": "2019-08-28T22:00:59.515424Z"
    }
   },
   "outputs": [],
   "source": [
    "X_oot = oot.drop(columns='Fraud')\n",
    "y_oot = oot['Fraud']"
   ]
  },
  {
   "cell_type": "code",
   "execution_count": 50,
   "metadata": {
    "ExecuteTime": {
     "end_time": "2019-08-28T22:01:01.219360Z",
     "start_time": "2019-08-28T22:01:01.212674Z"
    }
   },
   "outputs": [
    {
     "data": {
      "text/plain": [
       "((67176, 15), (16794, 15), (67176,), (16794,), (12427, 15), (12427,))"
      ]
     },
     "execution_count": 50,
     "metadata": {},
     "output_type": "execute_result"
    }
   ],
   "source": [
    "X_train.shape, X_test.shape, y_train.shape, y_test.shape, X_oot.shape, y_oot.shape"
   ]
  },
  {
   "cell_type": "code",
   "execution_count": 51,
   "metadata": {
    "ExecuteTime": {
     "end_time": "2019-08-28T22:01:05.243688Z",
     "start_time": "2019-08-28T22:01:05.237473Z"
    }
   },
   "outputs": [],
   "source": [
    "# Define performance measure metrics\n",
    "def Fraud_test(model, X, Y):\n",
    "    df = pd.DataFrame()\n",
    "    y_pred = model.predict(X)\n",
    "    y_proba = model.predict_proba(X)\n",
    "    y_proba = y_proba[:,1]\n",
    "    \n",
    "    df['y_proba'] = y_proba\n",
    "    df['y_pred'] = y_pred\n",
    "    df['y_real'] = Y.values\n",
    "    \n",
    "    df.sort_values(by = 'y_proba',ascending=False,inplace=True)\n",
    "    three_percent = df.iloc[:int(df.shape[0]*0.03),:]\n",
    "    \n",
    "    fdr = three_percent[three_percent['y_real']==1].shape[0]/sum(Y)\n",
    "    \n",
    "    return fdr"
   ]
  },
  {
   "cell_type": "markdown",
   "metadata": {},
   "source": [
    "## Logistic Regression"
   ]
  },
  {
   "cell_type": "code",
   "execution_count": 89,
   "metadata": {
    "ExecuteTime": {
     "end_time": "2019-08-28T21:37:25.197810Z",
     "start_time": "2019-08-28T21:37:07.748787Z"
    }
   },
   "outputs": [
    {
     "name": "stderr",
     "output_type": "stream",
     "text": [
      "/anaconda3/lib/python3.6/site-packages/sklearn/linear_model/logistic.py:433: FutureWarning: Default solver will be changed to 'lbfgs' in 0.22. Specify a solver to silence this warning.\n",
      "  FutureWarning)\n",
      "/anaconda3/lib/python3.6/site-packages/sklearn/svm/base.py:931: ConvergenceWarning: Liblinear failed to converge, increase the number of iterations.\n",
      "  \"the number of iterations.\", ConvergenceWarning)\n",
      "/anaconda3/lib/python3.6/site-packages/sklearn/linear_model/logistic.py:433: FutureWarning: Default solver will be changed to 'lbfgs' in 0.22. Specify a solver to silence this warning.\n",
      "  FutureWarning)\n",
      "/anaconda3/lib/python3.6/site-packages/sklearn/svm/base.py:931: ConvergenceWarning: Liblinear failed to converge, increase the number of iterations.\n",
      "  \"the number of iterations.\", ConvergenceWarning)\n",
      "/anaconda3/lib/python3.6/site-packages/sklearn/linear_model/logistic.py:433: FutureWarning: Default solver will be changed to 'lbfgs' in 0.22. Specify a solver to silence this warning.\n",
      "  FutureWarning)\n",
      "/anaconda3/lib/python3.6/site-packages/sklearn/svm/base.py:931: ConvergenceWarning: Liblinear failed to converge, increase the number of iterations.\n",
      "  \"the number of iterations.\", ConvergenceWarning)\n",
      "/anaconda3/lib/python3.6/site-packages/sklearn/linear_model/logistic.py:433: FutureWarning: Default solver will be changed to 'lbfgs' in 0.22. Specify a solver to silence this warning.\n",
      "  FutureWarning)\n",
      "/anaconda3/lib/python3.6/site-packages/sklearn/svm/base.py:931: ConvergenceWarning: Liblinear failed to converge, increase the number of iterations.\n",
      "  \"the number of iterations.\", ConvergenceWarning)\n",
      "/anaconda3/lib/python3.6/site-packages/sklearn/linear_model/logistic.py:433: FutureWarning: Default solver will be changed to 'lbfgs' in 0.22. Specify a solver to silence this warning.\n",
      "  FutureWarning)\n",
      "/anaconda3/lib/python3.6/site-packages/sklearn/svm/base.py:931: ConvergenceWarning: Liblinear failed to converge, increase the number of iterations.\n",
      "  \"the number of iterations.\", ConvergenceWarning)\n"
     ]
    }
   ],
   "source": [
    "d_log = {}\n",
    "for c in [0.1,0.5,1,2,10]:\n",
    "    log = LogisticRegression(C=c)\n",
    "    log.fit(X_train,y_train)\n",
    "\n",
    "    train_fdr = Fraud_test(log,X_train,y_train)\n",
    "    test_fdr = Fraud_test(log,X_test,y_test)\n",
    "    oot_fdr = Fraud_test(log,X_oot,y_oot)\n",
    "    \n",
    "    d_log[c] = [train_fdr,test_fdr,oot_fdr]"
   ]
  },
  {
   "cell_type": "code",
   "execution_count": 90,
   "metadata": {
    "ExecuteTime": {
     "end_time": "2019-08-28T21:37:27.346559Z",
     "start_time": "2019-08-28T21:37:27.340803Z"
    }
   },
   "outputs": [
    {
     "data": {
      "text/plain": [
       "{0.1: [0.3988919667590028, 0.3670886075949367, 0.2737430167597765],\n",
       " 0.5: [0.4002770083102493, 0.3670886075949367, 0.27932960893854747],\n",
       " 1: [0.389196675900277, 0.36075949367088606, 0.2569832402234637],\n",
       " 2: [0.3988919667590028, 0.37341772151898733, 0.30726256983240224],\n",
       " 10: [0.40443213296398894, 0.37341772151898733, 0.27932960893854747]}"
      ]
     },
     "execution_count": 90,
     "metadata": {},
     "output_type": "execute_result"
    }
   ],
   "source": [
    "d_log"
   ]
  },
  {
   "cell_type": "markdown",
   "metadata": {},
   "source": [
    "## Random Forest"
   ]
  },
  {
   "cell_type": "code",
   "execution_count": 92,
   "metadata": {
    "ExecuteTime": {
     "end_time": "2019-08-28T21:48:08.802324Z",
     "start_time": "2019-08-28T21:39:19.020975Z"
    }
   },
   "outputs": [],
   "source": [
    "d_rfc = {}\n",
    "for estimator in [20,50,100,200,500]:\n",
    "    for depth in [2,5,10,15,20]:\n",
    "        rfc = RandomForestClassifier(n_estimators=estimator, max_depth=depth,random_state=0)\n",
    "        rfc.fit(X_train,y_train)\n",
    "        d_rfc[str(estimator)+'/'+str(depth)] = [Fraud_test(rfc,X_train,y_train),Fraud_test(rfc,X_test,y_test),Fraud_test(rfc,X_oot,y_oot)]\n"
   ]
  },
  {
   "cell_type": "code",
   "execution_count": 93,
   "metadata": {
    "ExecuteTime": {
     "end_time": "2019-08-28T21:48:11.588443Z",
     "start_time": "2019-08-28T21:48:11.581521Z"
    }
   },
   "outputs": [
    {
     "data": {
      "text/plain": [
       "{'20/2': [0.6565096952908587, 0.5949367088607594, 0.37988826815642457],\n",
       " '20/5': [0.7506925207756233, 0.6835443037974683, 0.4245810055865922],\n",
       " '20/10': [0.9002770083102493, 0.8481012658227848, 0.5977653631284916],\n",
       " '20/15': [0.9833795013850416, 0.8481012658227848, 0.5698324022346368],\n",
       " '20/20': [1.0, 0.8227848101265823, 0.4972067039106145],\n",
       " '50/2': [0.6745152354570637, 0.6075949367088608, 0.4692737430167598],\n",
       " '50/5': [0.7686980609418282, 0.7025316455696202, 0.48044692737430167],\n",
       " '50/10': [0.9141274238227147, 0.8544303797468354, 0.6089385474860335],\n",
       " '50/15': [0.997229916897507, 0.8734177215189873, 0.5754189944134078],\n",
       " '50/20': [1.0, 0.8607594936708861, 0.5810055865921788],\n",
       " '100/2': [0.6759002770083102, 0.6139240506329114, 0.4692737430167598],\n",
       " '100/5': [0.7686980609418282, 0.689873417721519, 0.5586592178770949],\n",
       " '100/10': [0.9044321329639889, 0.8607594936708861, 0.6089385474860335],\n",
       " '100/15': [1.0, 0.879746835443038, 0.5977653631284916],\n",
       " '100/20': [1.0, 0.8734177215189873, 0.5810055865921788],\n",
       " '200/2': [0.6759002770083102, 0.6329113924050633, 0.4692737430167598],\n",
       " '200/5': [0.778393351800554, 0.7025316455696202, 0.5083798882681564],\n",
       " '200/10': [0.9127423822714681, 0.8607594936708861, 0.6033519553072626],\n",
       " '200/15': [1.0, 0.8734177215189873, 0.5810055865921788],\n",
       " '200/20': [1.0, 0.8607594936708861, 0.5698324022346368],\n",
       " '500/2': [0.6772853185595568, 0.6329113924050633, 0.4692737430167598],\n",
       " '500/5': [0.7797783933518005, 0.7088607594936709, 0.5418994413407822],\n",
       " '500/10': [0.9224376731301939, 0.8607594936708861, 0.6089385474860335],\n",
       " '500/15': [1.0, 0.8924050632911392, 0.5865921787709497],\n",
       " '500/20': [1.0, 0.8670886075949367, 0.5810055865921788]}"
      ]
     },
     "execution_count": 93,
     "metadata": {},
     "output_type": "execute_result"
    }
   ],
   "source": [
    "d_rfc"
   ]
  },
  {
   "cell_type": "markdown",
   "metadata": {},
   "source": [
    "## Gradient Boosted Tree"
   ]
  },
  {
   "cell_type": "code",
   "execution_count": 95,
   "metadata": {
    "ExecuteTime": {
     "end_time": "2019-08-28T21:52:28.282548Z",
     "start_time": "2019-08-28T21:48:48.205307Z"
    }
   },
   "outputs": [],
   "source": [
    "d_gbc = {}\n",
    "\n",
    "for estimator in [500,1000,1500]:\n",
    "    gbc = GradientBoostingClassifier(learning_rate=0.1,n_estimators=estimator)\n",
    "    gbc.fit(X_train,y_train)\n",
    "    d_gbc[str(estimator)] = [Fraud_test(gbc,X_train,y_train),Fraud_test(gbc,X_test,y_test),Fraud_test(gbc,X_oot,y_oot)]"
   ]
  },
  {
   "cell_type": "code",
   "execution_count": 96,
   "metadata": {
    "ExecuteTime": {
     "end_time": "2019-08-28T21:52:42.671345Z",
     "start_time": "2019-08-28T21:52:42.665828Z"
    }
   },
   "outputs": [
    {
     "data": {
      "text/plain": [
       "{'500': [0.9764542936288089, 0.8860759493670886, 0.3128491620111732],\n",
       " '1000': [0.9986149584487535, 0.9050632911392406, 0.4022346368715084],\n",
       " '1500': [1.0, 0.8987341772151899, 0.4245810055865922]}"
      ]
     },
     "execution_count": 96,
     "metadata": {},
     "output_type": "execute_result"
    }
   ],
   "source": [
    "d_gbc"
   ]
  },
  {
   "cell_type": "markdown",
   "metadata": {},
   "source": [
    "## Naive Bayes"
   ]
  },
  {
   "cell_type": "code",
   "execution_count": 97,
   "metadata": {
    "ExecuteTime": {
     "end_time": "2019-08-28T21:53:06.671645Z",
     "start_time": "2019-08-28T21:53:06.622613Z"
    }
   },
   "outputs": [
    {
     "data": {
      "text/plain": [
       "GaussianNB(priors=None, var_smoothing=1e-09)"
      ]
     },
     "execution_count": 97,
     "metadata": {},
     "output_type": "execute_result"
    }
   ],
   "source": [
    "gnb = GaussianNB()\n",
    "gnb.fit(X_train,y_train)"
   ]
  },
  {
   "cell_type": "code",
   "execution_count": 98,
   "metadata": {
    "ExecuteTime": {
     "end_time": "2019-08-28T21:53:08.363580Z",
     "start_time": "2019-08-28T21:53:08.250976Z"
    }
   },
   "outputs": [
    {
     "data": {
      "text/plain": [
       "(0.628808864265928, 0.5822784810126582, 0.41899441340782123)"
      ]
     },
     "execution_count": 98,
     "metadata": {},
     "output_type": "execute_result"
    }
   ],
   "source": [
    "(Fraud_test(gnb,X_train,y_train),Fraud_test(gnb,X_test,y_test),Fraud_test(gnb,X_oot,y_oot))"
   ]
  },
  {
   "cell_type": "markdown",
   "metadata": {},
   "source": [
    "# Result"
   ]
  },
  {
   "cell_type": "code",
   "execution_count": 54,
   "metadata": {
    "ExecuteTime": {
     "end_time": "2019-08-28T22:03:51.150715Z",
     "start_time": "2019-08-28T22:02:52.072755Z"
    }
   },
   "outputs": [
    {
     "data": {
      "text/plain": [
       "RandomForestClassifier(bootstrap=True, class_weight=None, criterion='gini',\n",
       "            max_depth=10, max_features='auto', max_leaf_nodes=None,\n",
       "            min_impurity_decrease=0.0, min_impurity_split=None,\n",
       "            min_samples_leaf=1, min_samples_split=2,\n",
       "            min_weight_fraction_leaf=0.0, n_estimators=500, n_jobs=None,\n",
       "            oob_score=False, random_state=0, verbose=0, warm_start=False)"
      ]
     },
     "execution_count": 54,
     "metadata": {},
     "output_type": "execute_result"
    }
   ],
   "source": [
    "rfc = RandomForestClassifier(n_estimators=500, max_depth=10,random_state=0)\n",
    "rfc.fit(X_train,y_train)"
   ]
  },
  {
   "cell_type": "code",
   "execution_count": 55,
   "metadata": {
    "ExecuteTime": {
     "end_time": "2019-08-28T22:03:57.070784Z",
     "start_time": "2019-08-28T22:03:56.976913Z"
    }
   },
   "outputs": [],
   "source": [
    "def Table(fea,lab):    \n",
    "        \n",
    "    prob=pd.DataFrame(rfc.predict_proba(fea))\n",
    "    result=pd.concat([pd.DataFrame(lab).reset_index(),prob],axis=1)\n",
    "    sort=result[['Fraud',1]].sort_values(by=1,ascending=False)\n",
    "    sort=sort.reset_index().reset_index()\n",
    "\n",
    "    groups=sort.groupby(pd.cut(sort.level_0,100))\n",
    "\n",
    "    #initialize \n",
    "    CumRecord=0\n",
    "    CumGood=0\n",
    "    CumBad=0\n",
    "    TotalGoods=len(sort[sort[\"Fraud\"]==0])\n",
    "    TotalBads=len(sort[sort[\"Fraud\"]==1])\n",
    "\n",
    "    GoodsPer=[]\n",
    "    BadsPer=[]\n",
    "    CumRecords=[]\n",
    "    CumGoods=[]\n",
    "    CumBads=[]\n",
    "    CumGoodsPer=[]\n",
    "    CumBadsPer=[]\n",
    "    KS=[]\n",
    "    FPR=[]\n",
    "\n",
    "    bins=np.linspace(1,20,20)\n",
    "    Records=groups.count().Fraud\n",
    "    Goods=Records-(groups.sum().Fraud)\n",
    "    Bads=groups.sum().Fraud\n",
    "\n",
    "    #Convert series into a list\n",
    "    RecordsList=Records.tolist()[:20]\n",
    "    GoodsList=Goods.tolist()[:20]\n",
    "    BadsList=Bads.tolist()[:20]\n",
    "\n",
    "    for i in range(20):\n",
    "        Record=RecordsList[i]\n",
    "        Good=GoodsList[i]\n",
    "        Bad=BadsList[i]\n",
    "\n",
    "        GoodPer=Good/Record\n",
    "        BadPer=Bad/Record\n",
    "        CumRecord+=Record\n",
    "        CumGood+=Good\n",
    "        CumBad+=Bad\n",
    "        CumGoodPer=CumGood/TotalGoods\n",
    "        CumBadPer=CumBad/TotalBads\n",
    "\n",
    "        GoodsPer.append(GoodPer)\n",
    "        BadsPer.append(BadPer)\n",
    "        CumRecords.append(CumRecord)\n",
    "        CumGoods.append(CumGood)\n",
    "        CumBads.append(CumBad)\n",
    "        CumGoodsPer.append(CumGoodPer)\n",
    "        CumBadsPer.append(CumBadPer)\n",
    "        KS.append(CumBadPer-CumGoodPer)\n",
    "        FPR.append(CumGood/CumBad)\n",
    "\n",
    "    table=pd.DataFrame([bins.tolist(),RecordsList,GoodsList,BadsList,GoodsPer,BadsPer,\n",
    "                      CumRecords,CumGoods,CumBads,\n",
    "                      CumGoodsPer,CumBadsPer,KS,FPR]).transpose()\n",
    "    table.columns=[\"Population Bin %\",\"# Records\",\"# Goods\",\"# Bads\",\n",
    "                      \"% Goods\", \"% Bads\", \"Total # Records\",\n",
    "                      \"Cumulative Good\",\"Cumulative Bad\",\"% Good\",\n",
    "                      \"% Bad (FDR)\",\"KS\",\"FPR\"]                            \n",
    "    return table"
   ]
  },
  {
   "cell_type": "code",
   "execution_count": 58,
   "metadata": {
    "ExecuteTime": {
     "end_time": "2019-08-28T22:04:52.826515Z",
     "start_time": "2019-08-28T22:04:49.835662Z"
    }
   },
   "outputs": [],
   "source": [
    "train = Table(X_train,y_train)\n",
    "test = Table(X_test,y_test)\n",
    "oot = Table(X_oot,y_oot)"
   ]
  },
  {
   "cell_type": "code",
   "execution_count": 57,
   "metadata": {
    "ExecuteTime": {
     "end_time": "2019-08-28T22:04:05.958194Z",
     "start_time": "2019-08-28T22:04:05.939614Z"
    }
   },
   "outputs": [
    {
     "data": {
      "text/html": [
       "<div>\n",
       "<style scoped>\n",
       "    .dataframe tbody tr th:only-of-type {\n",
       "        vertical-align: middle;\n",
       "    }\n",
       "\n",
       "    .dataframe tbody tr th {\n",
       "        vertical-align: top;\n",
       "    }\n",
       "\n",
       "    .dataframe thead th {\n",
       "        text-align: right;\n",
       "    }\n",
       "</style>\n",
       "<table border=\"1\" class=\"dataframe\">\n",
       "  <thead>\n",
       "    <tr style=\"text-align: right;\">\n",
       "      <th></th>\n",
       "      <th>Population Bin %</th>\n",
       "      <th># Records</th>\n",
       "      <th># Goods</th>\n",
       "      <th># Bads</th>\n",
       "      <th>% Goods</th>\n",
       "      <th>% Bads</th>\n",
       "      <th>Total # Records</th>\n",
       "      <th>Cumulative Good</th>\n",
       "      <th>Cumulative Bad</th>\n",
       "      <th>% Good</th>\n",
       "      <th>% Bad (FDR)</th>\n",
       "      <th>KS</th>\n",
       "      <th>FPR</th>\n",
       "    </tr>\n",
       "  </thead>\n",
       "  <tbody>\n",
       "    <tr>\n",
       "      <th>0</th>\n",
       "      <td>1.0</td>\n",
       "      <td>672.0</td>\n",
       "      <td>83.0</td>\n",
       "      <td>589.0</td>\n",
       "      <td>0.123512</td>\n",
       "      <td>0.876488</td>\n",
       "      <td>672.0</td>\n",
       "      <td>83.0</td>\n",
       "      <td>589.0</td>\n",
       "      <td>0.001249</td>\n",
       "      <td>0.815789</td>\n",
       "      <td>0.814540</td>\n",
       "      <td>0.140917</td>\n",
       "    </tr>\n",
       "    <tr>\n",
       "      <th>1</th>\n",
       "      <td>2.0</td>\n",
       "      <td>672.0</td>\n",
       "      <td>623.0</td>\n",
       "      <td>49.0</td>\n",
       "      <td>0.927083</td>\n",
       "      <td>0.072917</td>\n",
       "      <td>1344.0</td>\n",
       "      <td>706.0</td>\n",
       "      <td>638.0</td>\n",
       "      <td>0.010624</td>\n",
       "      <td>0.883657</td>\n",
       "      <td>0.873033</td>\n",
       "      <td>1.106583</td>\n",
       "    </tr>\n",
       "    <tr>\n",
       "      <th>2</th>\n",
       "      <td>3.0</td>\n",
       "      <td>672.0</td>\n",
       "      <td>644.0</td>\n",
       "      <td>28.0</td>\n",
       "      <td>0.958333</td>\n",
       "      <td>0.041667</td>\n",
       "      <td>2016.0</td>\n",
       "      <td>1350.0</td>\n",
       "      <td>666.0</td>\n",
       "      <td>0.020315</td>\n",
       "      <td>0.922438</td>\n",
       "      <td>0.902123</td>\n",
       "      <td>2.027027</td>\n",
       "    </tr>\n",
       "    <tr>\n",
       "      <th>3</th>\n",
       "      <td>4.0</td>\n",
       "      <td>672.0</td>\n",
       "      <td>658.0</td>\n",
       "      <td>14.0</td>\n",
       "      <td>0.979167</td>\n",
       "      <td>0.020833</td>\n",
       "      <td>2688.0</td>\n",
       "      <td>2008.0</td>\n",
       "      <td>680.0</td>\n",
       "      <td>0.030216</td>\n",
       "      <td>0.941828</td>\n",
       "      <td>0.911612</td>\n",
       "      <td>2.952941</td>\n",
       "    </tr>\n",
       "    <tr>\n",
       "      <th>4</th>\n",
       "      <td>5.0</td>\n",
       "      <td>671.0</td>\n",
       "      <td>658.0</td>\n",
       "      <td>13.0</td>\n",
       "      <td>0.980626</td>\n",
       "      <td>0.019374</td>\n",
       "      <td>3359.0</td>\n",
       "      <td>2666.0</td>\n",
       "      <td>693.0</td>\n",
       "      <td>0.040118</td>\n",
       "      <td>0.959834</td>\n",
       "      <td>0.919716</td>\n",
       "      <td>3.847042</td>\n",
       "    </tr>\n",
       "  </tbody>\n",
       "</table>\n",
       "</div>"
      ],
      "text/plain": [
       "   Population Bin %  # Records  # Goods  # Bads   % Goods    % Bads  \\\n",
       "0               1.0      672.0     83.0   589.0  0.123512  0.876488   \n",
       "1               2.0      672.0    623.0    49.0  0.927083  0.072917   \n",
       "2               3.0      672.0    644.0    28.0  0.958333  0.041667   \n",
       "3               4.0      672.0    658.0    14.0  0.979167  0.020833   \n",
       "4               5.0      671.0    658.0    13.0  0.980626  0.019374   \n",
       "\n",
       "   Total # Records  Cumulative Good  Cumulative Bad    % Good  % Bad (FDR)  \\\n",
       "0            672.0             83.0           589.0  0.001249     0.815789   \n",
       "1           1344.0            706.0           638.0  0.010624     0.883657   \n",
       "2           2016.0           1350.0           666.0  0.020315     0.922438   \n",
       "3           2688.0           2008.0           680.0  0.030216     0.941828   \n",
       "4           3359.0           2666.0           693.0  0.040118     0.959834   \n",
       "\n",
       "         KS       FPR  \n",
       "0  0.814540  0.140917  \n",
       "1  0.873033  1.106583  \n",
       "2  0.902123  2.027027  \n",
       "3  0.911612  2.952941  \n",
       "4  0.919716  3.847042  "
      ]
     },
     "execution_count": 57,
     "metadata": {},
     "output_type": "execute_result"
    }
   ],
   "source": [
    "train.head()"
   ]
  },
  {
   "cell_type": "code",
   "execution_count": 61,
   "metadata": {
    "ExecuteTime": {
     "end_time": "2019-08-28T22:05:39.561995Z",
     "start_time": "2019-08-28T22:05:39.551981Z"
    }
   },
   "outputs": [],
   "source": [
    "def FraudSaving(t=20,g=100):    \n",
    "        \n",
    "    prob=pd.DataFrame(rfc.predict_proba(X_oot))\n",
    "    result=pd.concat([pd.DataFrame(y_oot).reset_index(),prob],axis=1)\n",
    "    sort=result[['Fraud',1]].sort_values(by=1,ascending=False)\n",
    "    sort=sort.reset_index().reset_index()\n",
    "\n",
    "    groups=sort.groupby(pd.cut(sort.level_0,g))\n",
    "\n",
    "    bins=(np.linspace(1,g,100)/g)*100\n",
    "    Records=groups.count().Fraud\n",
    "    Goods=Records-(groups.sum().Fraud)\n",
    "    Bads=groups.sum().Fraud\n",
    "\n",
    "    #Convert series into a list\n",
    "    binsList=bins.tolist()[:t]\n",
    "    RecordsList=Records.tolist()[:t]\n",
    "    GoodsList=Goods.tolist()[:t]\n",
    "    BadsList=Bads.tolist()[:t]\n",
    "\n",
    "    #declare list\n",
    "    FraudSavingL=[]\n",
    "    LostSalesL=[]\n",
    "    OverallSavingL=[]\n",
    "    \n",
    "    #initialize\n",
    "    FraudSaving=0\n",
    "    LostSales=0\n",
    "    OverallSaving=0\n",
    "    \n",
    "    for i in range(t):\n",
    "        Record=RecordsList[i]\n",
    "        Good=GoodsList[i]\n",
    "        Bad=BadsList[i]\n",
    "\n",
    "        FraudSaving+=2000*Bad\n",
    "        LostSales+=50*Good\n",
    "        OverallSaving+=2000*Bad-50*Good\n",
    "        \n",
    "        FraudSavingL.append(FraudSaving)\n",
    "        LostSalesL.append(LostSales)\n",
    "        OverallSavingL.append(OverallSaving)\n",
    "\n",
    "\n",
    "    table=pd.DataFrame([binsList,RecordsList,GoodsList,BadsList,\n",
    "                        FraudSavingL,LostSalesL,OverallSavingL]).transpose()\n",
    "    table.columns=[\"Population Bin %\",\"# Records\",\"# Goods\",\"# Bads\",\n",
    "                     \"Fraud Saving\",\"Lost Sales\",\"Overall Savings\"]                            \n",
    "    return table"
   ]
  },
  {
   "cell_type": "code",
   "execution_count": 62,
   "metadata": {
    "ExecuteTime": {
     "end_time": "2019-08-28T22:05:40.893721Z",
     "start_time": "2019-08-28T22:05:40.496964Z"
    }
   },
   "outputs": [],
   "source": [
    "FraudSavingT=FraudSaving(t=100)"
   ]
  },
  {
   "cell_type": "code",
   "execution_count": 64,
   "metadata": {
    "ExecuteTime": {
     "end_time": "2019-08-28T22:06:28.415376Z",
     "start_time": "2019-08-28T22:06:28.269170Z"
    }
   },
   "outputs": [
    {
     "data": {
      "image/png": "[encoded data removed]",
      "text/plain": [
       "<Figure size 432x288 with 1 Axes>"
      ]
     },
     "metadata": {
      "needs_background": "light"
     },
     "output_type": "display_data"
    }
   ],
   "source": [
    "plt.plot('Population Bin %',\"Fraud Saving\",data=FraudSavingT,color='blue')\n",
    "plt.plot('Population Bin %',\"Lost Sales\",data=FraudSavingT,color='red')\n",
    "plt.plot('Population Bin %',\"Overall Savings\",data=FraudSavingT,color='green')\n",
    "plt.legend(['Fraud Saving','Lost Sales','Overall Savings'])\n",
    "plt.show()"
   ]
  },
  {
   "cell_type": "code",
   "execution_count": 67,
   "metadata": {
    "ExecuteTime": {
     "end_time": "2019-08-28T22:07:46.111154Z",
     "start_time": "2019-08-28T22:07:46.098555Z"
    }
   },
   "outputs": [
    {
     "data": {
      "text/html": [
       "<div>\n",
       "<style scoped>\n",
       "    .dataframe tbody tr th:only-of-type {\n",
       "        vertical-align: middle;\n",
       "    }\n",
       "\n",
       "    .dataframe tbody tr th {\n",
       "        vertical-align: top;\n",
       "    }\n",
       "\n",
       "    .dataframe thead th {\n",
       "        text-align: right;\n",
       "    }\n",
       "</style>\n",
       "<table border=\"1\" class=\"dataframe\">\n",
       "  <thead>\n",
       "    <tr style=\"text-align: right;\">\n",
       "      <th></th>\n",
       "      <th>Population Bin %</th>\n",
       "      <th># Records</th>\n",
       "      <th># Goods</th>\n",
       "      <th># Bads</th>\n",
       "      <th>Fraud Saving</th>\n",
       "      <th>Lost Sales</th>\n",
       "      <th>Overall Savings</th>\n",
       "    </tr>\n",
       "  </thead>\n",
       "  <tbody>\n",
       "    <tr>\n",
       "      <th>4</th>\n",
       "      <td>5.0</td>\n",
       "      <td>124.0</td>\n",
       "      <td>120.0</td>\n",
       "      <td>4.0</td>\n",
       "      <td>242000.0</td>\n",
       "      <td>25050.0</td>\n",
       "      <td>216950.0</td>\n",
       "    </tr>\n",
       "  </tbody>\n",
       "</table>\n",
       "</div>"
      ],
      "text/plain": [
       "   Population Bin %  # Records  # Goods  # Bads  Fraud Saving  Lost Sales  \\\n",
       "4               5.0      124.0    120.0     4.0      242000.0     25050.0   \n",
       "\n",
       "   Overall Savings  \n",
       "4         216950.0  "
      ]
     },
     "execution_count": 67,
     "metadata": {},
     "output_type": "execute_result"
    }
   ],
   "source": [
    "FraudSavingT[FraudSavingT['Overall Savings'] == max(FraudSavingT['Overall Savings'])]"
   ]
  },
  {
   "cell_type": "markdown",
   "metadata": {},
   "source": [
    "Therefore, looking at 5% of total population would optimize the company's overall savings in this scenario."
   ]
  }
 ],
 "metadata": {
  "kernelspec": {
   "display_name": "Python 3",
   "language": "python",
   "name": "python3"
  },
  "language_info": {
   "codemirror_mode": {
    "name": "ipython",
    "version": 3
   },
   "file_extension": ".py",
   "mimetype": "text/x-python",
   "name": "python",
   "nbconvert_exporter": "python",
   "pygments_lexer": "ipython3",
   "version": "3.6.8"
  },
  "toc": {
   "base_numbering": 1,
   "nav_menu": {},
   "number_sections": true,
   "sideBar": true,
   "skip_h1_title": false,
   "title_cell": "Table of Contents",
   "title_sidebar": "Contents",
   "toc_cell": false,
   "toc_position": {
    "height": "calc(100% - 180px)",
    "left": "10px",
    "top": "150px",
    "width": "316.46875px"
   },
   "toc_section_display": true,
   "toc_window_display": true
  },
  "varInspector": {
   "cols": {
    "lenName": 16,
    "lenType": 16,
    "lenVar": 40
   },
   "kernels_config": {
    "python": {
     "delete_cmd_postfix": "",
     "delete_cmd_prefix": "del ",
     "library": "var_list.py",
     "varRefreshCmd": "print(var_dic_list())"
    },
    "r": {
     "delete_cmd_postfix": ") ",
     "delete_cmd_prefix": "rm(",
     "library": "var_list.r",
     "varRefreshCmd": "cat(var_dic_list()) "
    }
   },
   "oldHeight": 209.172785282135,
   "position": {
    "height": "40px",
    "left": "1312.02197265625px",
    "right": "20px",
    "top": "120px",
    "width": "250.33087158203125px"
   },
   "types_to_exclude": [
    "module",
    "function",
    "builtin_function_or_method",
    "instance",
    "_Feature"
   ],
   "varInspector_section_display": "none",
   "window_display": true
  }
 },
 "nbformat": 4,
 "nbformat_minor": 2
}
