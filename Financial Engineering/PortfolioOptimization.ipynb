{
 "cells": [
  {
   "cell_type": "code",
   "execution_count": 1,
   "metadata": {},
   "outputs": [],
   "source": [
    "import numpy as np\n",
    "import pandas as pd\n",
    "import quandl"
   ]
  },
  {
   "cell_type": "code",
   "execution_count": 184,
   "metadata": {},
   "outputs": [],
   "source": [
    "stock = pd.read_csv('stocks.csv')\n",
    "stock = stock.iloc[:,1:]"
   ]
  },
  {
   "cell_type": "code",
   "execution_count": 2,
   "metadata": {},
   "outputs": [],
   "source": [
    "quandl.ApiConfig.api_key = 'mQsh7CqsmzGujFD4cj5y'"
   ]
  },
  {
   "cell_type": "code",
   "execution_count": 3,
   "metadata": {},
   "outputs": [],
   "source": [
    "test2 = quandl.get_table('WIKI/PRICES', ticker = ['AAPL','MSFT','WMT'],\n",
    "                        qopts = {'columns':['ticker','date','adj_close']},\n",
    "                        date = {'gte':'2015-01-01','lte':'2018-12-31'},\n",
    "                        paginate = True)"
   ]
  },
  {
   "cell_type": "code",
   "execution_count": 149,
   "metadata": {},
   "outputs": [],
   "source": [
    "clean_data = test2.pivot_table(index = 'date',\n",
    "                                       columns = 'ticker',\n",
    "                                       values = 'adj_close')"
   ]
  },
  {
   "cell_type": "code",
   "execution_count": 171,
   "metadata": {},
   "outputs": [],
   "source": [
    "def GetData(stockList, start, end):\n",
    "    '''\n",
    "    Function takes a list of stock codes, the start\n",
    "    and the end of analysis period as inputs and outputs\n",
    "    a data frame ready for analysis\n",
    "    '''\n",
    "    raw_data = quandl.get_table('WIKI/PRICES', ticker = stockList,\n",
    "                        qopts = {'columns':['ticker','date','adj_close']},\n",
    "                        date = {'gte': start,'lte': end},\n",
    "                        paginate = True)\n",
    "    \n",
    "    clean_data = raw_data.pivot_table(index = 'date',\n",
    "                                       columns = 'ticker',\n",
    "                                       values = 'adj_close')\n",
    "    \n",
    "    # I found sometimes there are NA values in dataframe (eg.AAPL), \n",
    "    # so I fill them with column mean\n",
    "    \n",
    "    if clean_data.isna().any().any():\n",
    "        print('NA values in the dataframe')\n",
    "        clean_data.fillna(clean_data.mean(), inplace = True)\n",
    "        return clean_data\n",
    "    \n",
    "    else:\n",
    "        return clean_data"
   ]
  },
  {
   "cell_type": "code",
   "execution_count": 172,
   "metadata": {},
   "outputs": [
    {
     "name": "stdout",
     "output_type": "stream",
     "text": [
      "NA values in the dataframe\n"
     ]
    }
   ],
   "source": [
    "test_data = GetData(['AAPL','MSFT','WMT'], '2015-01-01', '2018-12-31')"
   ]
  },
  {
   "cell_type": "code",
   "execution_count": 7,
   "metadata": {},
   "outputs": [],
   "source": [
    "def MeanVarCalculation(df):\n",
    "    '''\n",
    "    Function takes a dataframe of stock closing prices\n",
    "    as input and outputs an array of stock mean return \n",
    "    and covariance matrix\n",
    "    '''\n",
    "    n = df.shape[0]   #n: number of rows\n",
    "    m = df.shape[1]   #m: number of columns\n",
    "    array1 = np.array(df.iloc[1:,:])\n",
    "    array2 = np.array(df.iloc[0:n-1,:])\n",
    "    \n",
    "    ret = array1/array2 - 1\n",
    "    retMean = np.nanmean(ret, axis = 0)\n",
    "    covMatrix = np.cov(ret, rowvar = False)\n",
    "    \n",
    "    return retMean, covMatrix"
   ]
  },
  {
   "cell_type": "code",
   "execution_count": 177,
   "metadata": {},
   "outputs": [],
   "source": [
    "retMean, covMatrix = MeanVarCalculation(test_data)"
   ]
  },
  {
   "cell_type": "code",
   "execution_count": 181,
   "metadata": {},
   "outputs": [
    {
     "data": {
      "text/plain": [
       "array([[3.45420812e-04, 1.15542267e-04, 4.16417563e-05],\n",
       "       [1.15542267e-04, 2.15862916e-04, 4.65781848e-05],\n",
       "       [4.16417563e-05, 4.65781848e-05, 1.65815897e-04]])"
      ]
     },
     "execution_count": 181,
     "metadata": {},
     "output_type": "execute_result"
    }
   ],
   "source": [
    "covMatrix"
   ]
  },
  {
   "cell_type": "code",
   "execution_count": 8,
   "metadata": {},
   "outputs": [],
   "source": [
    "def WeightCalculation(covMatrix):\n",
    "    cov_inv = np.linalg.inv(covMatrix)\n",
    "    b = np.ones(len(covMatrix))\n",
    "    weight = np.dot(cov_inv , b)\n",
    "    weight = weight/weight.sum()\n",
    "    \n",
    "    return weight"
   ]
  },
  {
   "cell_type": "code",
   "execution_count": 183,
   "metadata": {},
   "outputs": [
    {
     "data": {
      "text/plain": [
       "array([0.14851352, 0.31385453, 0.53763195])"
      ]
     },
     "execution_count": 183,
     "metadata": {},
     "output_type": "execute_result"
    }
   ],
   "source": [
    "WeightCalculation(covMatrix)"
   ]
  },
  {
   "cell_type": "code",
   "execution_count": 186,
   "metadata": {},
   "outputs": [],
   "source": [
    "r, cov = MeanVarCalculation(stock)"
   ]
  },
  {
   "cell_type": "code",
   "execution_count": 187,
   "metadata": {},
   "outputs": [
    {
     "data": {
      "text/plain": [
       "array([ 5.08805994e-02,  3.98667868e-02,  1.47420624e-01,  7.91622513e-02,\n",
       "        1.60866178e-01,  8.24733144e-02,  1.29257072e-01, -1.01006992e-04,\n",
       "       -6.06161033e-03,  3.16235792e-01])"
      ]
     },
     "execution_count": 187,
     "metadata": {},
     "output_type": "execute_result"
    }
   ],
   "source": [
    "WeightCalculation(cov)"
   ]
  },
  {
   "cell_type": "code",
   "execution_count": 3,
   "metadata": {},
   "outputs": [],
   "source": [
    "sp500 = pd.read_csv('prices.csv')"
   ]
  },
  {
   "cell_type": "code",
   "execution_count": 4,
   "metadata": {},
   "outputs": [
    {
     "data": {
      "text/html": [
       "<div>\n",
       "<style scoped>\n",
       "    .dataframe tbody tr th:only-of-type {\n",
       "        vertical-align: middle;\n",
       "    }\n",
       "\n",
       "    .dataframe tbody tr th {\n",
       "        vertical-align: top;\n",
       "    }\n",
       "\n",
       "    .dataframe thead th {\n",
       "        text-align: right;\n",
       "    }\n",
       "</style>\n",
       "<table border=\"1\" class=\"dataframe\">\n",
       "  <thead>\n",
       "    <tr style=\"text-align: right;\">\n",
       "      <th></th>\n",
       "      <th>MMM</th>\n",
       "      <th>ACE</th>\n",
       "      <th>ABT</th>\n",
       "      <th>ANF</th>\n",
       "      <th>ADBE</th>\n",
       "      <th>AMD</th>\n",
       "      <th>AES</th>\n",
       "      <th>AET</th>\n",
       "      <th>AFL</th>\n",
       "      <th>A</th>\n",
       "      <th>...</th>\n",
       "      <th>WEC</th>\n",
       "      <th>WYNN</th>\n",
       "      <th>XEL</th>\n",
       "      <th>XRX</th>\n",
       "      <th>XLNX</th>\n",
       "      <th>XL</th>\n",
       "      <th>YHOO</th>\n",
       "      <th>YUM</th>\n",
       "      <th>ZMH</th>\n",
       "      <th>ZION</th>\n",
       "    </tr>\n",
       "  </thead>\n",
       "  <tbody>\n",
       "    <tr>\n",
       "      <th>0</th>\n",
       "      <td>126.75</td>\n",
       "      <td>30.51</td>\n",
       "      <td>40.05</td>\n",
       "      <td>21.75</td>\n",
       "      <td>25.60</td>\n",
       "      <td>7.01</td>\n",
       "      <td>3.24</td>\n",
       "      <td>42.04</td>\n",
       "      <td>31.59</td>\n",
       "      <td>19.14</td>\n",
       "      <td>...</td>\n",
       "      <td>25.65</td>\n",
       "      <td>13.50</td>\n",
       "      <td>11.35</td>\n",
       "      <td>8.16</td>\n",
       "      <td>22.03</td>\n",
       "      <td>80.23</td>\n",
       "      <td>17.60</td>\n",
       "      <td>25.12</td>\n",
       "      <td>40.30</td>\n",
       "      <td>40.64</td>\n",
       "    </tr>\n",
       "    <tr>\n",
       "      <th>1</th>\n",
       "      <td>126.27</td>\n",
       "      <td>30.69</td>\n",
       "      <td>40.44</td>\n",
       "      <td>21.34</td>\n",
       "      <td>26.30</td>\n",
       "      <td>6.94</td>\n",
       "      <td>3.45</td>\n",
       "      <td>42.33</td>\n",
       "      <td>31.60</td>\n",
       "      <td>19.05</td>\n",
       "      <td>...</td>\n",
       "      <td>25.59</td>\n",
       "      <td>13.40</td>\n",
       "      <td>11.54</td>\n",
       "      <td>8.28</td>\n",
       "      <td>22.94</td>\n",
       "      <td>80.70</td>\n",
       "      <td>18.10</td>\n",
       "      <td>24.55</td>\n",
       "      <td>40.40</td>\n",
       "      <td>40.27</td>\n",
       "    </tr>\n",
       "    <tr>\n",
       "      <th>2</th>\n",
       "      <td>127.19</td>\n",
       "      <td>31.97</td>\n",
       "      <td>40.70</td>\n",
       "      <td>22.11</td>\n",
       "      <td>27.51</td>\n",
       "      <td>7.16</td>\n",
       "      <td>3.45</td>\n",
       "      <td>42.75</td>\n",
       "      <td>32.00</td>\n",
       "      <td>19.96</td>\n",
       "      <td>...</td>\n",
       "      <td>26.48</td>\n",
       "      <td>13.29</td>\n",
       "      <td>12.25</td>\n",
       "      <td>8.44</td>\n",
       "      <td>24.24</td>\n",
       "      <td>82.97</td>\n",
       "      <td>18.94</td>\n",
       "      <td>24.99</td>\n",
       "      <td>40.66</td>\n",
       "      <td>41.39</td>\n",
       "    </tr>\n",
       "    <tr>\n",
       "      <th>3</th>\n",
       "      <td>127.07</td>\n",
       "      <td>31.78</td>\n",
       "      <td>38.87</td>\n",
       "      <td>22.07</td>\n",
       "      <td>28.51</td>\n",
       "      <td>7.17</td>\n",
       "      <td>3.37</td>\n",
       "      <td>42.18</td>\n",
       "      <td>31.73</td>\n",
       "      <td>19.78</td>\n",
       "      <td>...</td>\n",
       "      <td>26.05</td>\n",
       "      <td>13.31</td>\n",
       "      <td>11.80</td>\n",
       "      <td>8.31</td>\n",
       "      <td>25.45</td>\n",
       "      <td>82.51</td>\n",
       "      <td>19.15</td>\n",
       "      <td>25.15</td>\n",
       "      <td>40.26</td>\n",
       "      <td>41.59</td>\n",
       "    </tr>\n",
       "    <tr>\n",
       "      <th>4</th>\n",
       "      <td>125.70</td>\n",
       "      <td>31.17</td>\n",
       "      <td>39.85</td>\n",
       "      <td>22.40</td>\n",
       "      <td>27.13</td>\n",
       "      <td>6.69</td>\n",
       "      <td>3.35</td>\n",
       "      <td>42.23</td>\n",
       "      <td>31.80</td>\n",
       "      <td>18.82</td>\n",
       "      <td>...</td>\n",
       "      <td>26.11</td>\n",
       "      <td>13.02</td>\n",
       "      <td>12.60</td>\n",
       "      <td>8.27</td>\n",
       "      <td>24.71</td>\n",
       "      <td>81.47</td>\n",
       "      <td>18.75</td>\n",
       "      <td>25.27</td>\n",
       "      <td>40.00</td>\n",
       "      <td>42.03</td>\n",
       "    </tr>\n",
       "  </tbody>\n",
       "</table>\n",
       "<p>5 rows × 452 columns</p>\n",
       "</div>"
      ],
      "text/plain": [
       "      MMM    ACE    ABT    ANF   ADBE   AMD   AES    AET    AFL      A  ...    \\\n",
       "0  126.75  30.51  40.05  21.75  25.60  7.01  3.24  42.04  31.59  19.14  ...     \n",
       "1  126.27  30.69  40.44  21.34  26.30  6.94  3.45  42.33  31.60  19.05  ...     \n",
       "2  127.19  31.97  40.70  22.11  27.51  7.16  3.45  42.75  32.00  19.96  ...     \n",
       "3  127.07  31.78  38.87  22.07  28.51  7.17  3.37  42.18  31.73  19.78  ...     \n",
       "4  125.70  31.17  39.85  22.40  27.13  6.69  3.35  42.23  31.80  18.82  ...     \n",
       "\n",
       "     WEC   WYNN    XEL   XRX   XLNX     XL   YHOO    YUM    ZMH   ZION  \n",
       "0  25.65  13.50  11.35  8.16  22.03  80.23  17.60  25.12  40.30  40.64  \n",
       "1  25.59  13.40  11.54  8.28  22.94  80.70  18.10  24.55  40.40  40.27  \n",
       "2  26.48  13.29  12.25  8.44  24.24  82.97  18.94  24.99  40.66  41.39  \n",
       "3  26.05  13.31  11.80  8.31  25.45  82.51  19.15  25.15  40.26  41.59  \n",
       "4  26.11  13.02  12.60  8.27  24.71  81.47  18.75  25.27  40.00  42.03  \n",
       "\n",
       "[5 rows x 452 columns]"
      ]
     },
     "execution_count": 4,
     "metadata": {},
     "output_type": "execute_result"
    }
   ],
   "source": [
    "sp500.head()"
   ]
  },
  {
   "cell_type": "code",
   "execution_count": 5,
   "metadata": {},
   "outputs": [
    {
     "data": {
      "text/plain": [
       "(1258, 452)"
      ]
     },
     "execution_count": 5,
     "metadata": {},
     "output_type": "execute_result"
    }
   ],
   "source": [
    "sp500.shape"
   ]
  },
  {
   "cell_type": "code",
   "execution_count": 9,
   "metadata": {},
   "outputs": [],
   "source": [
    "ret, cov = MeanVarCalculation(sp500)"
   ]
  },
  {
   "cell_type": "code",
   "execution_count": 14,
   "metadata": {},
   "outputs": [],
   "source": [
    "weight = WeightCalculation(cov)"
   ]
  },
  {
   "cell_type": "code",
   "execution_count": 22,
   "metadata": {},
   "outputs": [
    {
     "data": {
      "text/plain": [
       "array([ 1.18281840e-02, -3.03377961e-02, -5.49641209e-03,  2.08445282e-03,\n",
       "       -5.12574318e-03,  7.30423818e-03, -4.15434584e-03,  2.00000710e-03,\n",
       "       -1.27079489e-02, -3.86724976e-03, -3.13767922e-03, -1.23088187e-02,\n",
       "        4.29704276e-03, -6.45858479e-03,  3.78572314e-03, -2.62571423e-02,\n",
       "        1.04962020e-02,  7.87136105e-02,  8.28488493e-03,  2.21408526e-02,\n",
       "       -1.12914071e-02,  5.68196758e-02, -3.39074334e-02, -3.87265985e-02,\n",
       "       -1.60786449e-03,  2.24726299e-02,  2.68281822e-03,  5.34182978e-03,\n",
       "       -2.44113911e-03, -7.66396887e-04,  1.43982331e-02,  1.77164095e-03,\n",
       "       -1.64620221e-02,  2.83909699e-02, -2.19913194e-02,  7.57195303e-03,\n",
       "        2.50756575e-02,  4.00125536e-03,  1.63450790e-02,  9.67853929e-04,\n",
       "       -6.39340379e-04,  4.95641707e-02,  2.12456042e-02,  3.27052041e-02,\n",
       "        1.63505405e-03, -2.02177472e-02, -4.66619353e-03,  4.63227959e-03,\n",
       "        1.14836688e-02, -2.77273713e-03,  2.18172739e-02,  1.88063874e-02,\n",
       "       -3.82049659e-02, -1.75406705e-02, -8.42452499e-03, -5.34040416e-03,\n",
       "        1.13259188e-02, -1.24069552e-02, -5.97853328e-03,  1.96530211e-02,\n",
       "       -3.42907809e-03, -2.59530830e-03, -7.64309285e-03,  4.47972671e-02,\n",
       "        1.01629502e-02,  1.15321613e-02, -3.18440437e-03,  5.23040088e-03,\n",
       "       -4.35646794e-03, -9.25010652e-03, -1.95519439e-03,  6.59845638e-03,\n",
       "       -1.15331749e-02, -1.00765267e-03,  7.24514924e-03, -1.45486947e-03,\n",
       "        6.87144573e-04, -1.19555996e-02,  6.62347115e-03,  2.84381380e-02,\n",
       "        9.75315279e-03,  4.01176935e-03, -1.15699367e-02,  2.64105664e-02,\n",
       "        5.80610125e-03,  2.23847535e-02, -8.96155644e-03, -1.53920828e-02,\n",
       "       -1.01191018e-02,  3.18458687e-02,  1.18438203e-02, -7.74809727e-03,\n",
       "       -4.67092129e-03,  2.42409309e-02,  9.43938349e-03, -1.50758937e-02,\n",
       "        5.02996174e-03,  2.30483263e-02, -2.64890433e-04,  5.38191397e-03,\n",
       "        6.49393457e-03, -1.26275935e-02, -1.32580094e-02,  7.23687479e-03,\n",
       "       -9.82153615e-03,  9.59419814e-03, -2.25440336e-02,  5.01259552e-02,\n",
       "        2.37165041e-03, -3.01535126e-02,  1.23531409e-03,  1.64292952e-02,\n",
       "        4.67874451e-03, -1.10836796e-02,  9.91600355e-03, -3.11968067e-02,\n",
       "       -1.04377860e-02, -1.22973736e-02, -2.15647662e-02,  2.68430195e-02,\n",
       "       -2.50147102e-03,  3.86596801e-03, -8.19073698e-03,  7.15560156e-03,\n",
       "        2.46605249e-03,  4.07843124e-03,  9.43270511e-04,  1.52779530e-02,\n",
       "        6.80587190e-03,  3.50562792e-02, -3.69281651e-02, -1.43243277e-03,\n",
       "        5.48890399e-04,  2.91566482e-02, -2.31543973e-02,  2.27706483e-02,\n",
       "       -9.42967438e-04, -2.48685177e-02,  1.88098038e-03, -2.14488506e-03,\n",
       "       -6.30368298e-03,  2.39371121e-02, -1.05862071e-02, -5.86198233e-03,\n",
       "       -2.40657476e-03, -2.23775998e-04, -1.51253408e-03, -4.35394894e-03,\n",
       "        7.74749021e-03,  5.44784414e-03, -4.88366491e-02, -3.56662159e-03,\n",
       "       -1.47994504e-02,  8.30047792e-03, -5.36572604e-03, -7.55721010e-02,\n",
       "       -2.01153127e-03, -2.14028845e-02, -3.75800344e-03,  2.30269286e-02,\n",
       "        1.01878683e-02,  1.25619262e-02,  1.68133781e-02,  2.82218595e-02,\n",
       "       -7.83277036e-03, -3.82709169e-03,  2.35753664e-04, -1.85853115e-02,\n",
       "       -8.36546750e-03,  1.27987792e-03,  3.43422559e-03,  8.93193061e-03,\n",
       "        6.09683317e-03,  1.59369345e-02, -1.47600062e-02, -1.71009360e-02,\n",
       "        2.27238967e-02, -4.79417019e-03,  1.79021341e-02,  1.36899641e-02,\n",
       "       -1.07079176e-03,  1.51878088e-02,  5.15116956e-02, -3.43455140e-03,\n",
       "       -7.92027912e-03,  1.89497847e-04,  8.56425167e-03, -2.55515339e-03,\n",
       "        1.18078941e-02, -2.62237749e-03,  4.60582784e-03,  3.46533710e-04,\n",
       "        4.08700980e-03,  1.84627605e-02,  1.56722199e-02,  5.19548273e-03,\n",
       "        2.93452969e-02,  9.09692000e-02,  4.85468317e-03,  2.01858564e-02,\n",
       "        3.94849161e-03, -1.60540898e-02,  1.47818119e-03,  7.69780165e-03,\n",
       "        2.34456937e-02,  2.86098106e-02, -8.62250412e-03, -2.92874589e-03,\n",
       "        5.05594822e-03,  1.21576960e-02, -5.71796984e-03,  7.92250438e-03,\n",
       "       -1.03833402e-02, -1.32157027e-03,  3.47049798e-03,  1.87064803e-03,\n",
       "        1.45252187e-02, -4.18341034e-03, -9.24302617e-03,  2.67792551e-02,\n",
       "       -6.11356277e-03,  3.26603419e-02,  1.42572458e-03, -1.09830294e-02,\n",
       "        6.26418001e-05,  5.17817858e-02,  5.50992938e-03, -3.81502265e-03,\n",
       "       -2.16454852e-02, -3.18899716e-03,  1.16865215e-02,  1.63115525e-02,\n",
       "        6.43957204e-02, -1.46191035e-02,  1.67531732e-02,  7.38977487e-04,\n",
       "       -5.84252682e-03,  8.20056548e-03,  1.48593725e-02,  5.01484511e-02,\n",
       "        4.30503321e-03,  2.02536081e-02, -5.73886600e-03, -3.49832200e-03,\n",
       "       -1.11594839e-03, -6.69811508e-03, -2.87721155e-02,  9.31333845e-03,\n",
       "       -2.15379662e-02,  7.04640476e-03,  1.73196113e-02, -3.18083442e-03,\n",
       "        1.41048173e-02,  4.94508609e-03, -5.80522126e-02, -7.32907452e-03,\n",
       "       -5.91229065e-03, -9.96309401e-03,  5.15371692e-03, -1.42547633e-02,\n",
       "       -2.80053006e-03, -1.14409609e-02,  1.76952110e-02,  2.13819408e-02,\n",
       "        6.46524528e-03, -1.61558507e-02, -1.06094051e-03,  3.95523111e-02,\n",
       "        8.52056564e-03,  1.54933902e-03, -3.86318032e-02, -5.48266359e-03,\n",
       "       -4.50461325e-03,  1.90152980e-02, -3.66916664e-03,  9.00489545e-03,\n",
       "       -6.51584605e-03, -5.06989530e-03,  9.33615980e-04, -3.09313802e-02,\n",
       "       -8.03663370e-03,  9.59769113e-03,  1.68921164e-02, -6.46794099e-03,\n",
       "        6.58386173e-03, -2.21493705e-04, -1.10475345e-03, -1.83317666e-02,\n",
       "       -1.01496312e-03,  1.05467130e-02,  4.11936269e-03,  4.21315821e-02,\n",
       "        2.23704684e-02, -3.64788939e-03, -3.29953547e-02,  9.02317481e-03,\n",
       "        9.64599814e-03,  1.59556557e-02,  1.49082580e-02,  5.52003327e-03,\n",
       "       -1.11422331e-02,  1.77429542e-02,  9.38873519e-03, -1.08444630e-02,\n",
       "        5.35634531e-03,  3.12369344e-03, -1.03936265e-02, -2.86617047e-03,\n",
       "        1.28689536e-02,  1.73169444e-03,  9.38282936e-03, -1.15925775e-02,\n",
       "        2.92091926e-03, -1.22500648e-02, -1.13641403e-02,  1.61369583e-02,\n",
       "       -6.64105042e-03,  4.94252688e-04, -2.08604805e-02,  1.96646182e-03,\n",
       "       -4.97863001e-03,  1.08315744e-02, -2.93413237e-02,  2.36397938e-02,\n",
       "        3.68870984e-03, -7.93904743e-03, -2.17801893e-02,  2.62791949e-03,\n",
       "        6.63712878e-03,  3.32717552e-02, -3.61555895e-02,  1.04478724e-02,\n",
       "       -1.06742795e-02, -3.38991228e-02, -5.18046155e-04, -1.82919420e-02,\n",
       "       -8.01039776e-04, -3.00296433e-03, -2.37426228e-02,  1.33268993e-02,\n",
       "        3.34805846e-02,  5.31959917e-03,  5.77149052e-03,  1.15788887e-02,\n",
       "       -1.46146860e-02, -9.59366140e-03, -5.37168418e-03, -3.84624611e-03,\n",
       "        7.28800669e-03,  7.29358544e-03, -7.14852138e-03,  1.45568959e-02,\n",
       "        1.05059564e-02, -3.28390099e-02,  4.06831820e-02,  7.25819173e-03,\n",
       "       -5.92797519e-03,  4.94924400e-03, -9.56407959e-03,  2.52167106e-03,\n",
       "       -1.23377800e-02, -1.38376654e-02, -1.54084655e-02, -2.22592290e-02,\n",
       "        1.09521960e-04, -3.87098448e-03,  1.46066528e-02,  1.21425391e-02,\n",
       "       -1.00212156e-02, -2.97554185e-04,  8.27668498e-03,  1.47680954e-02,\n",
       "       -6.70602979e-02,  3.38424285e-03,  1.33325238e-02, -7.30969887e-03,\n",
       "        1.39293543e-02,  2.10198283e-02, -6.00454218e-03, -1.36638708e-02,\n",
       "       -1.01355902e-02, -2.89355481e-03, -1.65489057e-02, -3.15168709e-03,\n",
       "       -3.00244734e-02, -3.03390834e-02,  1.20100597e-02, -2.33291727e-03,\n",
       "        2.82038914e-03, -9.48453295e-03,  1.22694697e-02,  2.24306430e-03,\n",
       "       -1.33514695e-02, -2.07598477e-02,  5.46946392e-03,  4.36159745e-03,\n",
       "       -8.58706081e-03, -7.67897278e-03, -3.18090477e-02, -1.81112778e-03,\n",
       "        1.10768697e-03,  1.94606939e-04, -1.84154111e-02, -1.04558513e-02,\n",
       "        1.28572199e-02, -1.76582169e-02, -2.31836409e-03,  3.86010858e-04,\n",
       "       -1.44921250e-02,  3.42886192e-02,  6.03354741e-03, -1.66607217e-02,\n",
       "       -1.12674214e-02,  2.89671522e-02,  5.42792426e-02, -1.42530469e-03,\n",
       "        3.54017484e-02,  1.51382051e-03, -6.50901460e-03, -1.02586085e-02,\n",
       "       -4.05963322e-03,  1.67613298e-02,  7.05210865e-03,  4.58822316e-03,\n",
       "       -1.85743758e-03,  9.15798124e-04, -2.02649615e-03,  1.83023770e-02,\n",
       "        4.77066511e-03,  6.02820345e-02,  3.19558313e-02, -6.31865772e-03,\n",
       "        4.26170057e-02,  2.68835980e-02,  9.02386104e-03,  1.06524324e-02,\n",
       "        1.32161603e-02, -7.28186556e-04, -1.04919166e-03,  1.11889529e-02,\n",
       "       -5.94184994e-03,  4.52318095e-03,  5.37543395e-02, -3.57447568e-03,\n",
       "        3.51034077e-02, -7.56613708e-03, -7.78436884e-03,  1.31270032e-02,\n",
       "       -4.06324029e-04,  1.85100682e-02, -2.45408641e-03,  1.72831847e-02])"
      ]
     },
     "execution_count": 22,
     "metadata": {},
     "output_type": "execute_result"
    }
   ],
   "source": [
    "weight"
   ]
  },
  {
   "cell_type": "code",
   "execution_count": 30,
   "metadata": {},
   "outputs": [],
   "source": [
    "indexes = []\n",
    "for index,value in enumerate(weight):\n",
    "    if value < 0:\n",
    "        indexes.append(names[index])"
   ]
  },
  {
   "cell_type": "code",
   "execution_count": 26,
   "metadata": {},
   "outputs": [
    {
     "data": {
      "text/plain": [
       "Index(['MMM', 'ACE', 'ABT', 'ANF', 'ADBE', 'AMD', 'AES', 'AET', 'AFL', 'A',\n",
       "       ...\n",
       "       'WEC', 'WYNN', 'XEL', 'XRX', 'XLNX', 'XL', 'YHOO', 'YUM', 'ZMH',\n",
       "       'ZION'],\n",
       "      dtype='object', length=452)"
      ]
     },
     "execution_count": 26,
     "metadata": {},
     "output_type": "execute_result"
    }
   ],
   "source": [
    "sp500.columns"
   ]
  },
  {
   "cell_type": "code",
   "execution_count": 27,
   "metadata": {},
   "outputs": [],
   "source": [
    "names = list(sp500.columns)"
   ]
  },
  {
   "cell_type": "code",
   "execution_count": 32,
   "metadata": {},
   "outputs": [
    {
     "data": {
      "text/plain": [
       "214"
      ]
     },
     "execution_count": 32,
     "metadata": {},
     "output_type": "execute_result"
    }
   ],
   "source": [
    "len(indexes)"
   ]
  },
  {
   "cell_type": "code",
   "execution_count": null,
   "metadata": {},
   "outputs": [],
   "source": []
  }
 ],
 "metadata": {
  "kernelspec": {
   "display_name": "Python 3",
   "language": "python",
   "name": "python3"
  },
  "language_info": {
   "codemirror_mode": {
    "name": "ipython",
    "version": 3
   },
   "file_extension": ".py",
   "mimetype": "text/x-python",
   "name": "python",
   "nbconvert_exporter": "python",
   "pygments_lexer": "ipython3",
   "version": "3.7.1"
  }
 },
 "nbformat": 4,
 "nbformat_minor": 2
}
