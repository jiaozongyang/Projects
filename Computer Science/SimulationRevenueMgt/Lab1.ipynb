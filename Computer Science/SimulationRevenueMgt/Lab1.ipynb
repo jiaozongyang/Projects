{
 "cells": [
  {
   "cell_type": "markdown",
   "metadata": {},
   "source": [
    "# Executive Summary"
   ]
  },
  {
   "cell_type": "markdown",
   "metadata": {},
   "source": [
    "My recommendation for manager is to adopt capacity rationing pricing. The new policy has a 50.6% increase in gain. Please note that the figure varies on the result of customer simulation, but generally rationing pricing gives the company a better return.\n",
    "#### Result:\n",
    "Constant Pricing Policy:\n",
    "optimal p: 245, expected profit: 2544.9\n",
    "<br> Dynamic Pricing Policy\n",
    "optimal p1:235 , optimal p2:310, expected profit: 3246.55\n",
    "<br> Capacity Rationing Pricing Policy\n",
    "optimal p1:230 , optimal p2:330, optimal 30: ,expected profit: 3833.6\n",
    "\n",
    "#### Recommendation: Adopt capacity rationing pricing policy and it is estimated that there is 50.6% increase in profit."
   ]
  },
  {
   "cell_type": "markdown",
   "metadata": {},
   "source": [
    "# Generating Customers"
   ]
  },
  {
   "cell_type": "code",
   "execution_count": 1,
   "metadata": {},
   "outputs": [],
   "source": [
    "import numpy as np\n",
    "import pandas as pd\n",
    "import matplotlib.pyplot as plt\n",
    "from scipy.stats import norm\n",
    "%matplotlib inline"
   ]
  },
  {
   "cell_type": "code",
   "execution_count": 2,
   "metadata": {},
   "outputs": [],
   "source": [
    "def generateCustomers():\n",
    "    #np.random.seed(42)\n",
    "    # Leisure customers\n",
    "    sizeL = int(norm(200,60).rvs())\n",
    "    if sizeL < 0:\n",
    "        sizeL = 0\n",
    "    LeisureTime = np.random.uniform(low=0,high=181,size=sizeL)\n",
    "    LeisurePay = norm(200,80).rvs(sizeL)\n",
    "    \n",
    "    # Business customers\n",
    "    sizeB = int(norm(60,20).rvs())\n",
    "    BusinessTime = np.random.uniform(low=0,high=15,size=sizeB)\n",
    "    BusinessPay = norm(350,120).rvs(sizeB)\n",
    "    \n",
    "    # concatenate \n",
    "    arrival_time = np.concatenate([LeisureTime, BusinessTime])\n",
    "    valuation = np.concatenate([LeisurePay,BusinessPay])\n",
    "    \n",
    "    # create dataframe\n",
    "    df = pd.DataFrame({'arrival_time':arrival_time,\n",
    "                      'valuation':valuation}).sort_values('arrival_time',ascending=False)\n",
    "    df.reset_index(inplace=True)\n",
    "    df = df.iloc[:,1:]\n",
    "    \n",
    "    return df"
   ]
  },
  {
   "cell_type": "code",
   "execution_count": 9,
   "metadata": {},
   "outputs": [
    {
     "data": {
      "text/plain": [
       "<matplotlib.axes._subplots.AxesSubplot at 0x1a17837f28>"
      ]
     },
     "execution_count": 9,
     "metadata": {},
     "output_type": "execute_result"
    },
    {
     "data": {
      "image/png": "[encoded data removed]",
      "text/plain": [
       "<Figure size 432x288 with 1 Axes>"
      ]
     },
     "metadata": {
      "needs_background": "light"
     },
     "output_type": "display_data"
    }
   ],
   "source": [
    "np.random.seed(42)\n",
    "generateCustomers().plot(x='arrival_time',y='valuation',kind='scatter')"
   ]
  },
  {
   "cell_type": "markdown",
   "metadata": {},
   "source": [
    "# Simulating Pricing Policies"
   ]
  },
  {
   "cell_type": "code",
   "execution_count": 10,
   "metadata": {},
   "outputs": [],
   "source": [
    "def simulateConstant(customers,seats,p):\n",
    "    temp = customers[customers['valuation']>=p]\n",
    "    \n",
    "    if temp.shape[0] < seats:\n",
    "        return temp.shape[0]*p\n",
    "    else:\n",
    "        return seats * p"
   ]
  },
  {
   "cell_type": "code",
   "execution_count": 11,
   "metadata": {},
   "outputs": [],
   "source": [
    "def simulateDynamic(customers,seats,p1,p2):\n",
    "    temp = customers[customers['valuation']>=p1]\n",
    "    \n",
    "    if temp[temp['arrival_time'] > 14].shape[0] > seats:\n",
    "        return seats * p1\n",
    "    \n",
    "    else:\n",
    "        r1 = temp[temp['arrival_time'] > 14].shape[0] * p1\n",
    "        seatsLeft = seats - temp[temp['arrival_time'] > 14].shape[0]\n",
    "        temp = temp[(temp['arrival_time'] <= 14)&(temp['valuation']>=p2)]\n",
    "        if temp.shape[0]<seatsLeft:\n",
    "            r2 = temp.shape[0] * p2\n",
    "        else:\n",
    "            r2 = seatsLeft * p2\n",
    "        \n",
    "        \n",
    "        return r1 + r2"
   ]
  },
  {
   "cell_type": "code",
   "execution_count": 12,
   "metadata": {},
   "outputs": [],
   "source": [
    "def simulateRationing(customers,seats,p1,p2,l):\n",
    "    temp = customers[customers['valuation']>=p1]\n",
    "    \n",
    "    if temp.shape[0] >= seats:\n",
    "        r1 = (seats - l) * p1\n",
    "        temp = temp[temp['valuation']>=p2]\n",
    "        if temp.shape[0] >= l:\n",
    "            r2 = l * p2\n",
    "        else:\n",
    "            r2 = temp.shape[0] * p1\n",
    "        \n",
    "        return r1+r2\n",
    "    \n",
    "    else:\n",
    "        if temp.shape[0] <= seats - l:\n",
    "            return temp.shape[0] * p1\n",
    "        else:\n",
    "            r1 = (temp.shape[0]-l)*p1\n",
    "            temp = temp.iloc[(seats-l):,:]\n",
    "            temp = temp[temp['valuation']>=p2]\n",
    "            r2 = temp.shape[0] * p2\n",
    "            return r1 + r2"
   ]
  },
  {
   "cell_type": "code",
   "execution_count": 13,
   "metadata": {},
   "outputs": [
    {
     "name": "stdout",
     "output_type": "stream",
     "text": [
      "Constant policy with 2 seats p=50 \t: 100\n",
      "Constant policy with 2 seats p=100 \t: 100\n",
      "Dynamic policy with 3 seats p1=40, p2=95 \t: 175\n",
      "Dynamic policy with 2 seats p1=40, p2=95 \t: 80\n",
      "Dynamic policy with 1 seats p1=50, p2=100 \t: 50\n",
      "Rationing policy with 3 seats p1=40, p2=100, l=1 \t: 180\n",
      "Rationing policy with 2 seats p1=40, p2=100, l=1 \t: 140\n",
      "Rationing policy with 1 seats p1=40, p2=95, l=1 \t: 95\n"
     ]
    }
   ],
   "source": [
    "data=[[170,50],[150,40],[13,95],[12,100]]\n",
    "customers=pd.DataFrame(data,columns=['arrival_time','valuation'])\n",
    "print('Constant policy with 2 seats p=50 \\t:',simulateConstant(customers,2,50))\n",
    "print('Constant policy with 2 seats p=100 \\t:',simulateConstant(customers,2,100))\n",
    "print('Dynamic policy with 3 seats p1=40, p2=95 \\t:',simulateDynamic(customers,3,40,95))\n",
    "print('Dynamic policy with 2 seats p1=40, p2=95 \\t:',simulateDynamic(customers,2,40,95))\n",
    "print('Dynamic policy with 1 seats p1=50, p2=100 \\t:',simulateDynamic(customers,1,50,100))\n",
    "print('Rationing policy with 3 seats p1=40, p2=100, l=1 \\t:',\\\n",
    "        simulateRationing(customers,3,40,100,1))\n",
    "print('Rationing policy with 2 seats p1=40, p2=100, l=1 \\t:',\\\n",
    "        simulateRationing(customers,2,40,100,1))\n",
    "print('Rationing policy with 1 seats p1=40, p2=95, l=1 \\t:',\\\n",
    "simulateRationing(customers,1,40,95,1))"
   ]
  },
  {
   "cell_type": "markdown",
   "metadata": {},
   "source": [
    "# Optimizing Parameters"
   ]
  },
  {
   "cell_type": "code",
   "execution_count": 17,
   "metadata": {},
   "outputs": [],
   "source": [
    "dfs = []\n",
    "for i in range(100):\n",
    "    df = generateCustomers()\n",
    "    dfs.append(df)"
   ]
  },
  {
   "cell_type": "code",
   "execution_count": 18,
   "metadata": {},
   "outputs": [],
   "source": [
    "p1s = range(230,260,5)\n",
    "p2s = range(290,340,5)"
   ]
  },
  {
   "cell_type": "markdown",
   "metadata": {},
   "source": [
    "###  Constant Pricing"
   ]
  },
  {
   "cell_type": "code",
   "execution_count": 19,
   "metadata": {},
   "outputs": [],
   "source": [
    "revenues1 = np.empty((len(dfs),len(p1s)))\n",
    "for i,df in enumerate(dfs):\n",
    "    for j, p1 in enumerate(p1s):\n",
    "        revenues1[i][j] = simulateConstant(df,100,p1)"
   ]
  },
  {
   "cell_type": "code",
   "execution_count": 20,
   "metadata": {},
   "outputs": [
    {
     "name": "stdout",
     "output_type": "stream",
     "text": [
      "Constant price policy: best p = 245 best expected profit = 2544.9000000000015\n"
     ]
    }
   ],
   "source": [
    "profit = np.mean(revenues1,axis=0)-20000\n",
    "profit_best_1 = max(profit)\n",
    "p1_best_1 = p1s[np.argmax(profit)]\n",
    "print('Constant price policy: best p =',p1_best_1,'best expected profit =',profit_best_1)"
   ]
  },
  {
   "cell_type": "code",
   "execution_count": 21,
   "metadata": {},
   "outputs": [
    {
     "data": {
      "text/plain": [
       "[<matplotlib.lines.Line2D at 0x1a17affc50>]"
      ]
     },
     "execution_count": 21,
     "metadata": {},
     "output_type": "execute_result"
    },
    {
     "data": {
      "image/png": "[encoded data removed]",
      "text/plain": [
       "<Figure size 432x288 with 1 Axes>"
      ]
     },
     "metadata": {
      "needs_background": "light"
     },
     "output_type": "display_data"
    }
   ],
   "source": [
    "plt.plot(p1s,profit)"
   ]
  },
  {
   "cell_type": "markdown",
   "metadata": {},
   "source": [
    "### Dynamic Pricing"
   ]
  },
  {
   "cell_type": "code",
   "execution_count": 22,
   "metadata": {},
   "outputs": [
    {
     "name": "stdout",
     "output_type": "stream",
     "text": [
      "Dynamic price policy: best p1 = 235 , best p2 = 310 ,best expected profit = 3246.5499999999993\n"
     ]
    }
   ],
   "source": [
    "revenues2 = np.empty((len(p1s),len(p2s)))\n",
    "for i,p1 in enumerate(p1s):\n",
    "    for j,p2 in enumerate(p2s):\n",
    "        temp = []\n",
    "        for df in dfs:\n",
    "            temp.append(simulateDynamic(df,100,p1,p2))\n",
    "        revenues2[i][j] = sum(temp)/len(temp)\n",
    "        \n",
    "profit_best_2=revenues2.max() - 20000\n",
    "p1_best_2 = p1s[np.unravel_index(np.argmax(revenues2, axis=None), revenues2.shape)[0]]\n",
    "p2_best_2 = p2s[np.unravel_index(np.argmax(revenues2, axis=None), revenues2.shape)[1]]\n",
    "print('Dynamic price policy: best p1 =',p1_best_2,', best p2 =', p2_best_2,',best expected profit =',profit_best_2)"
   ]
  },
  {
   "cell_type": "markdown",
   "metadata": {},
   "source": [
    "### Capacity Rationing Pricing"
   ]
  },
  {
   "cell_type": "code",
   "execution_count": 28,
   "metadata": {},
   "outputs": [],
   "source": [
    "ls = range(25,35,1)\n",
    "revenues3 = np.empty((len(p1s),len(p2s)))\n",
    "profits = []\n",
    "d = {}\n",
    "for l in ls:\n",
    "    for i,p1 in enumerate(p1s):\n",
    "        for j,p2 in enumerate(p2s):\n",
    "            temp2=[]\n",
    "            for df in dfs:\n",
    "                temp2.append(simulateRationing(df,100,p1,p2,l))\n",
    "            revenues3[i][j] = sum(temp2)/len(temp2)\n",
    "    p = revenues3.max() - 20000\n",
    "        \n",
    "    profits.append(p)  \n",
    "\n",
    "l_best = ls[np.argmax(profits)]"
   ]
  },
  {
   "cell_type": "code",
   "execution_count": 29,
   "metadata": {},
   "outputs": [
    {
     "data": {
      "text/plain": [
       "(3833.5999999999985, 30)"
      ]
     },
     "execution_count": 29,
     "metadata": {},
     "output_type": "execute_result"
    }
   ],
   "source": [
    "profits[np.argmax(profits)],ls[np.argmax(profits)]"
   ]
  },
  {
   "cell_type": "code",
   "execution_count": 30,
   "metadata": {},
   "outputs": [
    {
     "name": "stdout",
     "output_type": "stream",
     "text": [
      "Capacity rationing policy: best p1 = 230 , best p2 = 330 , best l =  30 ,best expected profit= 3833.5999999999985\n"
     ]
    }
   ],
   "source": [
    "revenues4 = np.empty((len(p1s),len(p2s)))\n",
    "for i,p1 in enumerate(p1s):\n",
    "    for j,p2 in enumerate(p2s):\n",
    "        temp = []\n",
    "        for df in dfs:\n",
    "            temp.append(simulateRationing(df,100,p1,p2,l_best))\n",
    "        revenues4[i][j] = sum(temp)/len(temp)\n",
    "        \n",
    "profit_best_3 = profits[np.argmax(profits)]\n",
    "p1_best_3 = p1s[np.unravel_index(np.argmax(revenues4, axis=None), revenues4.shape)[0]]\n",
    "p2_best_3 = p2s[np.unravel_index(np.argmax(revenues4, axis=None), revenues4.shape)[1]]\n",
    "\n",
    "print('Capacity rationing policy: best p1 =',p1_best_3,', best p2 =', p2_best_3,', best l = ', l_best,',best expected profit=',profit_best_3)"
   ]
  },
  {
   "cell_type": "code",
   "execution_count": 31,
   "metadata": {},
   "outputs": [
    {
     "data": {
      "text/plain": [
       "0.5063853196589243"
      ]
     },
     "execution_count": 31,
     "metadata": {},
     "output_type": "execute_result"
    }
   ],
   "source": [
    "profit_best_3/profit_best_1-1"
   ]
  },
  {
   "cell_type": "code",
   "execution_count": null,
   "metadata": {},
   "outputs": [],
   "source": []
  }
 ],
 "metadata": {
  "kernelspec": {
   "display_name": "Python 3",
   "language": "python",
   "name": "python3"
  },
  "language_info": {
   "codemirror_mode": {
    "name": "ipython",
    "version": 3
   },
   "file_extension": ".py",
   "mimetype": "text/x-python",
   "name": "python",
   "nbconvert_exporter": "python",
   "pygments_lexer": "ipython3",
   "version": "3.6.8"
  }
 },
 "nbformat": 4,
 "nbformat_minor": 2
}
